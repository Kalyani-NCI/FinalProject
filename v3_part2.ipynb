{
 "cells": [
  {
   "cell_type": "code",
   "id": "initial_id",
   "metadata": {
    "collapsed": true,
    "ExecuteTime": {
     "end_time": "2024-11-04T13:07:32.316495Z",
     "start_time": "2024-11-04T13:07:00.580148Z"
    }
   },
   "source": [
    "import os\n",
    "import librosa\n",
    "import numpy as np\n",
    "from sklearn.model_selection import train_test_split\n",
    "from sklearn.svm import SVC\n",
    "from sklearn.ensemble import RandomForestClassifier,AdaBoostClassifier\n",
    "from sklearn.metrics import classification_report, accuracy_score,confusion_matrix\n",
    "from sklearn.metrics import f1_score, precision_score, recall_score \n",
    "import matplotlib.pyplot as plt\n",
    "import seaborn as sns\n",
    "from imblearn.over_sampling import SMOTE\n",
    "from collections import Counter\n",
    "from sklearn.utils import resample\n",
    "import xgboost as xgb\n",
    "from sklearn.neighbors import KNeighborsClassifier\n",
    "from sklearn.ensemble import GradientBoostingClassifier\n",
    "from sklearn.neural_network import MLPClassifier\n",
    "from sklearn.preprocessing import LabelBinarizer\n",
    "from keras.utils import to_categorical\n",
    "from keras.models import Sequential\n",
    "from keras.layers import LSTM, Dense, Dropout,Flatten,SimpleRNN\n",
    "import pandas as pd\n",
    "from ctgan import CTGAN"
   ],
   "outputs": [],
   "execution_count": 1
  },
  {
   "metadata": {
    "ExecuteTime": {
     "end_time": "2024-11-04T13:16:53.052136Z",
     "start_time": "2024-11-04T13:16:52.864199Z"
    }
   },
   "cell_type": "code",
   "source": [
    "# Dataset Path\n",
    "data_path = 'D:/NCI/Sem 3/Thesis/code_DB/dataset'"
   ],
   "id": "85b464fb5855adf3",
   "outputs": [],
   "execution_count": 2
  },
  {
   "metadata": {
    "ExecuteTime": {
     "end_time": "2024-11-04T13:16:54.033332Z",
     "start_time": "2024-11-04T13:16:54.005841Z"
    }
   },
   "cell_type": "code",
   "source": [
    "#classes\n",
    "class_labels = ['belly_pain', 'burping', 'discomfort', 'hungry', 'tired']\n",
    "\n",
    "# Initialize lists to hold features and labels\n",
    "X = []\n",
    "y = []\n",
    "\n",
    "# Parameters for feature extraction\n",
    "n_mfcc = 13  # Number of MFCC features to extract\n",
    "n_chroma = 12  # Number of chroma features\n",
    "n_spectral_contrast = 7  # Number of spectral contrast features\n",
    "max_pad_len = 174  # Ensure all audio files have the same length"
   ],
   "id": "145a7dc7fd7894f",
   "outputs": [],
   "execution_count": 3
  },
  {
   "metadata": {
    "ExecuteTime": {
     "end_time": "2024-11-04T13:16:55.914991Z",
     "start_time": "2024-11-04T13:16:55.852077Z"
    }
   },
   "cell_type": "code",
   "source": [
    "def extract_features(file_path):\n",
    "    \"\"\"Extract various audio features from a given audio file.\"\"\"\n",
    "    audio, sample_rate = librosa.load(file_path, res_type='kaiser_fast')\n",
    "    \n",
    "    # Extract MFCCs\n",
    "    mfccs = librosa.feature.mfcc(y=audio, sr=sample_rate, n_mfcc=n_mfcc)\n",
    "    \n",
    "    # Extract Chroma features\n",
    "    chroma = librosa.feature.chroma_stft(y=audio, sr=sample_rate, n_chroma=n_chroma)\n",
    "    \n",
    "    # Extract Spectral Contrast\n",
    "    spectral_contrast = librosa.feature.spectral_contrast(y=audio, sr=sample_rate)\n",
    "    \n",
    "    # Extract Mel-spectrogram\n",
    "    mel_spectrogram = librosa.feature.melspectrogram(y=audio, sr=sample_rate)\n",
    "    \n",
    "    # Pad or truncate features to fixed length\n",
    "    pad_width = max_pad_len - mfccs.shape[1]\n",
    "    if pad_width > 0:\n",
    "        mfccs = np.pad(mfccs, pad_width=((0, 0), (0, pad_width)), mode='constant')\n",
    "        chroma = np.pad(chroma, pad_width=((0, 0), (0, pad_width)), mode='constant')\n",
    "        spectral_contrast = np.pad(spectral_contrast, pad_width=((0, 0), (0, pad_width)), mode='constant')\n",
    "        mel_spectrogram = np.pad(mel_spectrogram, pad_width=((0, 0), (0, pad_width)), mode='constant')\n",
    "    else:\n",
    "        mfccs = mfccs[:, :max_pad_len]\n",
    "        chroma = chroma[:, :max_pad_len]\n",
    "        spectral_contrast = spectral_contrast[:, :max_pad_len]\n",
    "        mel_spectrogram = mel_spectrogram[:, :max_pad_len]\n",
    "    \n",
    "    # Stack features into a single array\n",
    "    combined_features = np.vstack((mfccs, chroma, spectral_contrast, mel_spectrogram))\n",
    "    \n",
    "    return combined_features"
   ],
   "id": "76baf64f847890b2",
   "outputs": [],
   "execution_count": 4
  },
  {
   "metadata": {
    "ExecuteTime": {
     "end_time": "2024-11-04T13:18:00.362910Z",
     "start_time": "2024-11-04T13:16:57.258391Z"
    }
   },
   "cell_type": "code",
   "source": [
    "# Loop through each class folder and extract features\n",
    "for i, label in enumerate(class_labels):\n",
    "    folder_path = os.path.join(data_path, label)\n",
    "    for file_name in os.listdir(folder_path):\n",
    "        if file_name.endswith('.wav'):\n",
    "            file_path = os.path.join(folder_path, file_name)\n",
    "            features = extract_features(file_path)\n",
    "            X.append(features)\n",
    "            y.append(i)  # Store the class label as an integer"
   ],
   "id": "1268ef135d37395c",
   "outputs": [],
   "execution_count": 5
  },
  {
   "metadata": {
    "ExecuteTime": {
     "end_time": "2024-11-04T13:18:00.425420Z",
     "start_time": "2024-11-04T13:18:00.362910Z"
    }
   },
   "cell_type": "code",
   "source": [
    "# Convert to numpy arrays\n",
    "X = np.array(X)\n",
    "y = np.array(y)\n",
    "\n",
    "X1=X\n",
    "y1=y"
   ],
   "id": "603e191775e87bc9",
   "outputs": [],
   "execution_count": 6
  },
  {
   "metadata": {
    "ExecuteTime": {
     "end_time": "2024-11-04T13:18:00.441044Z",
     "start_time": "2024-11-04T13:18:00.425420Z"
    }
   },
   "cell_type": "code",
   "source": [
    "# Reshape X to be suitable for the SVM\n",
    "X = X.reshape(X.shape[0], -1)  # Flatten the feature array\n",
    "\n",
    "print(f'Extracted {X.shape[0]} samples with shape {X.shape}')"
   ],
   "id": "47e85404f0a64172",
   "outputs": [
    {
     "name": "stdout",
     "output_type": "stream",
     "text": [
      "Extracted 457 samples with shape (457, 27840)\n"
     ]
    }
   ],
   "execution_count": 7
  },
  {
   "metadata": {
    "ExecuteTime": {
     "end_time": "2024-11-04T13:18:00.536451Z",
     "start_time": "2024-11-04T13:18:00.441044Z"
    }
   },
   "cell_type": "code",
   "source": [
    "#Split the data into training and test sets\n",
    "X_train, X_test, y_train, y_test = train_test_split(X, y, test_size=0.2, random_state=42)"
   ],
   "id": "af45520cbfee776d",
   "outputs": [],
   "execution_count": 8
  },
  {
   "metadata": {
    "ExecuteTime": {
     "end_time": "2024-11-04T13:18:00.552343Z",
     "start_time": "2024-11-04T13:18:00.539783Z"
    }
   },
   "cell_type": "code",
   "source": "results_df = pd.DataFrame(columns=['Model', 'Accuracy'])",
   "id": "3af8079ab68164fd",
   "outputs": [],
   "execution_count": 9
  },
  {
   "metadata": {
    "ExecuteTime": {
     "end_time": "2024-10-23T11:34:43.492791Z",
     "start_time": "2024-10-23T11:34:43.477155Z"
    }
   },
   "cell_type": "code",
   "source": [
    "# Initializing the SVM model\n",
    "svm_model = SVC(kernel='linear')\n"
   ],
   "id": "f29d5f578438a972",
   "outputs": [],
   "execution_count": 17
  },
  {
   "metadata": {
    "ExecuteTime": {
     "end_time": "2024-10-23T11:39:39.987409Z",
     "start_time": "2024-10-23T11:39:37.933429Z"
    }
   },
   "cell_type": "code",
   "source": [
    "# Training the SVM model\n",
    "svm_model.fit(X_train, y_train)\n"
   ],
   "id": "5ba47bdd2a15a01c",
   "outputs": [
    {
     "data": {
      "text/plain": [
       "SVC(kernel='linear')"
      ],
      "text/html": [
       "<style>#sk-container-id-3 {color: black;}#sk-container-id-3 pre{padding: 0;}#sk-container-id-3 div.sk-toggleable {background-color: white;}#sk-container-id-3 label.sk-toggleable__label {cursor: pointer;display: block;width: 100%;margin-bottom: 0;padding: 0.3em;box-sizing: border-box;text-align: center;}#sk-container-id-3 label.sk-toggleable__label-arrow:before {content: \"▸\";float: left;margin-right: 0.25em;color: #696969;}#sk-container-id-3 label.sk-toggleable__label-arrow:hover:before {color: black;}#sk-container-id-3 div.sk-estimator:hover label.sk-toggleable__label-arrow:before {color: black;}#sk-container-id-3 div.sk-toggleable__content {max-height: 0;max-width: 0;overflow: hidden;text-align: left;background-color: #f0f8ff;}#sk-container-id-3 div.sk-toggleable__content pre {margin: 0.2em;color: black;border-radius: 0.25em;background-color: #f0f8ff;}#sk-container-id-3 input.sk-toggleable__control:checked~div.sk-toggleable__content {max-height: 200px;max-width: 100%;overflow: auto;}#sk-container-id-3 input.sk-toggleable__control:checked~label.sk-toggleable__label-arrow:before {content: \"▾\";}#sk-container-id-3 div.sk-estimator input.sk-toggleable__control:checked~label.sk-toggleable__label {background-color: #d4ebff;}#sk-container-id-3 div.sk-label input.sk-toggleable__control:checked~label.sk-toggleable__label {background-color: #d4ebff;}#sk-container-id-3 input.sk-hidden--visually {border: 0;clip: rect(1px 1px 1px 1px);clip: rect(1px, 1px, 1px, 1px);height: 1px;margin: -1px;overflow: hidden;padding: 0;position: absolute;width: 1px;}#sk-container-id-3 div.sk-estimator {font-family: monospace;background-color: #f0f8ff;border: 1px dotted black;border-radius: 0.25em;box-sizing: border-box;margin-bottom: 0.5em;}#sk-container-id-3 div.sk-estimator:hover {background-color: #d4ebff;}#sk-container-id-3 div.sk-parallel-item::after {content: \"\";width: 100%;border-bottom: 1px solid gray;flex-grow: 1;}#sk-container-id-3 div.sk-label:hover label.sk-toggleable__label {background-color: #d4ebff;}#sk-container-id-3 div.sk-serial::before {content: \"\";position: absolute;border-left: 1px solid gray;box-sizing: border-box;top: 0;bottom: 0;left: 50%;z-index: 0;}#sk-container-id-3 div.sk-serial {display: flex;flex-direction: column;align-items: center;background-color: white;padding-right: 0.2em;padding-left: 0.2em;position: relative;}#sk-container-id-3 div.sk-item {position: relative;z-index: 1;}#sk-container-id-3 div.sk-parallel {display: flex;align-items: stretch;justify-content: center;background-color: white;position: relative;}#sk-container-id-3 div.sk-item::before, #sk-container-id-3 div.sk-parallel-item::before {content: \"\";position: absolute;border-left: 1px solid gray;box-sizing: border-box;top: 0;bottom: 0;left: 50%;z-index: -1;}#sk-container-id-3 div.sk-parallel-item {display: flex;flex-direction: column;z-index: 1;position: relative;background-color: white;}#sk-container-id-3 div.sk-parallel-item:first-child::after {align-self: flex-end;width: 50%;}#sk-container-id-3 div.sk-parallel-item:last-child::after {align-self: flex-start;width: 50%;}#sk-container-id-3 div.sk-parallel-item:only-child::after {width: 0;}#sk-container-id-3 div.sk-dashed-wrapped {border: 1px dashed gray;margin: 0 0.4em 0.5em 0.4em;box-sizing: border-box;padding-bottom: 0.4em;background-color: white;}#sk-container-id-3 div.sk-label label {font-family: monospace;font-weight: bold;display: inline-block;line-height: 1.2em;}#sk-container-id-3 div.sk-label-container {text-align: center;}#sk-container-id-3 div.sk-container {/* jupyter's `normalize.less` sets `[hidden] { display: none; }` but bootstrap.min.css set `[hidden] { display: none !important; }` so we also need the `!important` here to be able to override the default hidden behavior on the sphinx rendered scikit-learn.org. See: https://github.com/scikit-learn/scikit-learn/issues/21755 */display: inline-block !important;position: relative;}#sk-container-id-3 div.sk-text-repr-fallback {display: none;}</style><div id=\"sk-container-id-3\" class=\"sk-top-container\"><div class=\"sk-text-repr-fallback\"><pre>SVC(kernel=&#x27;linear&#x27;)</pre><b>In a Jupyter environment, please rerun this cell to show the HTML representation or trust the notebook. <br />On GitHub, the HTML representation is unable to render, please try loading this page with nbviewer.org.</b></div><div class=\"sk-container\" hidden><div class=\"sk-item\"><div class=\"sk-estimator sk-toggleable\"><input class=\"sk-toggleable__control sk-hidden--visually\" id=\"sk-estimator-id-3\" type=\"checkbox\" checked><label for=\"sk-estimator-id-3\" class=\"sk-toggleable__label sk-toggleable__label-arrow\">SVC</label><div class=\"sk-toggleable__content\"><pre>SVC(kernel=&#x27;linear&#x27;)</pre></div></div></div></div></div>"
      ]
     },
     "execution_count": 21,
     "metadata": {},
     "output_type": "execute_result"
    }
   ],
   "execution_count": 21
  },
  {
   "metadata": {
    "ExecuteTime": {
     "end_time": "2024-10-23T11:39:45.913487Z",
     "start_time": "2024-10-23T11:39:45.551979Z"
    }
   },
   "cell_type": "code",
   "source": [
    "# Making predictions\n",
    "y_pred = svm_model.predict(X_test)\n"
   ],
   "id": "ea971ec7ad216478",
   "outputs": [],
   "execution_count": 22
  },
  {
   "metadata": {
    "ExecuteTime": {
     "end_time": "2024-10-23T11:39:47.325660Z",
     "start_time": "2024-10-23T11:39:47.310140Z"
    }
   },
   "cell_type": "code",
   "source": [
    "# Evaluating the model\n",
    "accuracy = accuracy_score(y_test, y_pred)\n",
    "print(f'Accuracy: {accuracy * 100:.2f}%')\n"
   ],
   "id": "4b10b64b72f99006",
   "outputs": [
    {
     "name": "stdout",
     "output_type": "stream",
     "text": [
      "Accuracy: 58.70%\n"
     ]
    }
   ],
   "execution_count": 23
  },
  {
   "metadata": {
    "ExecuteTime": {
     "end_time": "2024-10-23T11:40:07.526569Z",
     "start_time": "2024-10-23T11:40:07.510908Z"
    }
   },
   "cell_type": "code",
   "source": [
    "# Calculate F1 Score\n",
    "f1 = f1_score(y_test, y_pred, average='weighted')  # 'weighted' is used for multi-class scenarios, for binary use 'binary'\n",
    "print(f'F1 Score: {f1:.2f}')\n"
   ],
   "id": "7e1b43195dabc36e",
   "outputs": [
    {
     "name": "stdout",
     "output_type": "stream",
     "text": [
      "F1 Score: 0.60\n"
     ]
    }
   ],
   "execution_count": 24
  },
  {
   "metadata": {
    "ExecuteTime": {
     "end_time": "2024-10-23T11:40:14.786275Z",
     "start_time": "2024-10-23T11:40:14.766428Z"
    }
   },
   "cell_type": "code",
   "source": [
    "# Calculate Precision\n",
    "precision = precision_score(y_test, y_pred, average='weighted')\n",
    "print(f'Precision: {precision:.2f}')\n"
   ],
   "id": "472a39314a9d8e25",
   "outputs": [
    {
     "name": "stdout",
     "output_type": "stream",
     "text": [
      "Precision: 0.62\n"
     ]
    }
   ],
   "execution_count": 25
  },
  {
   "metadata": {
    "ExecuteTime": {
     "end_time": "2024-10-23T11:40:23.058606Z",
     "start_time": "2024-10-23T11:40:23.042959Z"
    }
   },
   "cell_type": "code",
   "source": [
    "# Calculate Recall\n",
    "recall = recall_score(y_test, y_pred, average='weighted')\n",
    "print(f'Recall: {recall:.2f}')"
   ],
   "id": "660b2645c31e2a74",
   "outputs": [
    {
     "name": "stdout",
     "output_type": "stream",
     "text": [
      "Recall: 0.59\n"
     ]
    }
   ],
   "execution_count": 26
  },
  {
   "metadata": {
    "ExecuteTime": {
     "end_time": "2024-10-23T11:32:37.911860Z",
     "start_time": "2024-10-23T11:32:37.880181Z"
    }
   },
   "cell_type": "code",
   "source": [
    "new_row = pd.DataFrame([[\"SVM (simple)\", accuracy]], columns=['Model', 'Accuracy','F1 Score','Precision','Recall'])\n",
    "results_df = pd.concat([results_df, new_row], ignore_index=True)\n",
    "results_df"
   ],
   "id": "918a7b38a9227297",
   "outputs": [
    {
     "data": {
      "text/plain": [
       "          Model  Accuracy\n",
       "0  SVM (simple)  0.586957"
      ],
      "text/html": [
       "<div>\n",
       "<style scoped>\n",
       "    .dataframe tbody tr th:only-of-type {\n",
       "        vertical-align: middle;\n",
       "    }\n",
       "\n",
       "    .dataframe tbody tr th {\n",
       "        vertical-align: top;\n",
       "    }\n",
       "\n",
       "    .dataframe thead th {\n",
       "        text-align: right;\n",
       "    }\n",
       "</style>\n",
       "<table border=\"1\" class=\"dataframe\">\n",
       "  <thead>\n",
       "    <tr style=\"text-align: right;\">\n",
       "      <th></th>\n",
       "      <th>Model</th>\n",
       "      <th>Accuracy</th>\n",
       "    </tr>\n",
       "  </thead>\n",
       "  <tbody>\n",
       "    <tr>\n",
       "      <th>0</th>\n",
       "      <td>SVM (simple)</td>\n",
       "      <td>0.586957</td>\n",
       "    </tr>\n",
       "  </tbody>\n",
       "</table>\n",
       "</div>"
      ]
     },
     "execution_count": 14,
     "metadata": {},
     "output_type": "execute_result"
    }
   ],
   "execution_count": 14
  },
  {
   "metadata": {
    "ExecuteTime": {
     "end_time": "2024-10-23T11:32:45.021588Z",
     "start_time": "2024-10-23T11:32:45.005549Z"
    }
   },
   "cell_type": "code",
   "source": [
    "# Printing classification report\n",
    "print(classification_report(y_test, y_pred, target_names=class_labels))"
   ],
   "id": "f8f5bf5f6c866602",
   "outputs": [
    {
     "name": "stdout",
     "output_type": "stream",
     "text": [
      "              precision    recall  f1-score   support\n",
      "\n",
      "  belly_pain       0.00      0.00      0.00         4\n",
      "     burping       0.00      0.00      0.00         2\n",
      "  discomfort       0.00      0.00      0.00         7\n",
      "      hungry       0.79      0.75      0.77        72\n",
      "       tired       0.00      0.00      0.00         7\n",
      "\n",
      "    accuracy                           0.59        92\n",
      "   macro avg       0.16      0.15      0.15        92\n",
      "weighted avg       0.62      0.59      0.60        92\n",
      "\n"
     ]
    }
   ],
   "execution_count": 15
  },
  {
   "metadata": {
    "ExecuteTime": {
     "end_time": "2024-10-23T11:34:33.554848Z",
     "start_time": "2024-10-23T11:34:33.217137Z"
    }
   },
   "cell_type": "code",
   "source": [
    "# Confusion Matrix\n",
    "cm = confusion_matrix(y_test, y_pred)\n",
    "\n",
    "# Plotting the confusion matrix\n",
    "plt.figure(figsize=(10, 7))\n",
    "sns.heatmap(cm, annot=True, fmt='d', cmap='Blues', xticklabels=class_labels, yticklabels=class_labels)\n",
    "plt.xlabel('Predicted')\n",
    "plt.ylabel('Actual')\n",
    "plt.title('Confusion Matrix:SVM with mutliple-features extraction methods')\n",
    "plt.show()"
   ],
   "id": "fb765468f2fc3e69",
   "outputs": [
    {
     "data": {
      "text/plain": [
       "<Figure size 1000x700 with 2 Axes>"
      ],
      "image/png": "[encoded data removed]"
     },
     "metadata": {},
     "output_type": "display_data"
    }
   ],
   "execution_count": 16
  },
  {
   "metadata": {
    "ExecuteTime": {
     "end_time": "2024-10-15T19:25:38.888189Z",
     "start_time": "2024-10-15T19:25:38.879235Z"
    }
   },
   "cell_type": "code",
   "source": [
    "# Initializing the KNN model\n",
    "knn_model = KNeighborsClassifier(n_neighbors=5)  # \n",
    "\n"
   ],
   "id": "7d30ababfb89ff91",
   "outputs": [],
   "execution_count": 18
  },
  {
   "metadata": {
    "ExecuteTime": {
     "end_time": "2024-10-15T19:25:44.843211Z",
     "start_time": "2024-10-15T19:25:44.807608Z"
    }
   },
   "cell_type": "code",
   "source": [
    "# Training the KNN model on the resampled data\n",
    "knn_model.fit(X_train, y_train)\n",
    "\n"
   ],
   "id": "43d0439b600333e8",
   "outputs": [
    {
     "data": {
      "text/plain": [
       "KNeighborsClassifier()"
      ],
      "text/html": [
       "<style>#sk-container-id-2 {color: black;}#sk-container-id-2 pre{padding: 0;}#sk-container-id-2 div.sk-toggleable {background-color: white;}#sk-container-id-2 label.sk-toggleable__label {cursor: pointer;display: block;width: 100%;margin-bottom: 0;padding: 0.3em;box-sizing: border-box;text-align: center;}#sk-container-id-2 label.sk-toggleable__label-arrow:before {content: \"▸\";float: left;margin-right: 0.25em;color: #696969;}#sk-container-id-2 label.sk-toggleable__label-arrow:hover:before {color: black;}#sk-container-id-2 div.sk-estimator:hover label.sk-toggleable__label-arrow:before {color: black;}#sk-container-id-2 div.sk-toggleable__content {max-height: 0;max-width: 0;overflow: hidden;text-align: left;background-color: #f0f8ff;}#sk-container-id-2 div.sk-toggleable__content pre {margin: 0.2em;color: black;border-radius: 0.25em;background-color: #f0f8ff;}#sk-container-id-2 input.sk-toggleable__control:checked~div.sk-toggleable__content {max-height: 200px;max-width: 100%;overflow: auto;}#sk-container-id-2 input.sk-toggleable__control:checked~label.sk-toggleable__label-arrow:before {content: \"▾\";}#sk-container-id-2 div.sk-estimator input.sk-toggleable__control:checked~label.sk-toggleable__label {background-color: #d4ebff;}#sk-container-id-2 div.sk-label input.sk-toggleable__control:checked~label.sk-toggleable__label {background-color: #d4ebff;}#sk-container-id-2 input.sk-hidden--visually {border: 0;clip: rect(1px 1px 1px 1px);clip: rect(1px, 1px, 1px, 1px);height: 1px;margin: -1px;overflow: hidden;padding: 0;position: absolute;width: 1px;}#sk-container-id-2 div.sk-estimator {font-family: monospace;background-color: #f0f8ff;border: 1px dotted black;border-radius: 0.25em;box-sizing: border-box;margin-bottom: 0.5em;}#sk-container-id-2 div.sk-estimator:hover {background-color: #d4ebff;}#sk-container-id-2 div.sk-parallel-item::after {content: \"\";width: 100%;border-bottom: 1px solid gray;flex-grow: 1;}#sk-container-id-2 div.sk-label:hover label.sk-toggleable__label {background-color: #d4ebff;}#sk-container-id-2 div.sk-serial::before {content: \"\";position: absolute;border-left: 1px solid gray;box-sizing: border-box;top: 0;bottom: 0;left: 50%;z-index: 0;}#sk-container-id-2 div.sk-serial {display: flex;flex-direction: column;align-items: center;background-color: white;padding-right: 0.2em;padding-left: 0.2em;position: relative;}#sk-container-id-2 div.sk-item {position: relative;z-index: 1;}#sk-container-id-2 div.sk-parallel {display: flex;align-items: stretch;justify-content: center;background-color: white;position: relative;}#sk-container-id-2 div.sk-item::before, #sk-container-id-2 div.sk-parallel-item::before {content: \"\";position: absolute;border-left: 1px solid gray;box-sizing: border-box;top: 0;bottom: 0;left: 50%;z-index: -1;}#sk-container-id-2 div.sk-parallel-item {display: flex;flex-direction: column;z-index: 1;position: relative;background-color: white;}#sk-container-id-2 div.sk-parallel-item:first-child::after {align-self: flex-end;width: 50%;}#sk-container-id-2 div.sk-parallel-item:last-child::after {align-self: flex-start;width: 50%;}#sk-container-id-2 div.sk-parallel-item:only-child::after {width: 0;}#sk-container-id-2 div.sk-dashed-wrapped {border: 1px dashed gray;margin: 0 0.4em 0.5em 0.4em;box-sizing: border-box;padding-bottom: 0.4em;background-color: white;}#sk-container-id-2 div.sk-label label {font-family: monospace;font-weight: bold;display: inline-block;line-height: 1.2em;}#sk-container-id-2 div.sk-label-container {text-align: center;}#sk-container-id-2 div.sk-container {/* jupyter's `normalize.less` sets `[hidden] { display: none; }` but bootstrap.min.css set `[hidden] { display: none !important; }` so we also need the `!important` here to be able to override the default hidden behavior on the sphinx rendered scikit-learn.org. See: https://github.com/scikit-learn/scikit-learn/issues/21755 */display: inline-block !important;position: relative;}#sk-container-id-2 div.sk-text-repr-fallback {display: none;}</style><div id=\"sk-container-id-2\" class=\"sk-top-container\"><div class=\"sk-text-repr-fallback\"><pre>KNeighborsClassifier()</pre><b>In a Jupyter environment, please rerun this cell to show the HTML representation or trust the notebook. <br />On GitHub, the HTML representation is unable to render, please try loading this page with nbviewer.org.</b></div><div class=\"sk-container\" hidden><div class=\"sk-item\"><div class=\"sk-estimator sk-toggleable\"><input class=\"sk-toggleable__control sk-hidden--visually\" id=\"sk-estimator-id-2\" type=\"checkbox\" checked><label for=\"sk-estimator-id-2\" class=\"sk-toggleable__label sk-toggleable__label-arrow\">KNeighborsClassifier</label><div class=\"sk-toggleable__content\"><pre>KNeighborsClassifier()</pre></div></div></div></div></div>"
      ]
     },
     "execution_count": 19,
     "metadata": {},
     "output_type": "execute_result"
    }
   ],
   "execution_count": 19
  },
  {
   "metadata": {
    "ExecuteTime": {
     "end_time": "2024-10-15T19:25:50.752910Z",
     "start_time": "2024-10-15T19:25:50.233567Z"
    }
   },
   "cell_type": "code",
   "source": [
    "# Making predictions\n",
    "y_pred_knn = knn_model.predict(X_test)\n"
   ],
   "id": "35512f247ba1051a",
   "outputs": [],
   "execution_count": 20
  },
  {
   "metadata": {
    "ExecuteTime": {
     "end_time": "2024-10-15T19:25:53.606734Z",
     "start_time": "2024-10-15T19:25:53.592736Z"
    }
   },
   "cell_type": "code",
   "source": [
    "# Evaluating the model\n",
    "accuracy = accuracy_score(y_test, y_pred_knn)\n",
    "print(f'Accuracy: {accuracy * 100:.2f}%')"
   ],
   "id": "93a8eddfb3ded9f8",
   "outputs": [
    {
     "name": "stdout",
     "output_type": "stream",
     "text": [
      "Accuracy: 77.17%\n"
     ]
    }
   ],
   "execution_count": 21
  },
  {
   "metadata": {
    "ExecuteTime": {
     "end_time": "2024-10-15T19:26:19.169444Z",
     "start_time": "2024-10-15T19:26:19.155835Z"
    }
   },
   "cell_type": "code",
   "source": [
    "new_row = pd.DataFrame([[\"KNN (simple)\", accuracy]], columns=['Model', 'Accuracy'])\n",
    "results_df = pd.concat([results_df, new_row], ignore_index=True)\n",
    "results_df"
   ],
   "id": "7461542d2b85b95f",
   "outputs": [
    {
     "data": {
      "text/plain": [
       "          Model  Accuracy\n",
       "0  SVM (simple)  0.586957\n",
       "1  KNN (simple)  0.771739"
      ],
      "text/html": [
       "<div>\n",
       "<style scoped>\n",
       "    .dataframe tbody tr th:only-of-type {\n",
       "        vertical-align: middle;\n",
       "    }\n",
       "\n",
       "    .dataframe tbody tr th {\n",
       "        vertical-align: top;\n",
       "    }\n",
       "\n",
       "    .dataframe thead th {\n",
       "        text-align: right;\n",
       "    }\n",
       "</style>\n",
       "<table border=\"1\" class=\"dataframe\">\n",
       "  <thead>\n",
       "    <tr style=\"text-align: right;\">\n",
       "      <th></th>\n",
       "      <th>Model</th>\n",
       "      <th>Accuracy</th>\n",
       "    </tr>\n",
       "  </thead>\n",
       "  <tbody>\n",
       "    <tr>\n",
       "      <th>0</th>\n",
       "      <td>SVM (simple)</td>\n",
       "      <td>0.586957</td>\n",
       "    </tr>\n",
       "    <tr>\n",
       "      <th>1</th>\n",
       "      <td>KNN (simple)</td>\n",
       "      <td>0.771739</td>\n",
       "    </tr>\n",
       "  </tbody>\n",
       "</table>\n",
       "</div>"
      ]
     },
     "execution_count": 22,
     "metadata": {},
     "output_type": "execute_result"
    }
   ],
   "execution_count": 22
  },
  {
   "metadata": {
    "ExecuteTime": {
     "end_time": "2024-10-15T19:26:59.167664Z",
     "start_time": "2024-10-15T19:26:59.145687Z"
    }
   },
   "cell_type": "code",
   "source": [
    "# Printing classification report\n",
    "print(classification_report(y_test, y_pred_knn, target_names=class_labels))\n"
   ],
   "id": "a3b0071846703567",
   "outputs": [
    {
     "name": "stdout",
     "output_type": "stream",
     "text": [
      "              precision    recall  f1-score   support\n",
      "\n",
      "  belly_pain       0.00      0.00      0.00         4\n",
      "     burping       0.00      0.00      0.00         2\n",
      "  discomfort       0.00      0.00      0.00         7\n",
      "      hungry       0.78      0.99      0.87        72\n",
      "       tired       0.00      0.00      0.00         7\n",
      "\n",
      "    accuracy                           0.77        92\n",
      "   macro avg       0.16      0.20      0.17        92\n",
      "weighted avg       0.61      0.77      0.68        92\n",
      "\n"
     ]
    },
    {
     "name": "stderr",
     "output_type": "stream",
     "text": [
      "D:\\NCI\\Sem 3\\Thesis\\code_DB\\newBabyCryAnalysis\\pythonProject\\.venv\\lib\\site-packages\\sklearn\\metrics\\_classification.py:1471: UndefinedMetricWarning: Precision and F-score are ill-defined and being set to 0.0 in labels with no predicted samples. Use `zero_division` parameter to control this behavior.\n",
      "  _warn_prf(average, modifier, msg_start, len(result))\n",
      "D:\\NCI\\Sem 3\\Thesis\\code_DB\\newBabyCryAnalysis\\pythonProject\\.venv\\lib\\site-packages\\sklearn\\metrics\\_classification.py:1471: UndefinedMetricWarning: Precision and F-score are ill-defined and being set to 0.0 in labels with no predicted samples. Use `zero_division` parameter to control this behavior.\n",
      "  _warn_prf(average, modifier, msg_start, len(result))\n",
      "D:\\NCI\\Sem 3\\Thesis\\code_DB\\newBabyCryAnalysis\\pythonProject\\.venv\\lib\\site-packages\\sklearn\\metrics\\_classification.py:1471: UndefinedMetricWarning: Precision and F-score are ill-defined and being set to 0.0 in labels with no predicted samples. Use `zero_division` parameter to control this behavior.\n",
      "  _warn_prf(average, modifier, msg_start, len(result))\n"
     ]
    }
   ],
   "execution_count": 23
  },
  {
   "metadata": {
    "ExecuteTime": {
     "end_time": "2024-10-15T19:27:20.974498Z",
     "start_time": "2024-10-15T19:27:20.752277Z"
    }
   },
   "cell_type": "code",
   "source": [
    "# Confusion Matrix\n",
    "cm = confusion_matrix(y_test, y_pred_knn)\n",
    "\n",
    "# Plotting the confusion matrix\n",
    "plt.figure(figsize=(10, 7))\n",
    "sns.heatmap(cm, annot=True, fmt='d', cmap='Blues', xticklabels=class_labels, yticklabels=class_labels)\n",
    "plt.xlabel('Predicted')\n",
    "plt.ylabel('Actual')\n",
    "plt.title('Confusion Matrix:KNN with mutliple-features extraction methods')\n",
    "plt.show()"
   ],
   "id": "3f40f9f397af6d7d",
   "outputs": [
    {
     "data": {
      "text/plain": [
       "<Figure size 1000x700 with 2 Axes>"
      ],
      "image/png": "[encoded data removed]"
     },
     "metadata": {},
     "output_type": "display_data"
    }
   ],
   "execution_count": 24
  },
  {
   "metadata": {},
   "cell_type": "code",
   "outputs": [],
   "execution_count": null,
   "source": [
    "# Initializing the KNN model\n",
    "knn_model = KNeighborsClassifier(n_neighbors=5)  # \n",
    "\n",
    "# Training the KNN model on the resampled data\n",
    "knn_model.fit(X_train, y_train)\n",
    "\n",
    "# Making predictions\n",
    "y_pred_knn = knn_model.predict(X_test)\n",
    "\n",
    "# Evaluating the model\n",
    "accuracy = accuracy_score(y_test, y_pred_knn)\n",
    "print(f'Accuracy: {accuracy * 100:.2f}%')\n",
    "new_row = pd.DataFrame([[\"KNN (simple)\", accuracy]], columns=['Model', 'Accuracy'])\n",
    "results_df = pd.concat([results_df, new_row], ignore_index=True)\n",
    "results_df\n",
    "# Printing classification report\n",
    "print(classification_report(y_test, y_pred_knn, target_names=class_labels))\n",
    "\n",
    "# Confusion Matrix\n",
    "cm = confusion_matrix(y_test, y_pred_knn)\n",
    "\n",
    "# Plotting the confusion matrix\n",
    "plt.figure(figsize=(10, 7))\n",
    "sns.heatmap(cm, annot=True, fmt='d', cmap='Blues', xticklabels=class_labels, yticklabels=class_labels)\n",
    "plt.xlabel('Predicted')\n",
    "plt.ylabel('Actual')\n",
    "plt.title('Confusion Matrix:KNN with mutliple-features extraction methods')\n",
    "plt.show()"
   ],
   "id": "1093bc5061f1afd3"
  },
  {
   "metadata": {
    "ExecuteTime": {
     "end_time": "2024-11-04T13:18:00.568320Z",
     "start_time": "2024-11-04T13:18:00.554317Z"
    }
   },
   "cell_type": "code",
   "source": [
    "# Reshape X for LSTM (samples, time_steps, features)\n",
    "X_lstm = X1.reshape(X1.shape[0], X1.shape[2], X1.shape[1])  # (samples, time_steps, features)"
   ],
   "id": "59c085079bd9f4f1",
   "outputs": [],
   "execution_count": 10
  },
  {
   "metadata": {
    "ExecuteTime": {
     "end_time": "2024-11-04T13:20:49.155468Z",
     "start_time": "2024-11-04T13:20:49.139844Z"
    }
   },
   "cell_type": "code",
   "source": [
    "# One-hot encode labels\n",
    "y_lstm = to_categorical(y1, num_classes=len(class_labels))\n"
   ],
   "id": "3d248dce04289ff5",
   "outputs": [],
   "execution_count": 11
  },
  {
   "metadata": {
    "ExecuteTime": {
     "end_time": "2024-11-04T13:20:50.542578Z",
     "start_time": "2024-11-04T13:20:50.480101Z"
    }
   },
   "cell_type": "code",
   "source": [
    "# Split the data into train and test sets\n",
    "X_train, X_test, y_train, y_test = train_test_split(X_lstm, y_lstm, test_size=0.3, random_state=42, stratify=y1)"
   ],
   "id": "92256f0f612670f5",
   "outputs": [],
   "execution_count": 12
  },
  {
   "metadata": {
    "ExecuteTime": {
     "end_time": "2024-11-04T14:10:45.764829Z",
     "start_time": "2024-11-04T14:10:45.749207Z"
    }
   },
   "cell_type": "code",
   "source": "y_test.shape",
   "id": "abd791711e6ab38",
   "outputs": [
    {
     "data": {
      "text/plain": [
       "(138, 5)"
      ]
     },
     "execution_count": 44,
     "metadata": {},
     "output_type": "execute_result"
    }
   ],
   "execution_count": 44
  },
  {
   "metadata": {
    "ExecuteTime": {
     "end_time": "2024-11-04T14:02:36.459312Z",
     "start_time": "2024-11-04T14:02:36.443454Z"
    }
   },
   "cell_type": "code",
   "source": "y_train.shape",
   "id": "617455c08ea73181",
   "outputs": [
    {
     "data": {
      "text/plain": [
       "(319, 5)"
      ]
     },
     "execution_count": 43,
     "metadata": {},
     "output_type": "execute_result"
    }
   ],
   "execution_count": 43
  },
  {
   "metadata": {
    "ExecuteTime": {
     "end_time": "2024-11-04T13:20:54.227307Z",
     "start_time": "2024-11-04T13:20:53.601035Z"
    }
   },
   "cell_type": "code",
   "source": [
    "# Define the LSTM model\n",
    "lstm_model = Sequential()"
   ],
   "id": "1e4fb92c64c1c87",
   "outputs": [],
   "execution_count": 13
  },
  {
   "metadata": {
    "ExecuteTime": {
     "end_time": "2024-11-04T13:20:56.184384Z",
     "start_time": "2024-11-04T13:20:55.840088Z"
    }
   },
   "cell_type": "code",
   "source": [
    "# Add LSTM layer\n",
    "lstm_model.add(LSTM(128, input_shape=(X_train.shape[1], X_train.shape[2]), return_sequences=True))\n",
    "lstm_model.add(Dropout(0.3))"
   ],
   "id": "c08848bd388cddc9",
   "outputs": [],
   "execution_count": 14
  },
  {
   "metadata": {
    "ExecuteTime": {
     "end_time": "2024-11-04T13:20:58.609096Z",
     "start_time": "2024-11-04T13:20:58.452196Z"
    }
   },
   "cell_type": "code",
   "source": [
    "# Add another LSTM layer\n",
    "lstm_model.add(LSTM(64, return_sequences=False))\n",
    "lstm_model.add(Dropout(0.3))"
   ],
   "id": "c3b470cfba29db5c",
   "outputs": [],
   "execution_count": 15
  },
  {
   "metadata": {
    "ExecuteTime": {
     "end_time": "2024-11-04T13:20:59.733339Z",
     "start_time": "2024-11-04T13:20:59.701584Z"
    }
   },
   "cell_type": "code",
   "source": [
    "# Add Dense layers\n",
    "lstm_model.add(Dense(32, activation='relu'))\n",
    "lstm_model.add(Dropout(0.3))"
   ],
   "id": "a9eff392f41193f8",
   "outputs": [],
   "execution_count": 16
  },
  {
   "metadata": {
    "ExecuteTime": {
     "end_time": "2024-11-04T13:21:01.085193Z",
     "start_time": "2024-11-04T13:21:01.053942Z"
    }
   },
   "cell_type": "code",
   "source": [
    "# Output layer with softmax for multi-class classification\n",
    "lstm_model.add(Dense(len(class_labels), activation='softmax'))"
   ],
   "id": "636990bd353a5f1e",
   "outputs": [],
   "execution_count": 17
  },
  {
   "metadata": {
    "ExecuteTime": {
     "end_time": "2024-11-04T13:21:02.154261Z",
     "start_time": "2024-11-04T13:21:02.138693Z"
    }
   },
   "cell_type": "code",
   "source": [
    "# Compile the model\n",
    "lstm_model.compile(optimizer='adam', loss='categorical_crossentropy', metrics=['accuracy'])"
   ],
   "id": "1544412b293d42e6",
   "outputs": [],
   "execution_count": 18
  },
  {
   "metadata": {
    "ExecuteTime": {
     "end_time": "2024-11-04T13:59:34.207094Z",
     "start_time": "2024-11-04T13:59:34.175787Z"
    }
   },
   "cell_type": "code",
   "source": "y_test.shape",
   "id": "7f4d29d866d26a36",
   "outputs": [
    {
     "data": {
      "text/plain": [
       "(138, 5)"
      ]
     },
     "execution_count": 40,
     "metadata": {},
     "output_type": "execute_result"
    }
   ],
   "execution_count": 40
  },
  {
   "metadata": {},
   "cell_type": "code",
   "outputs": [
    {
     "name": "stdout",
     "output_type": "stream",
     "text": [
      "Epoch 1/50\n",
      "10/10 [==============================] - 7s 451ms/step - loss: 1.4051 - accuracy: 0.7743 - val_loss: 0.7533 - val_accuracy: 0.8333\n",
      "Epoch 2/50\n",
      "10/10 [==============================] - 4s 406ms/step - loss: 0.8362 - accuracy: 0.8370 - val_loss: 0.6892 - val_accuracy: 0.8333\n",
      "Epoch 3/50\n",
      "10/10 [==============================] - 4s 364ms/step - loss: 0.7485 - accuracy: 0.8370 - val_loss: 0.6866 - val_accuracy: 0.8333\n",
      "Epoch 4/50\n",
      "10/10 [==============================] - 3s 330ms/step - loss: 0.7175 - accuracy: 0.8370 - val_loss: 0.6807 - val_accuracy: 0.8333\n",
      "Epoch 5/50\n",
      "10/10 [==============================] - 3s 330ms/step - loss: 0.7084 - accuracy: 0.8370 - val_loss: 0.6788 - val_accuracy: 0.8333\n",
      "Epoch 6/50\n",
      "10/10 [==============================] - 3s 333ms/step - loss: 0.7276 - accuracy: 0.8370 - val_loss: 0.6803 - val_accuracy: 0.8333\n",
      "Epoch 7/50\n",
      "10/10 [==============================] - 4s 396ms/step - loss: 0.7415 - accuracy: 0.8370 - val_loss: 0.6756 - val_accuracy: 0.8333\n",
      "Epoch 8/50\n",
      "10/10 [==============================] - 4s 426ms/step - loss: 0.7336 - accuracy: 0.8339 - val_loss: 0.6737 - val_accuracy: 0.8333\n",
      "Epoch 9/50\n",
      "10/10 [==============================] - 5s 472ms/step - loss: 0.6964 - accuracy: 0.8370 - val_loss: 0.6724 - val_accuracy: 0.8333\n",
      "Epoch 10/50\n",
      "10/10 [==============================] - 5s 550ms/step - loss: 0.6905 - accuracy: 0.8370 - val_loss: 0.6724 - val_accuracy: 0.8333\n",
      "Epoch 11/50\n",
      "10/10 [==============================] - 5s 490ms/step - loss: 0.7210 - accuracy: 0.8370 - val_loss: 0.6726 - val_accuracy: 0.8333\n",
      "Epoch 12/50\n",
      "10/10 [==============================] - 5s 513ms/step - loss: 0.6850 - accuracy: 0.8370 - val_loss: 0.6727 - val_accuracy: 0.8333\n",
      "Epoch 13/50\n",
      "10/10 [==============================] - 5s 472ms/step - loss: 0.6871 - accuracy: 0.8370 - val_loss: 0.6741 - val_accuracy: 0.8333\n",
      "Epoch 14/50\n",
      "10/10 [==============================] - 5s 473ms/step - loss: 0.7045 - accuracy: 0.8370 - val_loss: 0.6723 - val_accuracy: 0.8333\n",
      "Epoch 15/50\n",
      "10/10 [==============================] - 5s 464ms/step - loss: 0.7390 - accuracy: 0.8370 - val_loss: 0.6734 - val_accuracy: 0.8333\n",
      "Epoch 16/50\n",
      "10/10 [==============================] - 5s 494ms/step - loss: 0.7369 - accuracy: 0.8370 - val_loss: 0.6738 - val_accuracy: 0.8333\n",
      "Epoch 17/50\n",
      "10/10 [==============================] - 5s 503ms/step - loss: 0.7180 - accuracy: 0.8370 - val_loss: 0.6745 - val_accuracy: 0.8333\n",
      "Epoch 18/50\n",
      "10/10 [==============================] - 5s 478ms/step - loss: 0.6912 - accuracy: 0.8370 - val_loss: 0.6746 - val_accuracy: 0.8333\n",
      "Epoch 19/50\n",
      "10/10 [==============================] - 5s 495ms/step - loss: 0.7063 - accuracy: 0.8370 - val_loss: 0.6724 - val_accuracy: 0.8333\n",
      "Epoch 20/50\n",
      "10/10 [==============================] - 5s 473ms/step - loss: 0.7153 - accuracy: 0.8370 - val_loss: 0.6731 - val_accuracy: 0.8333\n",
      "Epoch 21/50\n",
      "10/10 [==============================] - 4s 460ms/step - loss: 0.7227 - accuracy: 0.8370 - val_loss: 0.6725 - val_accuracy: 0.8333\n",
      "Epoch 22/50\n",
      "10/10 [==============================] - 5s 460ms/step - loss: 0.6878 - accuracy: 0.8370 - val_loss: 0.6736 - val_accuracy: 0.8333\n",
      "Epoch 23/50\n",
      "10/10 [==============================] - 5s 464ms/step - loss: 0.6814 - accuracy: 0.8370 - val_loss: 0.6720 - val_accuracy: 0.8333\n",
      "Epoch 24/50\n",
      "10/10 [==============================] - 5s 468ms/step - loss: 0.7057 - accuracy: 0.8370 - val_loss: 0.6717 - val_accuracy: 0.8333\n",
      "Epoch 25/50\n",
      "10/10 [==============================] - 5s 463ms/step - loss: 0.7104 - accuracy: 0.8370 - val_loss: 0.6720 - val_accuracy: 0.8333\n",
      "Epoch 26/50\n",
      "10/10 [==============================] - 5s 470ms/step - loss: 0.7077 - accuracy: 0.8370 - val_loss: 0.6724 - val_accuracy: 0.8333\n",
      "Epoch 27/50\n",
      "10/10 [==============================] - 5s 463ms/step - loss: 0.6881 - accuracy: 0.8370 - val_loss: 0.6730 - val_accuracy: 0.8333\n",
      "Epoch 28/50\n",
      "10/10 [==============================] - 5s 462ms/step - loss: 0.7078 - accuracy: 0.8370 - val_loss: 0.6744 - val_accuracy: 0.8333\n",
      "Epoch 29/50\n",
      "10/10 [==============================] - 4s 460ms/step - loss: 0.6893 - accuracy: 0.8370 - val_loss: 0.6729 - val_accuracy: 0.8333\n",
      "Epoch 30/50\n",
      "10/10 [==============================] - 4s 458ms/step - loss: 0.7341 - accuracy: 0.8370 - val_loss: 0.6719 - val_accuracy: 0.8333\n",
      "Epoch 31/50\n",
      "10/10 [==============================] - 5s 469ms/step - loss: 0.6872 - accuracy: 0.8370 - val_loss: 0.6718 - val_accuracy: 0.8333\n",
      "Epoch 32/50\n",
      "10/10 [==============================] - 4s 454ms/step - loss: 0.6887 - accuracy: 0.8370 - val_loss: 0.6738 - val_accuracy: 0.8333\n",
      "Epoch 33/50\n",
      "10/10 [==============================] - 5s 459ms/step - loss: 0.7090 - accuracy: 0.8370 - val_loss: 0.6728 - val_accuracy: 0.8333\n",
      "Epoch 34/50\n",
      "10/10 [==============================] - 5s 467ms/step - loss: 0.7018 - accuracy: 0.8370 - val_loss: 0.6721 - val_accuracy: 0.8333\n",
      "Epoch 35/50\n",
      "10/10 [==============================] - 5s 466ms/step - loss: 0.6968 - accuracy: 0.8370 - val_loss: 0.6725 - val_accuracy: 0.8333\n",
      "Epoch 36/50\n",
      "10/10 [==============================] - 5s 460ms/step - loss: 0.6900 - accuracy: 0.8370 - val_loss: 0.6751 - val_accuracy: 0.8333\n",
      "Epoch 37/50\n",
      "10/10 [==============================] - 5s 477ms/step - loss: 0.6791 - accuracy: 0.8370 - val_loss: 0.6724 - val_accuracy: 0.8333\n",
      "Epoch 38/50\n",
      "10/10 [==============================] - 5s 491ms/step - loss: 0.6881 - accuracy: 0.8370 - val_loss: 0.6727 - val_accuracy: 0.8333\n",
      "Epoch 39/50\n",
      "10/10 [==============================] - 4s 459ms/step - loss: 0.6724 - accuracy: 0.8370 - val_loss: 0.6731 - val_accuracy: 0.8333\n",
      "Epoch 40/50\n",
      "10/10 [==============================] - 4s 447ms/step - loss: 0.7315 - accuracy: 0.8370 - val_loss: 0.6727 - val_accuracy: 0.8333\n",
      "Epoch 41/50\n",
      "10/10 [==============================] - 4s 448ms/step - loss: 0.6766 - accuracy: 0.8370 - val_loss: 0.6738 - val_accuracy: 0.8333\n",
      "Epoch 42/50\n",
      "10/10 [==============================] - 4s 451ms/step - loss: 0.6828 - accuracy: 0.8370 - val_loss: 0.6730 - val_accuracy: 0.8333\n",
      "Epoch 43/50\n",
      "10/10 [==============================] - 4s 448ms/step - loss: 0.7027 - accuracy: 0.8370 - val_loss: 0.6726 - val_accuracy: 0.8333\n",
      "Epoch 44/50\n",
      "10/10 [==============================] - 4s 456ms/step - loss: 0.6835 - accuracy: 0.8370 - val_loss: 0.6728 - val_accuracy: 0.8333\n",
      "Epoch 45/50\n",
      "10/10 [==============================] - 4s 454ms/step - loss: 0.7093 - accuracy: 0.8370 - val_loss: 0.6737 - val_accuracy: 0.8333\n",
      "Epoch 46/50\n",
      "10/10 [==============================] - 5s 469ms/step - loss: 0.7070 - accuracy: 0.8370 - val_loss: 0.6733 - val_accuracy: 0.8333\n",
      "Epoch 47/50\n",
      "10/10 [==============================] - 5s 465ms/step - loss: 0.7066 - accuracy: 0.8370 - val_loss: 0.6731 - val_accuracy: 0.8333\n",
      "Epoch 48/50\n",
      "10/10 [==============================] - 5s 464ms/step - loss: 0.6909 - accuracy: 0.8370 - val_loss: 0.6736 - val_accuracy: 0.8333\n",
      "Epoch 49/50\n",
      "10/10 [==============================] - 4s 450ms/step - loss: 0.6987 - accuracy: 0.8370 - val_loss: 0.6729 - val_accuracy: 0.8333\n",
      "Epoch 50/50\n",
      "10/10 [==============================] - 4s 444ms/step - loss: 0.6835 - accuracy: 0.8370 - val_loss: 0.6720 - val_accuracy: 0.8333\n"
     ]
    }
   ],
   "execution_count": 19,
   "source": [
    "# Train the model\n",
    "history = lstm_model.fit(X_train, y_train, epochs=50, batch_size=32, validation_data=(X_test, y_test))\n"
   ],
   "id": "3bf5df457664250"
  },
  {
   "metadata": {},
   "cell_type": "code",
   "outputs": [
    {
     "name": "stdout",
     "output_type": "stream",
     "text": [
      "5/5 [==============================] - 2s 100ms/step\n"
     ]
    }
   ],
   "execution_count": 20,
   "source": [
    "# Evaluate the model\n",
    "y_pred_lstm = np.argmax(lstm_model.predict(X_test), axis=1)\n",
    "y_test_lstm = np.argmax(y_test, axis=1)"
   ],
   "id": "a6533129818b0587"
  },
  {
   "metadata": {},
   "cell_type": "code",
   "outputs": [
    {
     "name": "stdout",
     "output_type": "stream",
     "text": [
      "Accuracy: 83.33%\n"
     ]
    }
   ],
   "execution_count": 21,
   "source": [
    "# Accuracy\n",
    "accuracy = accuracy_score(y_test_lstm, y_pred_lstm)\n",
    "print(f'Accuracy: {accuracy * 100:.2f}%')\n"
   ],
   "id": "7849baea40553216"
  },
  {
   "metadata": {},
   "cell_type": "code",
   "outputs": [
    {
     "data": {
      "text/plain": [
       "  Model  Accuracy\n",
       "0  LSTM  0.833333"
      ],
      "text/html": [
       "<div>\n",
       "<style scoped>\n",
       "    .dataframe tbody tr th:only-of-type {\n",
       "        vertical-align: middle;\n",
       "    }\n",
       "\n",
       "    .dataframe tbody tr th {\n",
       "        vertical-align: top;\n",
       "    }\n",
       "\n",
       "    .dataframe thead th {\n",
       "        text-align: right;\n",
       "    }\n",
       "</style>\n",
       "<table border=\"1\" class=\"dataframe\">\n",
       "  <thead>\n",
       "    <tr style=\"text-align: right;\">\n",
       "      <th></th>\n",
       "      <th>Model</th>\n",
       "      <th>Accuracy</th>\n",
       "    </tr>\n",
       "  </thead>\n",
       "  <tbody>\n",
       "    <tr>\n",
       "      <th>0</th>\n",
       "      <td>LSTM</td>\n",
       "      <td>0.833333</td>\n",
       "    </tr>\n",
       "  </tbody>\n",
       "</table>\n",
       "</div>"
      ]
     },
     "execution_count": 22,
     "metadata": {},
     "output_type": "execute_result"
    }
   ],
   "execution_count": 22,
   "source": [
    "new_row = pd.DataFrame([[\"LSTM\", accuracy]], columns=['Model', 'Accuracy'])\n",
    "results_df = pd.concat([results_df, new_row], ignore_index=True)\n",
    "results_df"
   ],
   "id": "95c7b3bc6ed30cdf"
  },
  {
   "metadata": {},
   "cell_type": "code",
   "outputs": [
    {
     "name": "stdout",
     "output_type": "stream",
     "text": [
      "              precision    recall  f1-score   support\n",
      "\n",
      "  belly_pain       0.00      0.00      0.00         5\n",
      "     burping       0.00      0.00      0.00         3\n",
      "  discomfort       0.00      0.00      0.00         8\n",
      "      hungry       0.83      1.00      0.91       115\n",
      "       tired       0.00      0.00      0.00         7\n",
      "\n",
      "    accuracy                           0.83       138\n",
      "   macro avg       0.17      0.20      0.18       138\n",
      "weighted avg       0.69      0.83      0.76       138\n",
      "\n"
     ]
    },
    {
     "name": "stderr",
     "output_type": "stream",
     "text": [
      "D:\\NCI\\Sem 3\\Thesis\\code_DB\\newBabyCryAnalysis\\pythonProject\\.venv\\lib\\site-packages\\sklearn\\metrics\\_classification.py:1471: UndefinedMetricWarning: Precision and F-score are ill-defined and being set to 0.0 in labels with no predicted samples. Use `zero_division` parameter to control this behavior.\n",
      "  _warn_prf(average, modifier, msg_start, len(result))\n",
      "D:\\NCI\\Sem 3\\Thesis\\code_DB\\newBabyCryAnalysis\\pythonProject\\.venv\\lib\\site-packages\\sklearn\\metrics\\_classification.py:1471: UndefinedMetricWarning: Precision and F-score are ill-defined and being set to 0.0 in labels with no predicted samples. Use `zero_division` parameter to control this behavior.\n",
      "  _warn_prf(average, modifier, msg_start, len(result))\n",
      "D:\\NCI\\Sem 3\\Thesis\\code_DB\\newBabyCryAnalysis\\pythonProject\\.venv\\lib\\site-packages\\sklearn\\metrics\\_classification.py:1471: UndefinedMetricWarning: Precision and F-score are ill-defined and being set to 0.0 in labels with no predicted samples. Use `zero_division` parameter to control this behavior.\n",
      "  _warn_prf(average, modifier, msg_start, len(result))\n"
     ]
    }
   ],
   "execution_count": 23,
   "source": [
    "# Classification report\n",
    "print(classification_report(y_test_lstm, y_pred_lstm, target_names=class_labels))\n"
   ],
   "id": "8e527d9b6df646ce"
  },
  {
   "metadata": {},
   "cell_type": "code",
   "outputs": [
    {
     "data": {
      "text/plain": [
       "<Figure size 1000x700 with 2 Axes>"
      ],
      "image/png": "[encoded data removed]"
     },
     "metadata": {},
     "output_type": "display_data"
    }
   ],
   "execution_count": 24,
   "source": [
    "# Confusion Matrix\n",
    "cm = confusion_matrix(y_test_lstm, y_pred_lstm)\n",
    "\n",
    "# Plotting the confusion matrix\n",
    "plt.figure(figsize=(10, 7))\n",
    "sns.heatmap(cm, annot=True, fmt='d', cmap='Blues', xticklabels=class_labels, yticklabels=class_labels)\n",
    "plt.xlabel('Predicted')\n",
    "plt.ylabel('Actual')\n",
    "plt.title('Confusion Matrix: LSTM with multiple-feature extraction methods')\n",
    "plt.show()"
   ],
   "id": "76808ed10ed8366e"
  },
  {
   "metadata": {
    "ExecuteTime": {
     "end_time": "2024-11-04T13:59:42.859398Z",
     "start_time": "2024-11-04T13:59:42.843855Z"
    }
   },
   "cell_type": "code",
   "source": "y_train.shape",
   "id": "6c56411ed7ad3149",
   "outputs": [
    {
     "data": {
      "text/plain": [
       "(319, 5)"
      ]
     },
     "execution_count": 41,
     "metadata": {},
     "output_type": "execute_result"
    }
   ],
   "execution_count": 41
  },
  {
   "metadata": {
    "ExecuteTime": {
     "end_time": "2024-11-04T13:59:18.835895Z",
     "start_time": "2024-11-04T13:59:18.762016Z"
    }
   },
   "cell_type": "code",
   "source": "X_test.shape",
   "id": "ebdf75f3e2765fcb",
   "outputs": [
    {
     "data": {
      "text/plain": [
       "(138, 174, 160)"
      ]
     },
     "execution_count": 39,
     "metadata": {},
     "output_type": "execute_result"
    }
   ],
   "execution_count": 39
  },
  {
   "metadata": {
    "ExecuteTime": {
     "end_time": "2024-11-04T13:31:47.964510Z",
     "start_time": "2024-11-04T13:31:47.932857Z"
    }
   },
   "cell_type": "code",
   "source": "X_train.shape",
   "id": "2e85e6ede52604e6",
   "outputs": [
    {
     "data": {
      "text/plain": [
       "(319, 174, 160)"
      ]
     },
     "execution_count": 25,
     "metadata": {},
     "output_type": "execute_result"
    }
   ],
   "execution_count": 25
  },
  {
   "metadata": {
    "ExecuteTime": {
     "end_time": "2024-11-04T13:31:54.906513Z",
     "start_time": "2024-11-04T13:31:54.843601Z"
    }
   },
   "cell_type": "code",
   "source": [
    "# Define the RNN model\n",
    "rnn_model = Sequential()"
   ],
   "id": "9336b5f51ff6ba24",
   "outputs": [],
   "execution_count": 26
  },
  {
   "metadata": {
    "ExecuteTime": {
     "end_time": "2024-11-04T13:31:57.395959Z",
     "start_time": "2024-11-04T13:31:57.175219Z"
    }
   },
   "cell_type": "code",
   "source": [
    "# Add SimpleRNN layer\n",
    "rnn_model.add(SimpleRNN(128, input_shape=(X_train.shape[1], X_train.shape[2]), return_sequences=True))\n",
    "rnn_model.add(Dropout(0.3))"
   ],
   "id": "9f5586b4ecf39643",
   "outputs": [],
   "execution_count": 27
  },
  {
   "metadata": {
    "ExecuteTime": {
     "end_time": "2024-11-04T13:32:01.324152Z",
     "start_time": "2024-11-04T13:32:01.261242Z"
    }
   },
   "cell_type": "code",
   "source": [
    "# Add another SimpleRNN layer\n",
    "rnn_model.add(SimpleRNN(64, return_sequences=False))\n",
    "rnn_model.add(Dropout(0.3))"
   ],
   "id": "921dcb78f6ce57f6",
   "outputs": [],
   "execution_count": 28
  },
  {
   "metadata": {
    "ExecuteTime": {
     "end_time": "2024-11-04T13:32:02.527891Z",
     "start_time": "2024-11-04T13:32:02.480980Z"
    }
   },
   "cell_type": "code",
   "source": [
    "# Add Dense layers\n",
    "rnn_model.add(Dense(32, activation='relu'))\n",
    "rnn_model.add(Dropout(0.3))"
   ],
   "id": "f870123eb3832124",
   "outputs": [],
   "execution_count": 29
  },
  {
   "metadata": {
    "ExecuteTime": {
     "end_time": "2024-11-04T13:32:03.596600Z",
     "start_time": "2024-11-04T13:32:03.549309Z"
    }
   },
   "cell_type": "code",
   "source": [
    "# Output layer with softmax for multi-class classification\n",
    "rnn_model.add(Dense(len(class_labels), activation='softmax'))"
   ],
   "id": "22b2dca02d92982f",
   "outputs": [],
   "execution_count": 30
  },
  {
   "metadata": {
    "ExecuteTime": {
     "end_time": "2024-11-04T13:32:04.971350Z",
     "start_time": "2024-11-04T13:32:04.924475Z"
    }
   },
   "cell_type": "code",
   "source": [
    "# Compile the model\n",
    "rnn_model.compile(optimizer='adam', loss='categorical_crossentropy', metrics=['accuracy'])\n"
   ],
   "id": "5661b29526000b73",
   "outputs": [],
   "execution_count": 31
  },
  {
   "metadata": {
    "ExecuteTime": {
     "end_time": "2024-11-04T13:33:06.826362Z",
     "start_time": "2024-11-04T13:32:08.970929Z"
    }
   },
   "cell_type": "code",
   "source": [
    "# Train the model\n",
    "history = rnn_model.fit(X_train, y_train, epochs=50, batch_size=32, validation_data=(X_test, y_test))"
   ],
   "id": "a6ff96e8e9e4baf2",
   "outputs": [
    {
     "name": "stdout",
     "output_type": "stream",
     "text": [
      "Epoch 1/50\n",
      "10/10 [==============================] - 7s 179ms/step - loss: 1.2672 - accuracy: 0.5361 - val_loss: 0.7799 - val_accuracy: 0.8116\n",
      "Epoch 2/50\n",
      "10/10 [==============================] - 1s 119ms/step - loss: 0.8106 - accuracy: 0.8245 - val_loss: 0.6969 - val_accuracy: 0.8333\n",
      "Epoch 3/50\n",
      "10/10 [==============================] - 1s 115ms/step - loss: 0.7532 - accuracy: 0.8370 - val_loss: 0.7184 - val_accuracy: 0.8333\n",
      "Epoch 4/50\n",
      "10/10 [==============================] - 1s 105ms/step - loss: 0.7348 - accuracy: 0.8370 - val_loss: 0.6824 - val_accuracy: 0.8333\n",
      "Epoch 5/50\n",
      "10/10 [==============================] - 1s 140ms/step - loss: 0.7581 - accuracy: 0.8307 - val_loss: 0.6896 - val_accuracy: 0.8333\n",
      "Epoch 6/50\n",
      "10/10 [==============================] - 1s 124ms/step - loss: 0.7441 - accuracy: 0.8370 - val_loss: 0.6771 - val_accuracy: 0.8333\n",
      "Epoch 7/50\n",
      "10/10 [==============================] - 1s 119ms/step - loss: 0.7006 - accuracy: 0.8339 - val_loss: 0.6833 - val_accuracy: 0.8333\n",
      "Epoch 8/50\n",
      "10/10 [==============================] - 1s 123ms/step - loss: 0.7042 - accuracy: 0.8370 - val_loss: 0.6768 - val_accuracy: 0.8333\n",
      "Epoch 9/50\n",
      "10/10 [==============================] - 1s 123ms/step - loss: 0.7940 - accuracy: 0.8088 - val_loss: 0.6764 - val_accuracy: 0.8333\n",
      "Epoch 10/50\n",
      "10/10 [==============================] - 1s 124ms/step - loss: 0.6924 - accuracy: 0.8370 - val_loss: 0.6780 - val_accuracy: 0.8333\n",
      "Epoch 11/50\n",
      "10/10 [==============================] - 1s 137ms/step - loss: 0.7434 - accuracy: 0.8370 - val_loss: 0.6758 - val_accuracy: 0.8333\n",
      "Epoch 12/50\n",
      "10/10 [==============================] - 1s 122ms/step - loss: 0.7267 - accuracy: 0.8339 - val_loss: 0.6745 - val_accuracy: 0.8333\n",
      "Epoch 13/50\n",
      "10/10 [==============================] - 1s 128ms/step - loss: 0.7060 - accuracy: 0.8370 - val_loss: 0.6740 - val_accuracy: 0.8333\n",
      "Epoch 14/50\n",
      "10/10 [==============================] - 1s 113ms/step - loss: 0.7004 - accuracy: 0.8370 - val_loss: 0.6738 - val_accuracy: 0.8333\n",
      "Epoch 15/50\n",
      "10/10 [==============================] - 1s 99ms/step - loss: 0.6797 - accuracy: 0.8370 - val_loss: 0.6853 - val_accuracy: 0.8333\n",
      "Epoch 16/50\n",
      "10/10 [==============================] - 1s 99ms/step - loss: 0.7157 - accuracy: 0.8339 - val_loss: 0.6778 - val_accuracy: 0.8333\n",
      "Epoch 17/50\n",
      "10/10 [==============================] - 1s 102ms/step - loss: 0.7290 - accuracy: 0.8370 - val_loss: 0.6730 - val_accuracy: 0.8333\n",
      "Epoch 18/50\n",
      "10/10 [==============================] - 1s 99ms/step - loss: 0.6774 - accuracy: 0.8370 - val_loss: 0.6747 - val_accuracy: 0.8333\n",
      "Epoch 19/50\n",
      "10/10 [==============================] - 1s 111ms/step - loss: 0.7353 - accuracy: 0.8370 - val_loss: 0.6737 - val_accuracy: 0.8333\n",
      "Epoch 20/50\n",
      "10/10 [==============================] - 1s 104ms/step - loss: 0.7353 - accuracy: 0.8339 - val_loss: 0.6744 - val_accuracy: 0.8333\n",
      "Epoch 21/50\n",
      "10/10 [==============================] - 1s 101ms/step - loss: 0.6828 - accuracy: 0.8370 - val_loss: 0.6774 - val_accuracy: 0.8333\n",
      "Epoch 22/50\n",
      "10/10 [==============================] - 1s 92ms/step - loss: 0.7129 - accuracy: 0.8370 - val_loss: 0.6750 - val_accuracy: 0.8333\n",
      "Epoch 23/50\n",
      "10/10 [==============================] - 1s 96ms/step - loss: 0.6862 - accuracy: 0.8370 - val_loss: 0.6746 - val_accuracy: 0.8333\n",
      "Epoch 24/50\n",
      "10/10 [==============================] - 1s 94ms/step - loss: 0.7253 - accuracy: 0.8370 - val_loss: 0.6735 - val_accuracy: 0.8333\n",
      "Epoch 25/50\n",
      "10/10 [==============================] - 1s 94ms/step - loss: 0.7176 - accuracy: 0.8370 - val_loss: 0.6745 - val_accuracy: 0.8333\n",
      "Epoch 26/50\n",
      "10/10 [==============================] - 1s 99ms/step - loss: 0.7376 - accuracy: 0.8370 - val_loss: 0.6761 - val_accuracy: 0.8333\n",
      "Epoch 27/50\n",
      "10/10 [==============================] - 1s 99ms/step - loss: 0.7163 - accuracy: 0.8339 - val_loss: 0.6745 - val_accuracy: 0.8333\n",
      "Epoch 28/50\n",
      "10/10 [==============================] - 1s 99ms/step - loss: 0.7019 - accuracy: 0.8370 - val_loss: 0.6748 - val_accuracy: 0.8333\n",
      "Epoch 29/50\n",
      "10/10 [==============================] - 1s 104ms/step - loss: 0.6953 - accuracy: 0.8370 - val_loss: 0.6743 - val_accuracy: 0.8333\n",
      "Epoch 30/50\n",
      "10/10 [==============================] - 1s 102ms/step - loss: 0.6942 - accuracy: 0.8370 - val_loss: 0.6736 - val_accuracy: 0.8333\n",
      "Epoch 31/50\n",
      "10/10 [==============================] - 1s 102ms/step - loss: 0.7075 - accuracy: 0.8370 - val_loss: 0.6755 - val_accuracy: 0.8333\n",
      "Epoch 32/50\n",
      "10/10 [==============================] - 1s 92ms/step - loss: 0.6809 - accuracy: 0.8370 - val_loss: 0.6730 - val_accuracy: 0.8333\n",
      "Epoch 33/50\n",
      "10/10 [==============================] - 1s 95ms/step - loss: 0.6966 - accuracy: 0.8370 - val_loss: 0.6733 - val_accuracy: 0.8333\n",
      "Epoch 34/50\n",
      "10/10 [==============================] - 1s 93ms/step - loss: 0.6980 - accuracy: 0.8370 - val_loss: 0.6769 - val_accuracy: 0.8333\n",
      "Epoch 35/50\n",
      "10/10 [==============================] - 1s 92ms/step - loss: 0.7108 - accuracy: 0.8370 - val_loss: 0.6739 - val_accuracy: 0.8333\n",
      "Epoch 36/50\n",
      "10/10 [==============================] - 1s 93ms/step - loss: 0.7180 - accuracy: 0.8370 - val_loss: 0.6753 - val_accuracy: 0.8333\n",
      "Epoch 37/50\n",
      "10/10 [==============================] - 1s 98ms/step - loss: 0.6989 - accuracy: 0.8370 - val_loss: 0.6739 - val_accuracy: 0.8333\n",
      "Epoch 38/50\n",
      "10/10 [==============================] - 1s 92ms/step - loss: 0.7371 - accuracy: 0.8370 - val_loss: 0.6744 - val_accuracy: 0.8333\n",
      "Epoch 39/50\n",
      "10/10 [==============================] - 1s 91ms/step - loss: 0.6793 - accuracy: 0.8370 - val_loss: 0.6769 - val_accuracy: 0.8333\n",
      "Epoch 40/50\n",
      "10/10 [==============================] - 1s 94ms/step - loss: 0.7373 - accuracy: 0.8370 - val_loss: 0.6777 - val_accuracy: 0.8333\n",
      "Epoch 41/50\n",
      "10/10 [==============================] - 1s 95ms/step - loss: 0.7335 - accuracy: 0.8370 - val_loss: 0.6935 - val_accuracy: 0.8333\n",
      "Epoch 42/50\n",
      "10/10 [==============================] - 1s 106ms/step - loss: 0.7230 - accuracy: 0.8370 - val_loss: 0.6762 - val_accuracy: 0.8333\n",
      "Epoch 43/50\n",
      "10/10 [==============================] - 1s 118ms/step - loss: 0.7098 - accuracy: 0.8370 - val_loss: 0.6780 - val_accuracy: 0.8333\n",
      "Epoch 44/50\n",
      "10/10 [==============================] - 1s 95ms/step - loss: 0.6962 - accuracy: 0.8370 - val_loss: 0.6893 - val_accuracy: 0.8333\n",
      "Epoch 45/50\n",
      "10/10 [==============================] - 1s 93ms/step - loss: 0.7066 - accuracy: 0.8370 - val_loss: 0.6847 - val_accuracy: 0.8333\n",
      "Epoch 46/50\n",
      "10/10 [==============================] - 1s 96ms/step - loss: 0.7348 - accuracy: 0.8370 - val_loss: 0.6819 - val_accuracy: 0.8333\n",
      "Epoch 47/50\n",
      "10/10 [==============================] - 1s 98ms/step - loss: 0.7238 - accuracy: 0.8370 - val_loss: 0.6878 - val_accuracy: 0.8333\n",
      "Epoch 48/50\n",
      "10/10 [==============================] - 1s 93ms/step - loss: 0.7197 - accuracy: 0.8370 - val_loss: 0.6757 - val_accuracy: 0.8333\n",
      "Epoch 49/50\n",
      "10/10 [==============================] - 1s 93ms/step - loss: 0.6874 - accuracy: 0.8370 - val_loss: 0.6749 - val_accuracy: 0.8333\n",
      "Epoch 50/50\n",
      "10/10 [==============================] - 1s 93ms/step - loss: 0.6967 - accuracy: 0.8370 - val_loss: 0.6739 - val_accuracy: 0.8333\n"
     ]
    }
   ],
   "execution_count": 32
  },
  {
   "metadata": {
    "ExecuteTime": {
     "end_time": "2024-11-04T13:38:50.138928Z",
     "start_time": "2024-11-04T13:38:49.838534Z"
    }
   },
   "cell_type": "code",
   "source": [
    "# Evaluate the model\n",
    "y_pred_rnn = np.argmax(rnn_model.predict(X_test), axis=1)\n",
    "y_test_rnn = np.argmax(y_test, axis=1)"
   ],
   "id": "e2c65393f2827c20",
   "outputs": [
    {
     "name": "stdout",
     "output_type": "stream",
     "text": [
      "5/5 [==============================] - 0s 16ms/step\n"
     ]
    }
   ],
   "execution_count": 34
  },
  {
   "metadata": {
    "ExecuteTime": {
     "end_time": "2024-11-04T13:38:51.672726Z",
     "start_time": "2024-11-04T13:38:51.659436Z"
    }
   },
   "cell_type": "code",
   "source": [
    "# Accuracy\n",
    "accuracy = accuracy_score(y_test_rnn, y_pred_rnn)\n",
    "print(f'Accuracy: {accuracy * 100:.2f}%')"
   ],
   "id": "8e00e499cd0cf854",
   "outputs": [
    {
     "name": "stdout",
     "output_type": "stream",
     "text": [
      "Accuracy: 83.33%\n"
     ]
    }
   ],
   "execution_count": 35
  },
  {
   "metadata": {
    "ExecuteTime": {
     "end_time": "2024-11-04T13:38:54.196327Z",
     "start_time": "2024-11-04T13:38:54.180298Z"
    }
   },
   "cell_type": "code",
   "source": [
    "new_row = pd.DataFrame([[\"RNN\", accuracy]], columns=['Model', 'Accuracy'])\n",
    "results_df = pd.concat([results_df, new_row], ignore_index=True)\n",
    "results_df"
   ],
   "id": "8fc748e430e98ab",
   "outputs": [
    {
     "data": {
      "text/plain": [
       "  Model  Accuracy\n",
       "0  LSTM  0.833333\n",
       "1   RNN  0.833333"
      ],
      "text/html": [
       "<div>\n",
       "<style scoped>\n",
       "    .dataframe tbody tr th:only-of-type {\n",
       "        vertical-align: middle;\n",
       "    }\n",
       "\n",
       "    .dataframe tbody tr th {\n",
       "        vertical-align: top;\n",
       "    }\n",
       "\n",
       "    .dataframe thead th {\n",
       "        text-align: right;\n",
       "    }\n",
       "</style>\n",
       "<table border=\"1\" class=\"dataframe\">\n",
       "  <thead>\n",
       "    <tr style=\"text-align: right;\">\n",
       "      <th></th>\n",
       "      <th>Model</th>\n",
       "      <th>Accuracy</th>\n",
       "    </tr>\n",
       "  </thead>\n",
       "  <tbody>\n",
       "    <tr>\n",
       "      <th>0</th>\n",
       "      <td>LSTM</td>\n",
       "      <td>0.833333</td>\n",
       "    </tr>\n",
       "    <tr>\n",
       "      <th>1</th>\n",
       "      <td>RNN</td>\n",
       "      <td>0.833333</td>\n",
       "    </tr>\n",
       "  </tbody>\n",
       "</table>\n",
       "</div>"
      ]
     },
     "execution_count": 36,
     "metadata": {},
     "output_type": "execute_result"
    }
   ],
   "execution_count": 36
  },
  {
   "metadata": {
    "ExecuteTime": {
     "end_time": "2024-11-04T13:38:59.557629Z",
     "start_time": "2024-11-04T13:38:59.528767Z"
    }
   },
   "cell_type": "code",
   "source": [
    "# Classification report\n",
    "print(classification_report(y_test_rnn, y_pred_rnn, target_names=class_labels))\n"
   ],
   "id": "69f1562f2696f43b",
   "outputs": [
    {
     "name": "stdout",
     "output_type": "stream",
     "text": [
      "              precision    recall  f1-score   support\n",
      "\n",
      "  belly_pain       0.00      0.00      0.00         5\n",
      "     burping       0.00      0.00      0.00         3\n",
      "  discomfort       0.00      0.00      0.00         8\n",
      "      hungry       0.83      1.00      0.91       115\n",
      "       tired       0.00      0.00      0.00         7\n",
      "\n",
      "    accuracy                           0.83       138\n",
      "   macro avg       0.17      0.20      0.18       138\n",
      "weighted avg       0.69      0.83      0.76       138\n",
      "\n"
     ]
    },
    {
     "name": "stderr",
     "output_type": "stream",
     "text": [
      "D:\\NCI\\Sem 3\\Thesis\\code_DB\\newBabyCryAnalysis\\pythonProject\\.venv\\lib\\site-packages\\sklearn\\metrics\\_classification.py:1471: UndefinedMetricWarning: Precision and F-score are ill-defined and being set to 0.0 in labels with no predicted samples. Use `zero_division` parameter to control this behavior.\n",
      "  _warn_prf(average, modifier, msg_start, len(result))\n",
      "D:\\NCI\\Sem 3\\Thesis\\code_DB\\newBabyCryAnalysis\\pythonProject\\.venv\\lib\\site-packages\\sklearn\\metrics\\_classification.py:1471: UndefinedMetricWarning: Precision and F-score are ill-defined and being set to 0.0 in labels with no predicted samples. Use `zero_division` parameter to control this behavior.\n",
      "  _warn_prf(average, modifier, msg_start, len(result))\n",
      "D:\\NCI\\Sem 3\\Thesis\\code_DB\\newBabyCryAnalysis\\pythonProject\\.venv\\lib\\site-packages\\sklearn\\metrics\\_classification.py:1471: UndefinedMetricWarning: Precision and F-score are ill-defined and being set to 0.0 in labels with no predicted samples. Use `zero_division` parameter to control this behavior.\n",
      "  _warn_prf(average, modifier, msg_start, len(result))\n"
     ]
    }
   ],
   "execution_count": 37
  },
  {
   "metadata": {
    "ExecuteTime": {
     "end_time": "2024-11-04T13:39:03.001442Z",
     "start_time": "2024-11-04T13:39:02.744040Z"
    }
   },
   "cell_type": "code",
   "source": [
    "# Confusion Matrix\n",
    "cm = confusion_matrix(y_test_rnn, y_pred_rnn)\n",
    "\n",
    "# Plotting the confusion matrix\n",
    "plt.figure(figsize=(10, 7))\n",
    "sns.heatmap(cm, annot=True, fmt='d', cmap='Blues', xticklabels=class_labels, yticklabels=class_labels)\n",
    "plt.xlabel('Predicted')\n",
    "plt.ylabel('Actual')\n",
    "plt.title('Confusion Matrix: RNN with multiple-feature extraction methods')\n",
    "plt.show()"
   ],
   "id": "728246a4de3548fc",
   "outputs": [
    {
     "data": {
      "text/plain": [
       "<Figure size 1000x700 with 2 Axes>"
      ],
      "image/png": "[encoded data removed]"
     },
     "metadata": {},
     "output_type": "display_data"
    }
   ],
   "execution_count": 38
  },
  {
   "metadata": {},
   "cell_type": "markdown",
   "source": "## CTGAN  : handling data imbalance by synthetic data generation for minority classes",
   "id": "d938e014f9a0e886"
  },
  {
   "metadata": {
    "ExecuteTime": {
     "end_time": "2024-10-23T11:52:44.401785Z",
     "start_time": "2024-10-23T11:52:44.386337Z"
    }
   },
   "cell_type": "code",
   "source": [
    "# Check initial class distribution\n",
    "print(f\"Initial class distribution: {Counter(y)}\")"
   ],
   "id": "43dc756024384e7",
   "outputs": [
    {
     "name": "stdout",
     "output_type": "stream",
     "text": [
      "Initial class distribution: Counter({3: 382, 2: 27, 4: 24, 0: 16, 1: 8})\n"
     ]
    }
   ],
   "execution_count": 27
  },
  {
   "metadata": {
    "ExecuteTime": {
     "end_time": "2024-10-23T11:52:45.490222Z",
     "start_time": "2024-10-23T11:52:45.474579Z"
    }
   },
   "cell_type": "code",
   "source": "X_flat = X.reshape(X.shape[0], -1)",
   "id": "6d196d6b389fbdeb",
   "outputs": [],
   "execution_count": 28
  },
  {
   "metadata": {
    "ExecuteTime": {
     "end_time": "2024-10-23T11:52:46.999002Z",
     "start_time": "2024-10-23T11:52:46.983392Z"
    }
   },
   "cell_type": "code",
   "source": "df_ct = pd.DataFrame()",
   "id": "cf20042cdd953ada",
   "outputs": [],
   "execution_count": 29
  },
  {
   "metadata": {
    "ExecuteTime": {
     "end_time": "2024-10-23T11:52:48.302519Z",
     "start_time": "2024-10-23T11:52:48.286910Z"
    }
   },
   "cell_type": "code",
   "source": [
    "## Applying CTGAN to generate synthetic data for minority classes ##\n",
    "df_ct = pd.DataFrame(X_flat)\n"
   ],
   "id": "599b6f3c0d03ac9b",
   "outputs": [],
   "execution_count": 30
  },
  {
   "metadata": {
    "ExecuteTime": {
     "end_time": "2024-10-23T11:52:49.659941Z",
     "start_time": "2024-10-23T11:52:49.631550Z"
    }
   },
   "cell_type": "code",
   "source": "df_ct.shape",
   "id": "5bc45ea2f809c286",
   "outputs": [
    {
     "data": {
      "text/plain": [
       "(457, 27840)"
      ]
     },
     "execution_count": 31,
     "metadata": {},
     "output_type": "execute_result"
    }
   ],
   "execution_count": 31
  },
  {
   "metadata": {
    "ExecuteTime": {
     "end_time": "2024-10-23T11:52:50.979996Z",
     "start_time": "2024-10-23T11:52:50.964320Z"
    }
   },
   "cell_type": "code",
   "source": "y.shape",
   "id": "67bb7f039fd16375",
   "outputs": [
    {
     "data": {
      "text/plain": [
       "(457,)"
      ]
     },
     "execution_count": 32,
     "metadata": {},
     "output_type": "execute_result"
    }
   ],
   "execution_count": 32
  },
  {
   "metadata": {
    "ExecuteTime": {
     "end_time": "2024-10-23T11:52:53.604273Z",
     "start_time": "2024-10-23T11:52:53.588677Z"
    }
   },
   "cell_type": "code",
   "source": [
    "# Add the label column to the DataFrame\n",
    "df_ct['label'] = y  #  y is a 1D array of size (457,)\n",
    "\n",
    "# Ensure that 'label' is treated as a categorical column\n",
    "df_ct['label'] = df_ct['label'].astype('str')#.cat.codes  # Convert labels to int (discrete values)\n"
   ],
   "id": "81ed3ee8bc24c92b",
   "outputs": [],
   "execution_count": 33
  },
  {
   "metadata": {
    "ExecuteTime": {
     "end_time": "2024-10-16T10:04:44.130038Z",
     "start_time": "2024-10-16T10:04:44.114197Z"
    }
   },
   "cell_type": "code",
   "source": [
    "\n",
    "#df_ct[27842] = y  #  y is a 1D array of size (457,)\n",
    "\n",
    "# Ensure that 'label' is treated as a categorical column\n",
    "#df_ct[27842] = df_ct[27842].astype('category').cat.codes  "
   ],
   "id": "688b273790552e1b",
   "outputs": [],
   "execution_count": 173
  },
  {
   "metadata": {
    "ExecuteTime": {
     "end_time": "2024-10-16T06:09:24.197147Z",
     "start_time": "2024-10-16T06:09:24.174713Z"
    }
   },
   "cell_type": "code",
   "source": "df_ct['label']",
   "id": "1c55ffa118f810ad",
   "outputs": [
    {
     "data": {
      "text/plain": [
       "0      0.0\n",
       "1      0.0\n",
       "2      0.0\n",
       "3      0.0\n",
       "4      0.0\n",
       "      ... \n",
       "452    4.0\n",
       "453    4.0\n",
       "454    4.0\n",
       "455    4.0\n",
       "456    4.0\n",
       "Name: label, Length: 457, dtype: float64"
      ]
     },
     "execution_count": 153,
     "metadata": {},
     "output_type": "execute_result"
    }
   ],
   "execution_count": 153
  },
  {
   "metadata": {
    "ExecuteTime": {
     "end_time": "2024-10-23T11:53:09.880875Z",
     "start_time": "2024-10-23T11:53:09.866227Z"
    }
   },
   "cell_type": "code",
   "source": [
    "# Check initial class distribution\n",
    "print(f\"Initial class distribution: {Counter(y)}\")"
   ],
   "id": "bc6c265a29db8b70",
   "outputs": [
    {
     "name": "stdout",
     "output_type": "stream",
     "text": [
      "Initial class distribution: Counter({3: 382, 2: 27, 4: 24, 0: 16, 1: 8})\n"
     ]
    }
   ],
   "execution_count": 34
  },
  {
   "metadata": {
    "ExecuteTime": {
     "end_time": "2024-10-23T11:54:02.285477Z",
     "start_time": "2024-10-23T11:54:02.269894Z"
    }
   },
   "cell_type": "code",
   "source": [
    "# Initialize CTGAN model\n",
    "ctgan = CTGAN(epochs=5, verbose=True)#epochs=10"
   ],
   "id": "e010b28fd5e6f63e",
   "outputs": [],
   "execution_count": 39
  },
  {
   "metadata": {
    "ExecuteTime": {
     "end_time": "2024-10-23T11:54:03.625100Z",
     "start_time": "2024-10-23T11:54:03.609502Z"
    }
   },
   "cell_type": "code",
   "source": "print(df_ct.columns)",
   "id": "6095f4b0ed15c273",
   "outputs": [
    {
     "name": "stdout",
     "output_type": "stream",
     "text": [
      "Index(['0', '1', '2', '3', '4', '5', '6', '7', '8', '9',\n",
      "       ...\n",
      "       '27831', '27832', '27833', '27834', '27835', '27836', '27837', '27838',\n",
      "       '27839', 'label'],\n",
      "      dtype='object', length=27841)\n"
     ]
    }
   ],
   "execution_count": 40
  },
  {
   "metadata": {
    "ExecuteTime": {
     "end_time": "2024-10-23T11:54:04.533172Z",
     "start_time": "2024-10-23T11:54:04.517403Z"
    }
   },
   "cell_type": "code",
   "source": "df_ct['label']",
   "id": "4b6a3a6b4d806e9c",
   "outputs": [
    {
     "data": {
      "text/plain": [
       "0      0\n",
       "1      0\n",
       "2      0\n",
       "3      0\n",
       "4      0\n",
       "      ..\n",
       "452    4\n",
       "453    4\n",
       "454    4\n",
       "455    4\n",
       "456    4\n",
       "Name: label, Length: 457, dtype: object"
      ]
     },
     "execution_count": 41,
     "metadata": {},
     "output_type": "execute_result"
    }
   ],
   "execution_count": 41
  },
  {
   "metadata": {
    "ExecuteTime": {
     "end_time": "2024-10-23T11:54:06.574619Z",
     "start_time": "2024-10-23T11:54:06.472471Z"
    }
   },
   "cell_type": "code",
   "source": "df_ct = df_ct.dropna()",
   "id": "a589d799d6f223dc",
   "outputs": [],
   "execution_count": 42
  },
  {
   "metadata": {
    "ExecuteTime": {
     "end_time": "2024-10-23T11:54:07.726100Z",
     "start_time": "2024-10-23T11:54:07.710436Z"
    }
   },
   "cell_type": "code",
   "source": "#df_ct.rename(columns={'label':27842}, inplace=True)",
   "id": "3fdb3642a3a0283a",
   "outputs": [],
   "execution_count": 43
  },
  {
   "metadata": {
    "ExecuteTime": {
     "end_time": "2024-10-23T11:54:08.903935Z",
     "start_time": "2024-10-23T11:54:08.872613Z"
    }
   },
   "cell_type": "code",
   "source": "df_ct.columns=df_ct.columns.astype(str)",
   "id": "3e04023938e9c050",
   "outputs": [],
   "execution_count": 44
  },
  {
   "metadata": {
    "ExecuteTime": {
     "end_time": "2024-10-23T12:15:58.716905Z",
     "start_time": "2024-10-23T11:54:10.154271Z"
    }
   },
   "cell_type": "code",
   "source": [
    "# Fit the CTGAN model on the entire dataset\n",
    "ctgan.fit((df_ct)) # abs(df_ct)"
   ],
   "id": "1da4a3c1a36dc6d1",
   "outputs": [
    {
     "ename": "KeyboardInterrupt",
     "evalue": "",
     "output_type": "error",
     "traceback": [
      "\u001B[1;31m---------------------------------------------------------------------------\u001B[0m",
      "\u001B[1;31mKeyboardInterrupt\u001B[0m                         Traceback (most recent call last)",
      "Cell \u001B[1;32mIn[45], line 2\u001B[0m\n\u001B[0;32m      1\u001B[0m \u001B[38;5;66;03m# Fit the CTGAN model on the entire dataset\u001B[39;00m\n\u001B[1;32m----> 2\u001B[0m \u001B[43mctgan\u001B[49m\u001B[38;5;241;43m.\u001B[39;49m\u001B[43mfit\u001B[49m\u001B[43m(\u001B[49m\u001B[43m(\u001B[49m\u001B[43mdf_ct\u001B[49m\u001B[43m)\u001B[49m\u001B[43m)\u001B[49m \u001B[38;5;66;03m# abs(df_ct)\u001B[39;00m\n",
      "File \u001B[1;32mD:\\NCI\\Sem 3\\Thesis\\code_DB\\newBabyCryAnalysis\\pythonProject\\.venv\\lib\\site-packages\\ctgan\\synthesizers\\base.py:50\u001B[0m, in \u001B[0;36mrandom_state.<locals>.wrapper\u001B[1;34m(self, *args, **kwargs)\u001B[0m\n\u001B[0;32m     48\u001B[0m \u001B[38;5;28;01mdef\u001B[39;00m \u001B[38;5;21mwrapper\u001B[39m(\u001B[38;5;28mself\u001B[39m, \u001B[38;5;241m*\u001B[39margs, \u001B[38;5;241m*\u001B[39m\u001B[38;5;241m*\u001B[39mkwargs):\n\u001B[0;32m     49\u001B[0m     \u001B[38;5;28;01mif\u001B[39;00m \u001B[38;5;28mself\u001B[39m\u001B[38;5;241m.\u001B[39mrandom_states \u001B[38;5;129;01mis\u001B[39;00m \u001B[38;5;28;01mNone\u001B[39;00m:\n\u001B[1;32m---> 50\u001B[0m         \u001B[38;5;28;01mreturn\u001B[39;00m \u001B[43mfunction\u001B[49m\u001B[43m(\u001B[49m\u001B[38;5;28;43mself\u001B[39;49m\u001B[43m,\u001B[49m\u001B[43m \u001B[49m\u001B[38;5;241;43m*\u001B[39;49m\u001B[43margs\u001B[49m\u001B[43m,\u001B[49m\u001B[43m \u001B[49m\u001B[38;5;241;43m*\u001B[39;49m\u001B[38;5;241;43m*\u001B[39;49m\u001B[43mkwargs\u001B[49m\u001B[43m)\u001B[49m\n\u001B[0;32m     52\u001B[0m     \u001B[38;5;28;01melse\u001B[39;00m:\n\u001B[0;32m     53\u001B[0m         \u001B[38;5;28;01mwith\u001B[39;00m set_random_states(\u001B[38;5;28mself\u001B[39m\u001B[38;5;241m.\u001B[39mrandom_states, \u001B[38;5;28mself\u001B[39m\u001B[38;5;241m.\u001B[39mset_random_state):\n",
      "File \u001B[1;32mD:\\NCI\\Sem 3\\Thesis\\code_DB\\newBabyCryAnalysis\\pythonProject\\.venv\\lib\\site-packages\\ctgan\\synthesizers\\ctgan.py:304\u001B[0m, in \u001B[0;36mCTGAN.fit\u001B[1;34m(self, train_data, discrete_columns, epochs)\u001B[0m\n\u001B[0;32m    297\u001B[0m     warnings\u001B[38;5;241m.\u001B[39mwarn(\n\u001B[0;32m    298\u001B[0m         (\u001B[38;5;124m'\u001B[39m\u001B[38;5;124m`epochs` argument in `fit` method has been deprecated and will be removed \u001B[39m\u001B[38;5;124m'\u001B[39m\n\u001B[0;32m    299\u001B[0m          \u001B[38;5;124m'\u001B[39m\u001B[38;5;124min a future version. Please pass `epochs` to the constructor instead\u001B[39m\u001B[38;5;124m'\u001B[39m),\n\u001B[0;32m    300\u001B[0m         \u001B[38;5;167;01mDeprecationWarning\u001B[39;00m\n\u001B[0;32m    301\u001B[0m     )\n\u001B[0;32m    303\u001B[0m \u001B[38;5;28mself\u001B[39m\u001B[38;5;241m.\u001B[39m_transformer \u001B[38;5;241m=\u001B[39m DataTransformer()\n\u001B[1;32m--> 304\u001B[0m \u001B[38;5;28;43mself\u001B[39;49m\u001B[38;5;241;43m.\u001B[39;49m\u001B[43m_transformer\u001B[49m\u001B[38;5;241;43m.\u001B[39;49m\u001B[43mfit\u001B[49m\u001B[43m(\u001B[49m\u001B[43mtrain_data\u001B[49m\u001B[43m,\u001B[49m\u001B[43m \u001B[49m\u001B[43mdiscrete_columns\u001B[49m\u001B[43m)\u001B[49m\n\u001B[0;32m    306\u001B[0m train_data \u001B[38;5;241m=\u001B[39m \u001B[38;5;28mself\u001B[39m\u001B[38;5;241m.\u001B[39m_transformer\u001B[38;5;241m.\u001B[39mtransform(train_data)\n\u001B[0;32m    308\u001B[0m \u001B[38;5;28mself\u001B[39m\u001B[38;5;241m.\u001B[39m_data_sampler \u001B[38;5;241m=\u001B[39m DataSampler(\n\u001B[0;32m    309\u001B[0m     train_data,\n\u001B[0;32m    310\u001B[0m     \u001B[38;5;28mself\u001B[39m\u001B[38;5;241m.\u001B[39m_transformer\u001B[38;5;241m.\u001B[39moutput_info_list,\n\u001B[0;32m    311\u001B[0m     \u001B[38;5;28mself\u001B[39m\u001B[38;5;241m.\u001B[39m_log_frequency)\n",
      "File \u001B[1;32mD:\\NCI\\Sem 3\\Thesis\\code_DB\\newBabyCryAnalysis\\pythonProject\\.venv\\lib\\site-packages\\ctgan\\data_transformer.py:108\u001B[0m, in \u001B[0;36mDataTransformer.fit\u001B[1;34m(self, raw_data, discrete_columns)\u001B[0m\n\u001B[0;32m    106\u001B[0m     column_transform_info \u001B[38;5;241m=\u001B[39m \u001B[38;5;28mself\u001B[39m\u001B[38;5;241m.\u001B[39m_fit_discrete(raw_data[[column_name]])\n\u001B[0;32m    107\u001B[0m \u001B[38;5;28;01melse\u001B[39;00m:\n\u001B[1;32m--> 108\u001B[0m     column_transform_info \u001B[38;5;241m=\u001B[39m \u001B[38;5;28;43mself\u001B[39;49m\u001B[38;5;241;43m.\u001B[39;49m\u001B[43m_fit_continuous\u001B[49m\u001B[43m(\u001B[49m\u001B[43mraw_data\u001B[49m\u001B[43m[\u001B[49m\u001B[43m[\u001B[49m\u001B[43mcolumn_name\u001B[49m\u001B[43m]\u001B[49m\u001B[43m]\u001B[49m\u001B[43m)\u001B[49m\n\u001B[0;32m    110\u001B[0m \u001B[38;5;28mself\u001B[39m\u001B[38;5;241m.\u001B[39moutput_info_list\u001B[38;5;241m.\u001B[39mappend(column_transform_info\u001B[38;5;241m.\u001B[39moutput_info)\n\u001B[0;32m    111\u001B[0m \u001B[38;5;28mself\u001B[39m\u001B[38;5;241m.\u001B[39moutput_dimensions \u001B[38;5;241m+\u001B[39m\u001B[38;5;241m=\u001B[39m column_transform_info\u001B[38;5;241m.\u001B[39moutput_dimensions\n",
      "File \u001B[1;32mD:\\NCI\\Sem 3\\Thesis\\code_DB\\newBabyCryAnalysis\\pythonProject\\.venv\\lib\\site-packages\\ctgan\\data_transformer.py:54\u001B[0m, in \u001B[0;36mDataTransformer._fit_continuous\u001B[1;34m(self, data)\u001B[0m\n\u001B[0;32m     48\u001B[0m column_name \u001B[38;5;241m=\u001B[39m data\u001B[38;5;241m.\u001B[39mcolumns[\u001B[38;5;241m0\u001B[39m]\n\u001B[0;32m     49\u001B[0m gm \u001B[38;5;241m=\u001B[39m ClusterBasedNormalizer(\n\u001B[0;32m     50\u001B[0m     missing_value_generation\u001B[38;5;241m=\u001B[39m\u001B[38;5;124m'\u001B[39m\u001B[38;5;124mfrom_column\u001B[39m\u001B[38;5;124m'\u001B[39m,\n\u001B[0;32m     51\u001B[0m     max_clusters\u001B[38;5;241m=\u001B[39m\u001B[38;5;28mmin\u001B[39m(\u001B[38;5;28mlen\u001B[39m(data), \u001B[38;5;28mself\u001B[39m\u001B[38;5;241m.\u001B[39m_max_clusters),\n\u001B[0;32m     52\u001B[0m     weight_threshold\u001B[38;5;241m=\u001B[39m\u001B[38;5;28mself\u001B[39m\u001B[38;5;241m.\u001B[39m_weight_threshold\n\u001B[0;32m     53\u001B[0m )\n\u001B[1;32m---> 54\u001B[0m \u001B[43mgm\u001B[49m\u001B[38;5;241;43m.\u001B[39;49m\u001B[43mfit\u001B[49m\u001B[43m(\u001B[49m\u001B[43mdata\u001B[49m\u001B[43m,\u001B[49m\u001B[43m \u001B[49m\u001B[43mcolumn_name\u001B[49m\u001B[43m)\u001B[49m\n\u001B[0;32m     55\u001B[0m num_components \u001B[38;5;241m=\u001B[39m \u001B[38;5;28msum\u001B[39m(gm\u001B[38;5;241m.\u001B[39mvalid_component_indicator)\n\u001B[0;32m     57\u001B[0m \u001B[38;5;28;01mreturn\u001B[39;00m ColumnTransformInfo(\n\u001B[0;32m     58\u001B[0m     column_name\u001B[38;5;241m=\u001B[39mcolumn_name, column_type\u001B[38;5;241m=\u001B[39m\u001B[38;5;124m'\u001B[39m\u001B[38;5;124mcontinuous\u001B[39m\u001B[38;5;124m'\u001B[39m, transform\u001B[38;5;241m=\u001B[39mgm,\n\u001B[0;32m     59\u001B[0m     output_info\u001B[38;5;241m=\u001B[39m[SpanInfo(\u001B[38;5;241m1\u001B[39m, \u001B[38;5;124m'\u001B[39m\u001B[38;5;124mtanh\u001B[39m\u001B[38;5;124m'\u001B[39m), SpanInfo(num_components, \u001B[38;5;124m'\u001B[39m\u001B[38;5;124msoftmax\u001B[39m\u001B[38;5;124m'\u001B[39m)],\n\u001B[0;32m     60\u001B[0m     output_dimensions\u001B[38;5;241m=\u001B[39m\u001B[38;5;241m1\u001B[39m \u001B[38;5;241m+\u001B[39m num_components)\n",
      "File \u001B[1;32mD:\\NCI\\Sem 3\\Thesis\\code_DB\\newBabyCryAnalysis\\pythonProject\\.venv\\lib\\site-packages\\rdt\\transformers\\base.py:57\u001B[0m, in \u001B[0;36mrandom_state.<locals>.wrapper\u001B[1;34m(self, *args, **kwargs)\u001B[0m\n\u001B[0;32m     55\u001B[0m method_name \u001B[38;5;241m=\u001B[39m function\u001B[38;5;241m.\u001B[39m\u001B[38;5;18m__name__\u001B[39m\n\u001B[0;32m     56\u001B[0m \u001B[38;5;28;01mwith\u001B[39;00m set_random_states(\u001B[38;5;28mself\u001B[39m\u001B[38;5;241m.\u001B[39mrandom_states, method_name, \u001B[38;5;28mself\u001B[39m\u001B[38;5;241m.\u001B[39mset_random_state):\n\u001B[1;32m---> 57\u001B[0m     \u001B[38;5;28;01mreturn\u001B[39;00m \u001B[43mfunction\u001B[49m\u001B[43m(\u001B[49m\u001B[38;5;28;43mself\u001B[39;49m\u001B[43m,\u001B[49m\u001B[43m \u001B[49m\u001B[38;5;241;43m*\u001B[39;49m\u001B[43margs\u001B[49m\u001B[43m,\u001B[49m\u001B[43m \u001B[49m\u001B[38;5;241;43m*\u001B[39;49m\u001B[38;5;241;43m*\u001B[39;49m\u001B[43mkwargs\u001B[49m\u001B[43m)\u001B[49m\n",
      "File \u001B[1;32mD:\\NCI\\Sem 3\\Thesis\\code_DB\\newBabyCryAnalysis\\pythonProject\\.venv\\lib\\site-packages\\rdt\\transformers\\base.py:394\u001B[0m, in \u001B[0;36mBaseTransformer.fit\u001B[1;34m(self, data, column)\u001B[0m\n\u001B[0;32m    392\u001B[0m \u001B[38;5;28mself\u001B[39m\u001B[38;5;241m.\u001B[39m_set_seed(data)\n\u001B[0;32m    393\u001B[0m columns_data \u001B[38;5;241m=\u001B[39m \u001B[38;5;28mself\u001B[39m\u001B[38;5;241m.\u001B[39m_get_columns_data(data, \u001B[38;5;28mself\u001B[39m\u001B[38;5;241m.\u001B[39mcolumns)\n\u001B[1;32m--> 394\u001B[0m \u001B[38;5;28;43mself\u001B[39;49m\u001B[38;5;241;43m.\u001B[39;49m\u001B[43m_fit\u001B[49m\u001B[43m(\u001B[49m\u001B[43mcolumns_data\u001B[49m\u001B[43m)\u001B[49m\n\u001B[0;32m    395\u001B[0m \u001B[38;5;28mself\u001B[39m\u001B[38;5;241m.\u001B[39m_build_output_columns(data)\n",
      "File \u001B[1;32mD:\\NCI\\Sem 3\\Thesis\\code_DB\\newBabyCryAnalysis\\pythonProject\\.venv\\lib\\site-packages\\rdt\\transformers\\numerical.py:545\u001B[0m, in \u001B[0;36mClusterBasedNormalizer._fit\u001B[1;34m(self, data)\u001B[0m\n\u001B[0;32m    543\u001B[0m \u001B[38;5;28;01mwith\u001B[39;00m warnings\u001B[38;5;241m.\u001B[39mcatch_warnings():\n\u001B[0;32m    544\u001B[0m     warnings\u001B[38;5;241m.\u001B[39msimplefilter(\u001B[38;5;124m'\u001B[39m\u001B[38;5;124mignore\u001B[39m\u001B[38;5;124m'\u001B[39m)\n\u001B[1;32m--> 545\u001B[0m     \u001B[38;5;28;43mself\u001B[39;49m\u001B[38;5;241;43m.\u001B[39;49m\u001B[43m_bgm_transformer\u001B[49m\u001B[38;5;241;43m.\u001B[39;49m\u001B[43mfit\u001B[49m\u001B[43m(\u001B[49m\u001B[43mdata\u001B[49m\u001B[38;5;241;43m.\u001B[39;49m\u001B[43mreshape\u001B[49m\u001B[43m(\u001B[49m\u001B[38;5;241;43m-\u001B[39;49m\u001B[38;5;241;43m1\u001B[39;49m\u001B[43m,\u001B[49m\u001B[43m \u001B[49m\u001B[38;5;241;43m1\u001B[39;49m\u001B[43m)\u001B[49m\u001B[43m)\u001B[49m\n\u001B[0;32m    547\u001B[0m \u001B[38;5;28mself\u001B[39m\u001B[38;5;241m.\u001B[39mvalid_component_indicator \u001B[38;5;241m=\u001B[39m \u001B[38;5;28mself\u001B[39m\u001B[38;5;241m.\u001B[39m_bgm_transformer\u001B[38;5;241m.\u001B[39mweights_ \u001B[38;5;241m>\u001B[39m \u001B[38;5;28mself\u001B[39m\u001B[38;5;241m.\u001B[39mweight_threshold\n",
      "File \u001B[1;32mD:\\NCI\\Sem 3\\Thesis\\code_DB\\newBabyCryAnalysis\\pythonProject\\.venv\\lib\\site-packages\\sklearn\\mixture\\_base.py:181\u001B[0m, in \u001B[0;36mBaseMixture.fit\u001B[1;34m(self, X, y)\u001B[0m\n\u001B[0;32m    155\u001B[0m \u001B[38;5;250m\u001B[39m\u001B[38;5;124;03m\"\"\"Estimate model parameters with the EM algorithm.\u001B[39;00m\n\u001B[0;32m    156\u001B[0m \n\u001B[0;32m    157\u001B[0m \u001B[38;5;124;03mThe method fits the model ``n_init`` times and sets the parameters with\u001B[39;00m\n\u001B[1;32m   (...)\u001B[0m\n\u001B[0;32m    178\u001B[0m \u001B[38;5;124;03m    The fitted mixture.\u001B[39;00m\n\u001B[0;32m    179\u001B[0m \u001B[38;5;124;03m\"\"\"\u001B[39;00m\n\u001B[0;32m    180\u001B[0m \u001B[38;5;66;03m# parameters are validated in fit_predict\u001B[39;00m\n\u001B[1;32m--> 181\u001B[0m \u001B[38;5;28;43mself\u001B[39;49m\u001B[38;5;241;43m.\u001B[39;49m\u001B[43mfit_predict\u001B[49m\u001B[43m(\u001B[49m\u001B[43mX\u001B[49m\u001B[43m,\u001B[49m\u001B[43m \u001B[49m\u001B[43my\u001B[49m\u001B[43m)\u001B[49m\n\u001B[0;32m    182\u001B[0m \u001B[38;5;28;01mreturn\u001B[39;00m \u001B[38;5;28mself\u001B[39m\n",
      "File \u001B[1;32mD:\\NCI\\Sem 3\\Thesis\\code_DB\\newBabyCryAnalysis\\pythonProject\\.venv\\lib\\site-packages\\sklearn\\base.py:1152\u001B[0m, in \u001B[0;36m_fit_context.<locals>.decorator.<locals>.wrapper\u001B[1;34m(estimator, *args, **kwargs)\u001B[0m\n\u001B[0;32m   1145\u001B[0m     estimator\u001B[38;5;241m.\u001B[39m_validate_params()\n\u001B[0;32m   1147\u001B[0m \u001B[38;5;28;01mwith\u001B[39;00m config_context(\n\u001B[0;32m   1148\u001B[0m     skip_parameter_validation\u001B[38;5;241m=\u001B[39m(\n\u001B[0;32m   1149\u001B[0m         prefer_skip_nested_validation \u001B[38;5;129;01mor\u001B[39;00m global_skip_validation\n\u001B[0;32m   1150\u001B[0m     )\n\u001B[0;32m   1151\u001B[0m ):\n\u001B[1;32m-> 1152\u001B[0m     \u001B[38;5;28;01mreturn\u001B[39;00m \u001B[43mfit_method\u001B[49m\u001B[43m(\u001B[49m\u001B[43mestimator\u001B[49m\u001B[43m,\u001B[49m\u001B[43m \u001B[49m\u001B[38;5;241;43m*\u001B[39;49m\u001B[43margs\u001B[49m\u001B[43m,\u001B[49m\u001B[43m \u001B[49m\u001B[38;5;241;43m*\u001B[39;49m\u001B[38;5;241;43m*\u001B[39;49m\u001B[43mkwargs\u001B[49m\u001B[43m)\u001B[49m\n",
      "File \u001B[1;32mD:\\NCI\\Sem 3\\Thesis\\code_DB\\newBabyCryAnalysis\\pythonProject\\.venv\\lib\\site-packages\\sklearn\\mixture\\_base.py:235\u001B[0m, in \u001B[0;36mBaseMixture.fit_predict\u001B[1;34m(self, X, y)\u001B[0m\n\u001B[0;32m    232\u001B[0m \u001B[38;5;28mself\u001B[39m\u001B[38;5;241m.\u001B[39m_print_verbose_msg_init_beg(init)\n\u001B[0;32m    234\u001B[0m \u001B[38;5;28;01mif\u001B[39;00m do_init:\n\u001B[1;32m--> 235\u001B[0m     \u001B[38;5;28;43mself\u001B[39;49m\u001B[38;5;241;43m.\u001B[39;49m\u001B[43m_initialize_parameters\u001B[49m\u001B[43m(\u001B[49m\u001B[43mX\u001B[49m\u001B[43m,\u001B[49m\u001B[43m \u001B[49m\u001B[43mrandom_state\u001B[49m\u001B[43m)\u001B[49m\n\u001B[0;32m    237\u001B[0m lower_bound \u001B[38;5;241m=\u001B[39m \u001B[38;5;241m-\u001B[39mnp\u001B[38;5;241m.\u001B[39minf \u001B[38;5;28;01mif\u001B[39;00m do_init \u001B[38;5;28;01melse\u001B[39;00m \u001B[38;5;28mself\u001B[39m\u001B[38;5;241m.\u001B[39mlower_bound_\n\u001B[0;32m    239\u001B[0m \u001B[38;5;28;01mif\u001B[39;00m \u001B[38;5;28mself\u001B[39m\u001B[38;5;241m.\u001B[39mmax_iter \u001B[38;5;241m==\u001B[39m \u001B[38;5;241m0\u001B[39m:\n",
      "File \u001B[1;32mD:\\NCI\\Sem 3\\Thesis\\code_DB\\newBabyCryAnalysis\\pythonProject\\.venv\\lib\\site-packages\\sklearn\\mixture\\_base.py:140\u001B[0m, in \u001B[0;36mBaseMixture._initialize_parameters\u001B[1;34m(self, X, random_state)\u001B[0m\n\u001B[0;32m    133\u001B[0m     _, indices \u001B[38;5;241m=\u001B[39m kmeans_plusplus(\n\u001B[0;32m    134\u001B[0m         X,\n\u001B[0;32m    135\u001B[0m         \u001B[38;5;28mself\u001B[39m\u001B[38;5;241m.\u001B[39mn_components,\n\u001B[0;32m    136\u001B[0m         random_state\u001B[38;5;241m=\u001B[39mrandom_state,\n\u001B[0;32m    137\u001B[0m     )\n\u001B[0;32m    138\u001B[0m     resp[indices, np\u001B[38;5;241m.\u001B[39marange(\u001B[38;5;28mself\u001B[39m\u001B[38;5;241m.\u001B[39mn_components)] \u001B[38;5;241m=\u001B[39m \u001B[38;5;241m1\u001B[39m\n\u001B[1;32m--> 140\u001B[0m \u001B[38;5;28;43mself\u001B[39;49m\u001B[38;5;241;43m.\u001B[39;49m\u001B[43m_initialize\u001B[49m\u001B[43m(\u001B[49m\u001B[43mX\u001B[49m\u001B[43m,\u001B[49m\u001B[43m \u001B[49m\u001B[43mresp\u001B[49m\u001B[43m)\u001B[49m\n",
      "File \u001B[1;32mD:\\NCI\\Sem 3\\Thesis\\code_DB\\newBabyCryAnalysis\\pythonProject\\.venv\\lib\\site-packages\\sklearn\\mixture\\_bayesian_mixture.py:521\u001B[0m, in \u001B[0;36mBayesianGaussianMixture._initialize\u001B[1;34m(self, X, resp)\u001B[0m\n\u001B[0;32m    512\u001B[0m \u001B[38;5;28;01mdef\u001B[39;00m \u001B[38;5;21m_initialize\u001B[39m(\u001B[38;5;28mself\u001B[39m, X, resp):\n\u001B[0;32m    513\u001B[0m \u001B[38;5;250m    \u001B[39m\u001B[38;5;124;03m\"\"\"Initialization of the mixture parameters.\u001B[39;00m\n\u001B[0;32m    514\u001B[0m \n\u001B[0;32m    515\u001B[0m \u001B[38;5;124;03m    Parameters\u001B[39;00m\n\u001B[1;32m   (...)\u001B[0m\n\u001B[0;32m    519\u001B[0m \u001B[38;5;124;03m    resp : array-like of shape (n_samples, n_components)\u001B[39;00m\n\u001B[0;32m    520\u001B[0m \u001B[38;5;124;03m    \"\"\"\u001B[39;00m\n\u001B[1;32m--> 521\u001B[0m     nk, xk, sk \u001B[38;5;241m=\u001B[39m \u001B[43m_estimate_gaussian_parameters\u001B[49m\u001B[43m(\u001B[49m\n\u001B[0;32m    522\u001B[0m \u001B[43m        \u001B[49m\u001B[43mX\u001B[49m\u001B[43m,\u001B[49m\u001B[43m \u001B[49m\u001B[43mresp\u001B[49m\u001B[43m,\u001B[49m\u001B[43m \u001B[49m\u001B[38;5;28;43mself\u001B[39;49m\u001B[38;5;241;43m.\u001B[39;49m\u001B[43mreg_covar\u001B[49m\u001B[43m,\u001B[49m\u001B[43m \u001B[49m\u001B[38;5;28;43mself\u001B[39;49m\u001B[38;5;241;43m.\u001B[39;49m\u001B[43mcovariance_type\u001B[49m\n\u001B[0;32m    523\u001B[0m \u001B[43m    \u001B[49m\u001B[43m)\u001B[49m\n\u001B[0;32m    525\u001B[0m     \u001B[38;5;28mself\u001B[39m\u001B[38;5;241m.\u001B[39m_estimate_weights(nk)\n\u001B[0;32m    526\u001B[0m     \u001B[38;5;28mself\u001B[39m\u001B[38;5;241m.\u001B[39m_estimate_means(nk, xk)\n",
      "File \u001B[1;32mD:\\NCI\\Sem 3\\Thesis\\code_DB\\newBabyCryAnalysis\\pythonProject\\.venv\\lib\\site-packages\\sklearn\\mixture\\_gaussian_mixture.py:290\u001B[0m, in \u001B[0;36m_estimate_gaussian_parameters\u001B[1;34m(X, resp, reg_covar, covariance_type)\u001B[0m\n\u001B[0;32m    288\u001B[0m nk \u001B[38;5;241m=\u001B[39m resp\u001B[38;5;241m.\u001B[39msum(axis\u001B[38;5;241m=\u001B[39m\u001B[38;5;241m0\u001B[39m) \u001B[38;5;241m+\u001B[39m \u001B[38;5;241m10\u001B[39m \u001B[38;5;241m*\u001B[39m np\u001B[38;5;241m.\u001B[39mfinfo(resp\u001B[38;5;241m.\u001B[39mdtype)\u001B[38;5;241m.\u001B[39meps\n\u001B[0;32m    289\u001B[0m means \u001B[38;5;241m=\u001B[39m np\u001B[38;5;241m.\u001B[39mdot(resp\u001B[38;5;241m.\u001B[39mT, X) \u001B[38;5;241m/\u001B[39m nk[:, np\u001B[38;5;241m.\u001B[39mnewaxis]\n\u001B[1;32m--> 290\u001B[0m covariances \u001B[38;5;241m=\u001B[39m \u001B[43m{\u001B[49m\n\u001B[0;32m    291\u001B[0m \u001B[43m    \u001B[49m\u001B[38;5;124;43m\"\u001B[39;49m\u001B[38;5;124;43mfull\u001B[39;49m\u001B[38;5;124;43m\"\u001B[39;49m\u001B[43m:\u001B[49m\u001B[43m \u001B[49m\u001B[43m_estimate_gaussian_covariances_full\u001B[49m\u001B[43m,\u001B[49m\n\u001B[0;32m    292\u001B[0m \u001B[43m    \u001B[49m\u001B[38;5;124;43m\"\u001B[39;49m\u001B[38;5;124;43mtied\u001B[39;49m\u001B[38;5;124;43m\"\u001B[39;49m\u001B[43m:\u001B[49m\u001B[43m \u001B[49m\u001B[43m_estimate_gaussian_covariances_tied\u001B[49m\u001B[43m,\u001B[49m\n\u001B[0;32m    293\u001B[0m \u001B[43m    \u001B[49m\u001B[38;5;124;43m\"\u001B[39;49m\u001B[38;5;124;43mdiag\u001B[39;49m\u001B[38;5;124;43m\"\u001B[39;49m\u001B[43m:\u001B[49m\u001B[43m \u001B[49m\u001B[43m_estimate_gaussian_covariances_diag\u001B[49m\u001B[43m,\u001B[49m\n\u001B[0;32m    294\u001B[0m \u001B[43m    \u001B[49m\u001B[38;5;124;43m\"\u001B[39;49m\u001B[38;5;124;43mspherical\u001B[39;49m\u001B[38;5;124;43m\"\u001B[39;49m\u001B[43m:\u001B[49m\u001B[43m \u001B[49m\u001B[43m_estimate_gaussian_covariances_spherical\u001B[49m\u001B[43m,\u001B[49m\n\u001B[0;32m    295\u001B[0m \u001B[43m\u001B[49m\u001B[43m}\u001B[49m\u001B[43m[\u001B[49m\u001B[43mcovariance_type\u001B[49m\u001B[43m]\u001B[49m\u001B[43m(\u001B[49m\u001B[43mresp\u001B[49m\u001B[43m,\u001B[49m\u001B[43m \u001B[49m\u001B[43mX\u001B[49m\u001B[43m,\u001B[49m\u001B[43m \u001B[49m\u001B[43mnk\u001B[49m\u001B[43m,\u001B[49m\u001B[43m \u001B[49m\u001B[43mmeans\u001B[49m\u001B[43m,\u001B[49m\u001B[43m \u001B[49m\u001B[43mreg_covar\u001B[49m\u001B[43m)\u001B[49m\n\u001B[0;32m    296\u001B[0m \u001B[38;5;28;01mreturn\u001B[39;00m nk, means, covariances\n",
      "File \u001B[1;32mD:\\NCI\\Sem 3\\Thesis\\code_DB\\newBabyCryAnalysis\\pythonProject\\.venv\\lib\\site-packages\\sklearn\\mixture\\_gaussian_mixture.py:177\u001B[0m, in \u001B[0;36m_estimate_gaussian_covariances_full\u001B[1;34m(resp, X, nk, means, reg_covar)\u001B[0m\n\u001B[0;32m    175\u001B[0m \u001B[38;5;28;01mfor\u001B[39;00m k \u001B[38;5;129;01min\u001B[39;00m \u001B[38;5;28mrange\u001B[39m(n_components):\n\u001B[0;32m    176\u001B[0m     diff \u001B[38;5;241m=\u001B[39m X \u001B[38;5;241m-\u001B[39m means[k]\n\u001B[1;32m--> 177\u001B[0m     covariances[k] \u001B[38;5;241m=\u001B[39m \u001B[43mnp\u001B[49m\u001B[38;5;241;43m.\u001B[39;49m\u001B[43mdot\u001B[49m\u001B[43m(\u001B[49m\u001B[43mresp\u001B[49m\u001B[43m[\u001B[49m\u001B[43m:\u001B[49m\u001B[43m,\u001B[49m\u001B[43m \u001B[49m\u001B[43mk\u001B[49m\u001B[43m]\u001B[49m\u001B[43m \u001B[49m\u001B[38;5;241;43m*\u001B[39;49m\u001B[43m \u001B[49m\u001B[43mdiff\u001B[49m\u001B[38;5;241;43m.\u001B[39;49m\u001B[43mT\u001B[49m\u001B[43m,\u001B[49m\u001B[43m \u001B[49m\u001B[43mdiff\u001B[49m\u001B[43m)\u001B[49m \u001B[38;5;241m/\u001B[39m nk[k]\n\u001B[0;32m    178\u001B[0m     covariances[k]\u001B[38;5;241m.\u001B[39mflat[:: n_features \u001B[38;5;241m+\u001B[39m \u001B[38;5;241m1\u001B[39m] \u001B[38;5;241m+\u001B[39m\u001B[38;5;241m=\u001B[39m reg_covar\n\u001B[0;32m    179\u001B[0m \u001B[38;5;28;01mreturn\u001B[39;00m covariances\n",
      "File \u001B[1;32m<__array_function__ internals>:200\u001B[0m, in \u001B[0;36mdot\u001B[1;34m(*args, **kwargs)\u001B[0m\n",
      "\u001B[1;31mKeyboardInterrupt\u001B[0m: "
     ]
    }
   ],
   "execution_count": 45
  },
  {
   "metadata": {},
   "cell_type": "code",
   "outputs": [],
   "execution_count": null,
   "source": "#https://sustainabilitymethods.org/index.php/How_To_Create_Synthetic_Data_with_CTGAN",
   "id": "9d2c5d7a58341b1c"
  },
  {
   "metadata": {
    "ExecuteTime": {
     "end_time": "2024-10-16T10:14:34.895087Z",
     "start_time": "2024-10-16T10:14:34.869172Z"
    }
   },
   "cell_type": "code",
   "source": "",
   "id": "5e0bbb1a0363f86f",
   "outputs": [],
   "execution_count": 178
  },
  {
   "metadata": {
    "ExecuteTime": {
     "end_time": "2024-10-16T06:05:18.569730Z",
     "start_time": "2024-10-16T06:05:18.563679Z"
    }
   },
   "cell_type": "code",
   "source": "print(df_ct.dtypes)",
   "id": "25a49350abbc0c89",
   "outputs": [
    {
     "name": "stdout",
     "output_type": "stream",
     "text": [
      "0        float64\n",
      "1        float64\n",
      "2        float64\n",
      "3        float64\n",
      "4        float64\n",
      "          ...   \n",
      "27836    float64\n",
      "27837    float64\n",
      "27838    float64\n",
      "27839    float64\n",
      "label    float64\n",
      "Length: 27841, dtype: object\n"
     ]
    }
   ],
   "execution_count": 144
  },
  {
   "metadata": {},
   "cell_type": "code",
   "outputs": [],
   "execution_count": null,
   "source": "",
   "id": "6ba5bbd93c987b9b"
  }
 ],
 "metadata": {
  "kernelspec": {
   "display_name": "Python 3",
   "language": "python",
   "name": "python3"
  },
  "language_info": {
   "codemirror_mode": {
    "name": "ipython",
    "version": 2
   },
   "file_extension": ".py",
   "mimetype": "text/x-python",
   "name": "python",
   "nbconvert_exporter": "python",
   "pygments_lexer": "ipython2",
   "version": "2.7.6"
  }
 },
 "nbformat": 4,
 "nbformat_minor": 5
}
