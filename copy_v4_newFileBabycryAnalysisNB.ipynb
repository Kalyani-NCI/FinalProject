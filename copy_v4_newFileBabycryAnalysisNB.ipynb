{
 "cells": [
  {
   "cell_type": "code",
   "id": "initial_id",
   "metadata": {
    "collapsed": true,
    "ExecuteTime": {
     "end_time": "2024-11-05T09:36:09.179138Z",
     "start_time": "2024-11-05T09:36:09.023215Z"
    }
   },
   "source": [
    "import os\n",
    "import librosa\n",
    "import numpy as np\n",
    "from sklearn.model_selection import train_test_split\n",
    "from sklearn.svm import SVC\n",
    "from sklearn.ensemble import RandomForestClassifier,AdaBoostClassifier\n",
    "from sklearn.metrics import classification_report, accuracy_score,confusion_matrix,f1_score, precision_score, recall_score\n",
    "import matplotlib.pyplot as plt\n",
    "import seaborn as sns\n",
    "from imblearn.over_sampling import SMOTE\n",
    "from collections import Counter\n",
    "from sklearn.utils import resample\n",
    "import xgboost as xgb\n",
    "from sklearn.neighbors import KNeighborsClassifier\n",
    "from sklearn.ensemble import GradientBoostingClassifier\n",
    "from sklearn.neural_network import MLPClassifier\n",
    "from sklearn.preprocessing import LabelBinarizer\n",
    "from keras.utils import to_categorical\n",
    "from keras.models import Sequential\n",
    "from keras.layers import LSTM, Dense, Dropout,Flatten,SimpleRNN\n",
    "import pandas as pd\n",
    "from ctgan import CTGAN\n",
    "from tensorflow.keras.models import Model\n",
    "from xgboost import XGBClassifier\n",
    "from sklearn.linear_model import LogisticRegression\n",
    "from sklearn.ensemble import StackingClassifier\n",
    "from sklearn.model_selection import cross_val_score\n",
    "from sklearn.metrics import make_scorer, f1_score, precision_score, recall_score, classification_report, confusion_matrix\n",
    "\n",
    "\n",
    "from tensorflow.keras.layers import Conv1D, MaxPooling1D, Dense\n",
    "\n"
   ],
   "outputs": [],
   "execution_count": 79
  },
  {
   "metadata": {
    "ExecuteTime": {
     "end_time": "2024-11-05T08:23:50.265743Z",
     "start_time": "2024-11-05T08:23:50.250452Z"
    }
   },
   "cell_type": "code",
   "source": [
    "# Dataset Path\n",
    "data_path = 'D:/NCI/Sem 3/Thesis/code_DB/dataset'"
   ],
   "id": "4397bd02116d4534",
   "outputs": [],
   "execution_count": 2
  },
  {
   "metadata": {
    "ExecuteTime": {
     "end_time": "2024-11-05T08:23:50.281466Z",
     "start_time": "2024-11-05T08:23:50.265743Z"
    }
   },
   "cell_type": "code",
   "source": [
    "#classes\n",
    "class_labels = ['belly_pain', 'burping', 'discomfort', 'hungry', 'tired']\n",
    "\n",
    "# Initialize lists to hold features and labels\n",
    "X = []\n",
    "y = []\n",
    "\n",
    "# Parameters for feature extraction\n",
    "n_mfcc = 13  # Number of MFCC features to extract\n",
    "n_chroma = 12  # Number of chroma features\n",
    "n_spectral_contrast = 7  # Number of spectral contrast features\n",
    "max_pad_len = 174  # Ensure all audio files have the same length\n"
   ],
   "id": "67fef6f3ee4bd235",
   "outputs": [],
   "execution_count": 3
  },
  {
   "metadata": {
    "ExecuteTime": {
     "end_time": "2024-11-05T08:23:50.297577Z",
     "start_time": "2024-11-05T08:23:50.281466Z"
    }
   },
   "cell_type": "code",
   "source": "results_df = pd.DataFrame(columns=['Model', 'Accuracy','F1 Score','Precision','Recall'])",
   "id": "60c3f8fa847439bf",
   "outputs": [],
   "execution_count": 4
  },
  {
   "metadata": {
    "ExecuteTime": {
     "end_time": "2024-11-05T08:23:50.313440Z",
     "start_time": "2024-11-05T08:23:50.298377Z"
    }
   },
   "cell_type": "code",
   "source": [
    "def extract_mfcc(file_path):\n",
    "    \"\"\"Extract MFCC features from a given audio file.\"\"\"\n",
    "    audio, sample_rate = librosa.load(file_path, res_type='kaiser_fast')\n",
    "    mfccs = librosa.feature.mfcc(y=audio, sr=sample_rate, n_mfcc=n_mfcc)\n",
    "    # Pad or truncate the MFCCs to a fixed length\n",
    "    pad_width = max_pad_len - mfccs.shape[1]\n",
    "    if pad_width > 0:\n",
    "        mfccs = np.pad(mfccs, pad_width=((0, 0), (0, pad_width)), mode='constant')\n",
    "    else:\n",
    "        mfccs = mfccs[:, :max_pad_len]\n",
    "    return mfccs"
   ],
   "id": "8b654350d4c793d7",
   "outputs": [],
   "execution_count": 5
  },
  {
   "metadata": {
    "ExecuteTime": {
     "end_time": "2024-11-05T08:24:20.446141Z",
     "start_time": "2024-11-05T08:23:50.313440Z"
    }
   },
   "cell_type": "code",
   "source": [
    "# Loop through each class folder and extract MFCCs\n",
    "for i, label in enumerate(class_labels):\n",
    "    folder_path = os.path.join(data_path, label)\n",
    "    for file_name in os.listdir(folder_path):\n",
    "        if file_name.endswith('.wav'):\n",
    "            file_path = os.path.join(folder_path, file_name)\n",
    "            mfcc = extract_mfcc(file_path)\n",
    "            X.append(mfcc)\n",
    "            y.append(i)  # Store the class label as an integer"
   ],
   "id": "6cb525226a124f7b",
   "outputs": [],
   "execution_count": 6
  },
  {
   "metadata": {
    "ExecuteTime": {
     "end_time": "2024-11-05T08:24:20.466739Z",
     "start_time": "2024-11-05T08:24:20.446141Z"
    }
   },
   "cell_type": "code",
   "source": [
    "# Convert to numpy arrays\n",
    "X_mfcc = np.array(X)\n",
    "y_mfcc = np.array(y)\n",
    "X1 = X_mfcc\n",
    "y1 = y_mfcc"
   ],
   "id": "9995eb362c50dcab",
   "outputs": [],
   "execution_count": 7
  },
  {
   "metadata": {
    "ExecuteTime": {
     "end_time": "2024-11-05T08:24:20.482385Z",
     "start_time": "2024-11-05T08:24:20.466739Z"
    }
   },
   "cell_type": "code",
   "source": [
    "# Reshape X to be suitable for the SVM\n",
    "X_mfcc = X_mfcc.reshape(X_mfcc.shape[0], -1)  # Flatten the MFCC array"
   ],
   "id": "840fc966c8e253b5",
   "outputs": [],
   "execution_count": 8
  },
  {
   "metadata": {
    "ExecuteTime": {
     "end_time": "2024-11-05T08:24:20.498006Z",
     "start_time": "2024-11-05T08:24:20.482385Z"
    }
   },
   "cell_type": "code",
   "source": "print(f'Extracted {X_mfcc.shape[0]} samples with shape {X_mfcc.shape}')",
   "id": "6c97e65380fc4f1b",
   "outputs": [
    {
     "name": "stdout",
     "output_type": "stream",
     "text": [
      "Extracted 457 samples with shape (457, 2262)\n"
     ]
    }
   ],
   "execution_count": 9
  },
  {
   "metadata": {},
   "cell_type": "markdown",
   "source": "## Simple models with original data",
   "id": "9918c8900292a77f"
  },
  {
   "metadata": {
    "ExecuteTime": {
     "end_time": "2024-11-05T08:24:20.513707Z",
     "start_time": "2024-11-05T08:24:20.498006Z"
    }
   },
   "cell_type": "code",
   "source": [
    "#Split the data into training and test sets\n",
    "X_mfcc_train, X_mfcc_test, y_mfcc_train, y_mfcc_test = train_test_split(X_mfcc, y_mfcc, test_size=0.2, random_state=42)"
   ],
   "id": "6eafea02a1504b47",
   "outputs": [],
   "execution_count": 10
  },
  {
   "metadata": {},
   "cell_type": "markdown",
   "source": "1. SVM model Simple",
   "id": "750c2c6a84845ce1"
  },
  {
   "metadata": {
    "ExecuteTime": {
     "end_time": "2024-11-05T08:24:20.529278Z",
     "start_time": "2024-11-05T08:24:20.513707Z"
    }
   },
   "cell_type": "code",
   "source": [
    "# Initialize the SVM model\n",
    "svm_model = SVC(kernel='linear', random_state=42)"
   ],
   "id": "cfd9deacda3800c7",
   "outputs": [],
   "execution_count": 11
  },
  {
   "metadata": {
    "ExecuteTime": {
     "end_time": "2024-11-05T08:24:20.544964Z",
     "start_time": "2024-11-05T08:24:20.529278Z"
    }
   },
   "cell_type": "code",
   "source": [
    "# Define a list of scoring metrics\n",
    "scoring_metrics = {\n",
    "    'accuracy': 'accuracy',\n",
    "    'f1_weighted': make_scorer(f1_score, average='weighted'),\n",
    "    'precision_weighted': make_scorer(precision_score, average='weighted'),\n",
    "    'recall_weighted': make_scorer(recall_score, average='weighted')\n",
    "}\n",
    "\n"
   ],
   "id": "4ac52c2f81291fc",
   "outputs": [],
   "execution_count": 12
  },
  {
   "metadata": {
    "ExecuteTime": {
     "end_time": "2024-11-05T08:24:21.912264Z",
     "start_time": "2024-11-05T08:24:20.547003Z"
    }
   },
   "cell_type": "code",
   "source": [
    "# Apply 5-fold cross-validation and collect each metric's results\n",
    "results = {}\n",
    "for metric_name, metric in scoring_metrics.items():\n",
    "    scores = cross_val_score(svm_model, X_mfcc_train, y_mfcc_train, cv=5, scoring=metric)\n",
    "    results[metric_name] = scores.mean()\n",
    "\n"
   ],
   "id": "e0de7a70b8f4eefa",
   "outputs": [
    {
     "name": "stderr",
     "output_type": "stream",
     "text": [
      "D:\\NCI\\Sem 3\\Thesis\\code_DB\\newBabyCryAnalysis\\pythonProject\\.venv\\lib\\site-packages\\sklearn\\metrics\\_classification.py:1471: UndefinedMetricWarning: Precision is ill-defined and being set to 0.0 in labels with no predicted samples. Use `zero_division` parameter to control this behavior.\n",
      "  _warn_prf(average, modifier, msg_start, len(result))\n",
      "D:\\NCI\\Sem 3\\Thesis\\code_DB\\newBabyCryAnalysis\\pythonProject\\.venv\\lib\\site-packages\\sklearn\\metrics\\_classification.py:1471: UndefinedMetricWarning: Precision is ill-defined and being set to 0.0 in labels with no predicted samples. Use `zero_division` parameter to control this behavior.\n",
      "  _warn_prf(average, modifier, msg_start, len(result))\n",
      "D:\\NCI\\Sem 3\\Thesis\\code_DB\\newBabyCryAnalysis\\pythonProject\\.venv\\lib\\site-packages\\sklearn\\metrics\\_classification.py:1471: UndefinedMetricWarning: Precision is ill-defined and being set to 0.0 in labels with no predicted samples. Use `zero_division` parameter to control this behavior.\n",
      "  _warn_prf(average, modifier, msg_start, len(result))\n"
     ]
    }
   ],
   "execution_count": 13
  },
  {
   "metadata": {
    "ExecuteTime": {
     "end_time": "2024-11-05T08:24:21.933702Z",
     "start_time": "2024-11-05T08:24:21.912999Z"
    }
   },
   "cell_type": "code",
   "source": [
    "# Print the average cross-validation results for each metric\n",
    "for metric_name, score in results.items():\n",
    "    print(f'5-Fold Cross-Validation {metric_name.capitalize()}: {score:.2f}')\n",
    "\n",
    "# Add the cross-validation results to the results dataframe\n",
    "new_row_cv = pd.DataFrame([[\"SVM (5-fold CV)\", results['accuracy'], results['f1_weighted'], \n",
    "                            results['precision_weighted'], results['recall_weighted']]],\n",
    "                          columns=['Model', 'Accuracy', 'F1 Score', 'Precision', 'Recall'])\n",
    "results_df = pd.concat([results_df, new_row_cv], ignore_index=True)\n",
    "print(results_df)\n",
    "\n"
   ],
   "id": "3f5c9c03f8663b3f",
   "outputs": [
    {
     "name": "stdout",
     "output_type": "stream",
     "text": [
      "5-Fold Cross-Validation Accuracy: 0.77\n",
      "5-Fold Cross-Validation F1_weighted: 0.75\n",
      "5-Fold Cross-Validation Precision_weighted: 0.73\n",
      "5-Fold Cross-Validation Recall_weighted: 0.77\n",
      "             Model  Accuracy  F1 Score  Precision    Recall\n",
      "0  SVM (5-fold CV)  0.767123  0.748734   0.731613  0.767123\n"
     ]
    }
   ],
   "execution_count": 14
  },
  {
   "metadata": {
    "ExecuteTime": {
     "end_time": "2024-11-05T08:24:22.059594Z",
     "start_time": "2024-11-05T08:24:21.934357Z"
    }
   },
   "cell_type": "code",
   "source": [
    "# Refit the model with the training data for confusion matrix and report\n",
    "svm_model.fit(X_mfcc_train, y_mfcc_train)\n",
    "y_pred_svm = svm_model.predict(X_mfcc_test)\n",
    "\n",
    "# Print classification report\n",
    "#class_labels = ['belly_pain', 'burping', 'discomfort', 'hungry', 'tired']  #  class names\n",
    "print(classification_report(y_mfcc_test, y_pred_svm, target_names=class_labels))\n",
    "\n",
    "\n"
   ],
   "id": "5530dc22663748e2",
   "outputs": [
    {
     "name": "stdout",
     "output_type": "stream",
     "text": [
      "              precision    recall  f1-score   support\n",
      "\n",
      "  belly_pain       0.00      0.00      0.00         4\n",
      "     burping       0.00      0.00      0.00         2\n",
      "  discomfort       0.25      0.14      0.18         7\n",
      "      hungry       0.81      0.85      0.83        72\n",
      "       tired       0.00      0.00      0.00         7\n",
      "\n",
      "    accuracy                           0.67        92\n",
      "   macro avg       0.21      0.20      0.20        92\n",
      "weighted avg       0.66      0.67      0.66        92\n",
      "\n"
     ]
    },
    {
     "name": "stderr",
     "output_type": "stream",
     "text": [
      "D:\\NCI\\Sem 3\\Thesis\\code_DB\\newBabyCryAnalysis\\pythonProject\\.venv\\lib\\site-packages\\sklearn\\metrics\\_classification.py:1471: UndefinedMetricWarning: Precision and F-score are ill-defined and being set to 0.0 in labels with no predicted samples. Use `zero_division` parameter to control this behavior.\n",
      "  _warn_prf(average, modifier, msg_start, len(result))\n",
      "D:\\NCI\\Sem 3\\Thesis\\code_DB\\newBabyCryAnalysis\\pythonProject\\.venv\\lib\\site-packages\\sklearn\\metrics\\_classification.py:1471: UndefinedMetricWarning: Precision and F-score are ill-defined and being set to 0.0 in labels with no predicted samples. Use `zero_division` parameter to control this behavior.\n",
      "  _warn_prf(average, modifier, msg_start, len(result))\n",
      "D:\\NCI\\Sem 3\\Thesis\\code_DB\\newBabyCryAnalysis\\pythonProject\\.venv\\lib\\site-packages\\sklearn\\metrics\\_classification.py:1471: UndefinedMetricWarning: Precision and F-score are ill-defined and being set to 0.0 in labels with no predicted samples. Use `zero_division` parameter to control this behavior.\n",
      "  _warn_prf(average, modifier, msg_start, len(result))\n"
     ]
    }
   ],
   "execution_count": 15
  },
  {
   "metadata": {
    "ExecuteTime": {
     "end_time": "2024-11-05T08:24:22.459917Z",
     "start_time": "2024-11-05T08:24:22.059594Z"
    }
   },
   "cell_type": "code",
   "source": [
    "# Confusion Matrix\n",
    "cm = confusion_matrix(y_mfcc_test, y_pred_svm)\n",
    "\n",
    "# Plotting the confusion matrix\n",
    "plt.figure(figsize=(10, 7))\n",
    "sns.heatmap(cm, annot=True, fmt='d', cmap='Blues', xticklabels=class_labels, yticklabels=class_labels)\n",
    "plt.xlabel('Predicted')\n",
    "plt.ylabel('Actual')\n",
    "plt.title('Confusion Matrix: SVM (Simple)')\n",
    "plt.show()"
   ],
   "id": "c8248b7f40aee178",
   "outputs": [
    {
     "data": {
      "text/plain": [
       "<Figure size 1000x700 with 2 Axes>"
      ],
      "image/png": "[encoded data removed]"
     },
     "metadata": {},
     "output_type": "display_data"
    }
   ],
   "execution_count": 16
  },
  {
   "metadata": {},
   "cell_type": "markdown",
   "source": "2. KNN-Simple",
   "id": "e20685dcacfe1214"
  },
  {
   "metadata": {
    "ExecuteTime": {
     "end_time": "2024-11-05T08:24:24.278895Z",
     "start_time": "2024-11-05T08:24:22.459917Z"
    }
   },
   "cell_type": "code",
   "source": [
    "# Step 1: Initialize the KNN model\n",
    "knn_model = KNeighborsClassifier(n_neighbors=5)  # You can adjust the number of neighbors based on your analysis\n",
    "\n",
    "# Step 2: Define scoring metrics for cross-validation\n",
    "'''scoring_metrics = {\n",
    "    'accuracy': 'accuracy',\n",
    "    'f1_weighted': make_scorer(f1_score, average='weighted'),\n",
    "    'precision_weighted': make_scorer(precision_score, average='weighted'),\n",
    "    'recall_weighted': make_scorer(recall_score, average='weighted')\n",
    "}'''\n",
    "\n",
    "# Step 3: Apply 5-fold cross-validation and collect each metric's results\n",
    "results = {}\n",
    "for metric_name, metric in scoring_metrics.items():\n",
    "    scores = cross_val_score(knn_model, X_mfcc_train, y_mfcc_train, cv=5, scoring=metric)\n",
    "    results[metric_name] = scores.mean()\n",
    "\n",
    "# Print the average cross-validation results for each metric\n",
    "for metric_name, score in results.items():\n",
    "    print(f'5-Fold Cross-Validation {metric_name.capitalize()}: {score:.2f}')\n",
    "\n",
    "# Step 4: Add the cross-validation results to the results dataframe\n",
    "new_row_cv = pd.DataFrame([[\"KNN (5-fold CV)\", results['accuracy'], results['f1_weighted'], \n",
    "                            results['precision_weighted'], results['recall_weighted']]],\n",
    "                          columns=['Model', 'Accuracy', 'F1 Score', 'Precision', 'Recall'])\n",
    "results_df = pd.concat([results_df, new_row_cv], ignore_index=True)\n",
    "print(results_df)"
   ],
   "id": "7666e2ff60243342",
   "outputs": [
    {
     "name": "stderr",
     "output_type": "stream",
     "text": [
      "D:\\NCI\\Sem 3\\Thesis\\code_DB\\newBabyCryAnalysis\\pythonProject\\.venv\\lib\\site-packages\\sklearn\\metrics\\_classification.py:1471: UndefinedMetricWarning: Precision is ill-defined and being set to 0.0 in labels with no predicted samples. Use `zero_division` parameter to control this behavior.\n",
      "  _warn_prf(average, modifier, msg_start, len(result))\n",
      "D:\\NCI\\Sem 3\\Thesis\\code_DB\\newBabyCryAnalysis\\pythonProject\\.venv\\lib\\site-packages\\sklearn\\metrics\\_classification.py:1471: UndefinedMetricWarning: Precision is ill-defined and being set to 0.0 in labels with no predicted samples. Use `zero_division` parameter to control this behavior.\n",
      "  _warn_prf(average, modifier, msg_start, len(result))\n",
      "D:\\NCI\\Sem 3\\Thesis\\code_DB\\newBabyCryAnalysis\\pythonProject\\.venv\\lib\\site-packages\\sklearn\\metrics\\_classification.py:1471: UndefinedMetricWarning: Precision is ill-defined and being set to 0.0 in labels with no predicted samples. Use `zero_division` parameter to control this behavior.\n",
      "  _warn_prf(average, modifier, msg_start, len(result))\n",
      "D:\\NCI\\Sem 3\\Thesis\\code_DB\\newBabyCryAnalysis\\pythonProject\\.venv\\lib\\site-packages\\sklearn\\metrics\\_classification.py:1471: UndefinedMetricWarning: Precision is ill-defined and being set to 0.0 in labels with no predicted samples. Use `zero_division` parameter to control this behavior.\n",
      "  _warn_prf(average, modifier, msg_start, len(result))\n",
      "D:\\NCI\\Sem 3\\Thesis\\code_DB\\newBabyCryAnalysis\\pythonProject\\.venv\\lib\\site-packages\\sklearn\\metrics\\_classification.py:1471: UndefinedMetricWarning: Precision is ill-defined and being set to 0.0 in labels with no predicted samples. Use `zero_division` parameter to control this behavior.\n",
      "  _warn_prf(average, modifier, msg_start, len(result))\n"
     ]
    },
    {
     "name": "stdout",
     "output_type": "stream",
     "text": [
      "5-Fold Cross-Validation Accuracy: 0.84\n",
      "5-Fold Cross-Validation F1_weighted: 0.77\n",
      "5-Fold Cross-Validation Precision_weighted: 0.72\n",
      "5-Fold Cross-Validation Recall_weighted: 0.84\n",
      "             Model  Accuracy  F1 Score  Precision    Recall\n",
      "0  SVM (5-fold CV)  0.767123  0.748734   0.731613  0.767123\n",
      "1  KNN (5-fold CV)  0.838356  0.774607   0.719904  0.838356\n"
     ]
    }
   ],
   "execution_count": 17
  },
  {
   "metadata": {
    "ExecuteTime": {
     "end_time": "2024-11-05T08:24:24.608624Z",
     "start_time": "2024-11-05T08:24:24.278895Z"
    }
   },
   "cell_type": "code",
   "source": [
    "# Refit the model with the training data for confusion matrix and report\n",
    "knn_model.fit(X_mfcc_train, y_mfcc_train)\n",
    "y_pred_svm = knn_model.predict(X_mfcc_test)\n",
    "\n",
    "# Print classification report\n",
    "#class_labels = ['belly_pain', 'burping', 'discomfort', 'hungry', 'tired']  #  class names\n",
    "print(classification_report(y_mfcc_test, y_pred_svm, target_names=class_labels))\n",
    "\n",
    "# Confusion Matrix\n",
    "cm = confusion_matrix(y_mfcc_test, y_pred_svm)\n",
    "\n",
    "# Plotting the confusion matrix\n",
    "plt.figure(figsize=(10, 7))\n",
    "sns.heatmap(cm, annot=True, fmt='d', cmap='Blues', xticklabels=class_labels, yticklabels=class_labels)\n",
    "plt.xlabel('Predicted')\n",
    "plt.ylabel('Actual')\n",
    "plt.title('Confusion Matrix: KNN (Simple)')\n",
    "plt.show()"
   ],
   "id": "cf6f7ac8afa68fe5",
   "outputs": [
    {
     "name": "stdout",
     "output_type": "stream",
     "text": [
      "              precision    recall  f1-score   support\n",
      "\n",
      "  belly_pain       0.00      0.00      0.00         4\n",
      "     burping       0.00      0.00      0.00         2\n",
      "  discomfort       0.00      0.00      0.00         7\n",
      "      hungry       0.78      0.99      0.87        72\n",
      "       tired       0.00      0.00      0.00         7\n",
      "\n",
      "    accuracy                           0.77        92\n",
      "   macro avg       0.16      0.20      0.17        92\n",
      "weighted avg       0.61      0.77      0.68        92\n",
      "\n"
     ]
    },
    {
     "name": "stderr",
     "output_type": "stream",
     "text": [
      "D:\\NCI\\Sem 3\\Thesis\\code_DB\\newBabyCryAnalysis\\pythonProject\\.venv\\lib\\site-packages\\sklearn\\metrics\\_classification.py:1471: UndefinedMetricWarning: Precision and F-score are ill-defined and being set to 0.0 in labels with no predicted samples. Use `zero_division` parameter to control this behavior.\n",
      "  _warn_prf(average, modifier, msg_start, len(result))\n",
      "D:\\NCI\\Sem 3\\Thesis\\code_DB\\newBabyCryAnalysis\\pythonProject\\.venv\\lib\\site-packages\\sklearn\\metrics\\_classification.py:1471: UndefinedMetricWarning: Precision and F-score are ill-defined and being set to 0.0 in labels with no predicted samples. Use `zero_division` parameter to control this behavior.\n",
      "  _warn_prf(average, modifier, msg_start, len(result))\n",
      "D:\\NCI\\Sem 3\\Thesis\\code_DB\\newBabyCryAnalysis\\pythonProject\\.venv\\lib\\site-packages\\sklearn\\metrics\\_classification.py:1471: UndefinedMetricWarning: Precision and F-score are ill-defined and being set to 0.0 in labels with no predicted samples. Use `zero_division` parameter to control this behavior.\n",
      "  _warn_prf(average, modifier, msg_start, len(result))\n"
     ]
    },
    {
     "data": {
      "text/plain": [
       "<Figure size 1000x700 with 2 Axes>"
      ],
      "image/png": "[encoded data removed]"
     },
     "metadata": {},
     "output_type": "display_data"
    }
   ],
   "execution_count": 18
  },
  {
   "metadata": {},
   "cell_type": "markdown",
   "source": "3. Random Forest (Simple)",
   "id": "f45a2face2ea382d"
  },
  {
   "metadata": {
    "ExecuteTime": {
     "end_time": "2024-11-05T08:24:24.648533Z",
     "start_time": "2024-11-05T08:24:24.632562Z"
    }
   },
   "cell_type": "code",
   "source": [
    "# Random Forest\n",
    "\n",
    "rf_model = RandomForestClassifier(n_estimators=100, random_state=42)"
   ],
   "id": "c2b85ce854066577",
   "outputs": [],
   "execution_count": 19
  },
  {
   "metadata": {
    "ExecuteTime": {
     "end_time": "2024-11-05T08:25:25.135427Z",
     "start_time": "2024-11-05T08:24:24.648533Z"
    }
   },
   "cell_type": "code",
   "source": [
    "# Step 3: Apply 5-fold cross-validation and collect each metric's results\n",
    "results = {}\n",
    "for metric_name, metric in scoring_metrics.items():\n",
    "    scores = cross_val_score(rf_model, X_mfcc_train, y_mfcc_train, cv=5, scoring=metric)\n",
    "    results[metric_name] = scores.mean()"
   ],
   "id": "56aade6702b6e40a",
   "outputs": [
    {
     "name": "stderr",
     "output_type": "stream",
     "text": [
      "D:\\NCI\\Sem 3\\Thesis\\code_DB\\newBabyCryAnalysis\\pythonProject\\.venv\\lib\\site-packages\\sklearn\\metrics\\_classification.py:1471: UndefinedMetricWarning: Precision is ill-defined and being set to 0.0 in labels with no predicted samples. Use `zero_division` parameter to control this behavior.\n",
      "  _warn_prf(average, modifier, msg_start, len(result))\n",
      "D:\\NCI\\Sem 3\\Thesis\\code_DB\\newBabyCryAnalysis\\pythonProject\\.venv\\lib\\site-packages\\sklearn\\metrics\\_classification.py:1471: UndefinedMetricWarning: Precision is ill-defined and being set to 0.0 in labels with no predicted samples. Use `zero_division` parameter to control this behavior.\n",
      "  _warn_prf(average, modifier, msg_start, len(result))\n",
      "D:\\NCI\\Sem 3\\Thesis\\code_DB\\newBabyCryAnalysis\\pythonProject\\.venv\\lib\\site-packages\\sklearn\\metrics\\_classification.py:1471: UndefinedMetricWarning: Precision is ill-defined and being set to 0.0 in labels with no predicted samples. Use `zero_division` parameter to control this behavior.\n",
      "  _warn_prf(average, modifier, msg_start, len(result))\n",
      "D:\\NCI\\Sem 3\\Thesis\\code_DB\\newBabyCryAnalysis\\pythonProject\\.venv\\lib\\site-packages\\sklearn\\metrics\\_classification.py:1471: UndefinedMetricWarning: Precision is ill-defined and being set to 0.0 in labels with no predicted samples. Use `zero_division` parameter to control this behavior.\n",
      "  _warn_prf(average, modifier, msg_start, len(result))\n",
      "D:\\NCI\\Sem 3\\Thesis\\code_DB\\newBabyCryAnalysis\\pythonProject\\.venv\\lib\\site-packages\\sklearn\\metrics\\_classification.py:1471: UndefinedMetricWarning: Precision is ill-defined and being set to 0.0 in labels with no predicted samples. Use `zero_division` parameter to control this behavior.\n",
      "  _warn_prf(average, modifier, msg_start, len(result))\n"
     ]
    }
   ],
   "execution_count": 20
  },
  {
   "metadata": {
    "ExecuteTime": {
     "end_time": "2024-11-05T08:25:25.150662Z",
     "start_time": "2024-11-05T08:25:25.135427Z"
    }
   },
   "cell_type": "code",
   "source": [
    "# Print the average cross-validation results for each metric\n",
    "for metric_name, score in results.items():\n",
    "    print(f'5-Fold Cross-Validation {metric_name.capitalize()}: {score:.2f}')"
   ],
   "id": "16bb9ff2473e0e04",
   "outputs": [
    {
     "name": "stdout",
     "output_type": "stream",
     "text": [
      "5-Fold Cross-Validation Accuracy: 0.85\n",
      "5-Fold Cross-Validation F1_weighted: 0.78\n",
      "5-Fold Cross-Validation Precision_weighted: 0.72\n",
      "5-Fold Cross-Validation Recall_weighted: 0.85\n"
     ]
    }
   ],
   "execution_count": 21
  },
  {
   "metadata": {
    "ExecuteTime": {
     "end_time": "2024-11-05T08:25:25.218752Z",
     "start_time": "2024-11-05T08:25:25.152303Z"
    }
   },
   "cell_type": "code",
   "source": [
    "# Step : Add the cross-validation results to the results dataframe\n",
    "new_row_cv = pd.DataFrame([[\"Random Forest (5-fold CV)\", results['accuracy'], results['f1_weighted'], \n",
    "                            results['precision_weighted'], results['recall_weighted']]],\n",
    "                          columns=['Model', 'Accuracy', 'F1 Score', 'Precision', 'Recall'])\n",
    "results_df = pd.concat([results_df, new_row_cv], ignore_index=True)\n",
    "print(results_df)"
   ],
   "id": "5d76ccea9b8ce494",
   "outputs": [
    {
     "name": "stdout",
     "output_type": "stream",
     "text": [
      "                       Model  Accuracy  F1 Score  Precision    Recall\n",
      "0            SVM (5-fold CV)  0.767123  0.748734   0.731613  0.767123\n",
      "1            KNN (5-fold CV)  0.838356  0.774607   0.719904  0.838356\n",
      "2  Random Forest (5-fold CV)  0.849315  0.780112   0.721336  0.849315\n"
     ]
    }
   ],
   "execution_count": 22
  },
  {
   "metadata": {
    "ExecuteTime": {
     "end_time": "2024-11-05T08:25:29.878572Z",
     "start_time": "2024-11-05T08:25:25.218752Z"
    }
   },
   "cell_type": "code",
   "source": [
    "# Refit the model with the training data for confusion matrix and report\n",
    "rf_model.fit(X_mfcc_train, y_mfcc_train)\n",
    "y_pred_svm = rf_model.predict(X_mfcc_test)\n",
    "\n",
    "# Print classification report\n",
    "#class_labels = ['belly_pain', 'burping', 'discomfort', 'hungry', 'tired']  #  class names\n",
    "print(classification_report(y_mfcc_test, y_pred_svm, target_names=class_labels))\n",
    "\n",
    "# Confusion Matrix\n",
    "cm = confusion_matrix(y_mfcc_test, y_pred_svm)\n",
    "\n",
    "# Plotting the confusion matrix\n",
    "plt.figure(figsize=(10, 7))\n",
    "sns.heatmap(cm, annot=True, fmt='d', cmap='Blues', xticklabels=class_labels, yticklabels=class_labels)\n",
    "plt.xlabel('Predicted')\n",
    "plt.ylabel('Actual')\n",
    "plt.title('Confusion Matrix: Random Forest (Simple)')\n",
    "plt.show()"
   ],
   "id": "995aea87ad36a8ef",
   "outputs": [
    {
     "name": "stderr",
     "output_type": "stream",
     "text": [
      "D:\\NCI\\Sem 3\\Thesis\\code_DB\\newBabyCryAnalysis\\pythonProject\\.venv\\lib\\site-packages\\sklearn\\metrics\\_classification.py:1471: UndefinedMetricWarning: Precision and F-score are ill-defined and being set to 0.0 in labels with no predicted samples. Use `zero_division` parameter to control this behavior.\n",
      "  _warn_prf(average, modifier, msg_start, len(result))\n",
      "D:\\NCI\\Sem 3\\Thesis\\code_DB\\newBabyCryAnalysis\\pythonProject\\.venv\\lib\\site-packages\\sklearn\\metrics\\_classification.py:1471: UndefinedMetricWarning: Precision and F-score are ill-defined and being set to 0.0 in labels with no predicted samples. Use `zero_division` parameter to control this behavior.\n",
      "  _warn_prf(average, modifier, msg_start, len(result))\n",
      "D:\\NCI\\Sem 3\\Thesis\\code_DB\\newBabyCryAnalysis\\pythonProject\\.venv\\lib\\site-packages\\sklearn\\metrics\\_classification.py:1471: UndefinedMetricWarning: Precision and F-score are ill-defined and being set to 0.0 in labels with no predicted samples. Use `zero_division` parameter to control this behavior.\n",
      "  _warn_prf(average, modifier, msg_start, len(result))\n"
     ]
    },
    {
     "name": "stdout",
     "output_type": "stream",
     "text": [
      "              precision    recall  f1-score   support\n",
      "\n",
      "  belly_pain       0.00      0.00      0.00         4\n",
      "     burping       0.00      0.00      0.00         2\n",
      "  discomfort       0.00      0.00      0.00         7\n",
      "      hungry       0.78      1.00      0.88        72\n",
      "       tired       0.00      0.00      0.00         7\n",
      "\n",
      "    accuracy                           0.78        92\n",
      "   macro avg       0.16      0.20      0.18        92\n",
      "weighted avg       0.61      0.78      0.69        92\n",
      "\n"
     ]
    },
    {
     "data": {
      "text/plain": [
       "<Figure size 1000x700 with 2 Axes>"
      ],
      "image/png": "[encoded data removed]"
     },
     "metadata": {},
     "output_type": "display_data"
    }
   ],
   "execution_count": 23
  },
  {
   "metadata": {},
   "cell_type": "markdown",
   "source": "4. AdaBoost model",
   "id": "a8d061c38f85261f"
  },
  {
   "metadata": {
    "ExecuteTime": {
     "end_time": "2024-11-05T08:25:29.894422Z",
     "start_time": "2024-11-05T08:25:29.879213Z"
    }
   },
   "cell_type": "code",
   "source": [
    "# Initializing the AdaBoost model\n",
    "ada_model = AdaBoostClassifier(n_estimators=100, random_state=42)"
   ],
   "id": "bd6f94b9dc32458f",
   "outputs": [],
   "execution_count": 24
  },
  {
   "metadata": {
    "ExecuteTime": {
     "end_time": "2024-11-05T08:32:58.476038Z",
     "start_time": "2024-11-05T08:25:29.894422Z"
    }
   },
   "cell_type": "code",
   "source": [
    "# Apply 5-fold cross-validation and collect each metric's results\n",
    "results = {}\n",
    "for metric_name, metric in scoring_metrics.items():\n",
    "    scores = cross_val_score(ada_model, X_mfcc_train, y_mfcc_train, cv=5, scoring=metric)\n",
    "    results[metric_name] = scores.mean()"
   ],
   "id": "251b3aaffb992a2f",
   "outputs": [
    {
     "name": "stderr",
     "output_type": "stream",
     "text": [
      "D:\\NCI\\Sem 3\\Thesis\\code_DB\\newBabyCryAnalysis\\pythonProject\\.venv\\lib\\site-packages\\sklearn\\metrics\\_classification.py:1471: UndefinedMetricWarning: Precision is ill-defined and being set to 0.0 in labels with no predicted samples. Use `zero_division` parameter to control this behavior.\n",
      "  _warn_prf(average, modifier, msg_start, len(result))\n",
      "D:\\NCI\\Sem 3\\Thesis\\code_DB\\newBabyCryAnalysis\\pythonProject\\.venv\\lib\\site-packages\\sklearn\\metrics\\_classification.py:1471: UndefinedMetricWarning: Precision is ill-defined and being set to 0.0 in labels with no predicted samples. Use `zero_division` parameter to control this behavior.\n",
      "  _warn_prf(average, modifier, msg_start, len(result))\n",
      "D:\\NCI\\Sem 3\\Thesis\\code_DB\\newBabyCryAnalysis\\pythonProject\\.venv\\lib\\site-packages\\sklearn\\metrics\\_classification.py:1471: UndefinedMetricWarning: Precision is ill-defined and being set to 0.0 in labels with no predicted samples. Use `zero_division` parameter to control this behavior.\n",
      "  _warn_prf(average, modifier, msg_start, len(result))\n",
      "D:\\NCI\\Sem 3\\Thesis\\code_DB\\newBabyCryAnalysis\\pythonProject\\.venv\\lib\\site-packages\\sklearn\\metrics\\_classification.py:1471: UndefinedMetricWarning: Precision is ill-defined and being set to 0.0 in labels with no predicted samples. Use `zero_division` parameter to control this behavior.\n",
      "  _warn_prf(average, modifier, msg_start, len(result))\n",
      "D:\\NCI\\Sem 3\\Thesis\\code_DB\\newBabyCryAnalysis\\pythonProject\\.venv\\lib\\site-packages\\sklearn\\metrics\\_classification.py:1471: UndefinedMetricWarning: Precision is ill-defined and being set to 0.0 in labels with no predicted samples. Use `zero_division` parameter to control this behavior.\n",
      "  _warn_prf(average, modifier, msg_start, len(result))\n"
     ]
    }
   ],
   "execution_count": 25
  },
  {
   "metadata": {
    "ExecuteTime": {
     "end_time": "2024-11-05T08:32:58.949001Z",
     "start_time": "2024-11-05T08:32:58.555185Z"
    }
   },
   "cell_type": "code",
   "source": [
    "# Print the average cross-validation results for each metric\n",
    "for metric_name, score in results.items():\n",
    "    print(f'5-Fold Cross-Validation {metric_name.capitalize()}: {score:.2f}')"
   ],
   "id": "5e1c33805f38e7db",
   "outputs": [
    {
     "name": "stdout",
     "output_type": "stream",
     "text": [
      "5-Fold Cross-Validation Accuracy: 0.76\n",
      "5-Fold Cross-Validation F1_weighted: 0.74\n",
      "5-Fold Cross-Validation Precision_weighted: 0.74\n",
      "5-Fold Cross-Validation Recall_weighted: 0.76\n"
     ]
    }
   ],
   "execution_count": 26
  },
  {
   "metadata": {
    "ExecuteTime": {
     "end_time": "2024-11-05T08:33:00.474297Z",
     "start_time": "2024-11-05T08:32:58.949001Z"
    }
   },
   "cell_type": "code",
   "source": [
    "# Add the cross-validation results to the results dataframe\n",
    "new_row_cv = pd.DataFrame([[\"AdaBoost (5-fold CV)\", results['accuracy'], results['f1_weighted'], \n",
    "                            results['precision_weighted'], results['recall_weighted']]],\n",
    "                          columns=['Model', 'Accuracy', 'F1 Score', 'Precision', 'Recall'])\n",
    "results_df = pd.concat([results_df, new_row_cv], ignore_index=True)\n",
    "print(results_df)"
   ],
   "id": "66af36999bbb2931",
   "outputs": [
    {
     "name": "stdout",
     "output_type": "stream",
     "text": [
      "                       Model  Accuracy  F1 Score  Precision    Recall\n",
      "0            SVM (5-fold CV)  0.767123  0.748734   0.731613  0.767123\n",
      "1            KNN (5-fold CV)  0.838356  0.774607   0.719904  0.838356\n",
      "2  Random Forest (5-fold CV)  0.849315  0.780112   0.721336  0.849315\n",
      "3       AdaBoost (5-fold CV)  0.758904  0.736453   0.738580  0.758904\n"
     ]
    }
   ],
   "execution_count": 27
  },
  {
   "metadata": {
    "ExecuteTime": {
     "end_time": "2024-11-05T08:33:00.630387Z",
     "start_time": "2024-11-05T08:33:00.474297Z"
    }
   },
   "cell_type": "code",
   "source": [
    "'''results_df=results_df.iloc[:-1]\n",
    "results_df #delete last row'''"
   ],
   "id": "35ea244ff75cbae0",
   "outputs": [
    {
     "data": {
      "text/plain": [
       "'results_df=results_df.iloc[:-1]\\nresults_df #delete last row'"
      ]
     },
     "execution_count": 28,
     "metadata": {},
     "output_type": "execute_result"
    }
   ],
   "execution_count": 28
  },
  {
   "metadata": {
    "ExecuteTime": {
     "end_time": "2024-11-05T08:33:01.010026Z",
     "start_time": "2024-11-05T08:33:00.630387Z"
    }
   },
   "cell_type": "code",
   "source": "results_df",
   "id": "3bdf7e16d3178a6f",
   "outputs": [
    {
     "data": {
      "text/plain": [
       "                       Model  Accuracy  F1 Score  Precision    Recall\n",
       "0            SVM (5-fold CV)  0.767123  0.748734   0.731613  0.767123\n",
       "1            KNN (5-fold CV)  0.838356  0.774607   0.719904  0.838356\n",
       "2  Random Forest (5-fold CV)  0.849315  0.780112   0.721336  0.849315\n",
       "3       AdaBoost (5-fold CV)  0.758904  0.736453   0.738580  0.758904"
      ],
      "text/html": [
       "<div>\n",
       "<style scoped>\n",
       "    .dataframe tbody tr th:only-of-type {\n",
       "        vertical-align: middle;\n",
       "    }\n",
       "\n",
       "    .dataframe tbody tr th {\n",
       "        vertical-align: top;\n",
       "    }\n",
       "\n",
       "    .dataframe thead th {\n",
       "        text-align: right;\n",
       "    }\n",
       "</style>\n",
       "<table border=\"1\" class=\"dataframe\">\n",
       "  <thead>\n",
       "    <tr style=\"text-align: right;\">\n",
       "      <th></th>\n",
       "      <th>Model</th>\n",
       "      <th>Accuracy</th>\n",
       "      <th>F1 Score</th>\n",
       "      <th>Precision</th>\n",
       "      <th>Recall</th>\n",
       "    </tr>\n",
       "  </thead>\n",
       "  <tbody>\n",
       "    <tr>\n",
       "      <th>0</th>\n",
       "      <td>SVM (5-fold CV)</td>\n",
       "      <td>0.767123</td>\n",
       "      <td>0.748734</td>\n",
       "      <td>0.731613</td>\n",
       "      <td>0.767123</td>\n",
       "    </tr>\n",
       "    <tr>\n",
       "      <th>1</th>\n",
       "      <td>KNN (5-fold CV)</td>\n",
       "      <td>0.838356</td>\n",
       "      <td>0.774607</td>\n",
       "      <td>0.719904</td>\n",
       "      <td>0.838356</td>\n",
       "    </tr>\n",
       "    <tr>\n",
       "      <th>2</th>\n",
       "      <td>Random Forest (5-fold CV)</td>\n",
       "      <td>0.849315</td>\n",
       "      <td>0.780112</td>\n",
       "      <td>0.721336</td>\n",
       "      <td>0.849315</td>\n",
       "    </tr>\n",
       "    <tr>\n",
       "      <th>3</th>\n",
       "      <td>AdaBoost (5-fold CV)</td>\n",
       "      <td>0.758904</td>\n",
       "      <td>0.736453</td>\n",
       "      <td>0.738580</td>\n",
       "      <td>0.758904</td>\n",
       "    </tr>\n",
       "  </tbody>\n",
       "</table>\n",
       "</div>"
      ]
     },
     "execution_count": 29,
     "metadata": {},
     "output_type": "execute_result"
    }
   ],
   "execution_count": 29
  },
  {
   "metadata": {
    "ExecuteTime": {
     "end_time": "2024-11-05T08:33:35.144329Z",
     "start_time": "2024-11-05T08:33:01.010026Z"
    }
   },
   "cell_type": "code",
   "source": [
    "# Refit the model with the training data for confusion matrix and report\n",
    "ada_model.fit(X_mfcc_train, y_mfcc_train)\n",
    "y_pred_svm = ada_model.predict(X_mfcc_test)\n",
    "\n",
    "# Print classification report\n",
    "print(classification_report(y_mfcc_test, y_pred_svm, target_names=class_labels))\n",
    "\n",
    "# Confusion Matrix\n",
    "cm = confusion_matrix(y_mfcc_test, y_pred_svm)\n",
    "\n",
    "# Plotting the confusion matrix\n",
    "plt.figure(figsize=(10, 7))\n",
    "sns.heatmap(cm, annot=True, fmt='d', cmap='Blues', xticklabels=class_labels, yticklabels=class_labels)\n",
    "plt.xlabel('Predicted')\n",
    "plt.ylabel('Actual')\n",
    "plt.title('Confusion Matrix: AdaBoost (Simple)')\n",
    "plt.show()"
   ],
   "id": "aad3a4fa762ead98",
   "outputs": [
    {
     "name": "stderr",
     "output_type": "stream",
     "text": [
      "D:\\NCI\\Sem 3\\Thesis\\code_DB\\newBabyCryAnalysis\\pythonProject\\.venv\\lib\\site-packages\\sklearn\\metrics\\_classification.py:1471: UndefinedMetricWarning: Precision and F-score are ill-defined and being set to 0.0 in labels with no predicted samples. Use `zero_division` parameter to control this behavior.\n",
      "  _warn_prf(average, modifier, msg_start, len(result))\n",
      "D:\\NCI\\Sem 3\\Thesis\\code_DB\\newBabyCryAnalysis\\pythonProject\\.venv\\lib\\site-packages\\sklearn\\metrics\\_classification.py:1471: UndefinedMetricWarning: Precision and F-score are ill-defined and being set to 0.0 in labels with no predicted samples. Use `zero_division` parameter to control this behavior.\n",
      "  _warn_prf(average, modifier, msg_start, len(result))\n",
      "D:\\NCI\\Sem 3\\Thesis\\code_DB\\newBabyCryAnalysis\\pythonProject\\.venv\\lib\\site-packages\\sklearn\\metrics\\_classification.py:1471: UndefinedMetricWarning: Precision and F-score are ill-defined and being set to 0.0 in labels with no predicted samples. Use `zero_division` parameter to control this behavior.\n",
      "  _warn_prf(average, modifier, msg_start, len(result))\n"
     ]
    },
    {
     "name": "stdout",
     "output_type": "stream",
     "text": [
      "              precision    recall  f1-score   support\n",
      "\n",
      "  belly_pain       0.00      0.00      0.00         4\n",
      "     burping       0.00      0.00      0.00         2\n",
      "  discomfort       0.00      0.00      0.00         7\n",
      "      hungry       0.78      0.96      0.86        72\n",
      "       tired       0.00      0.00      0.00         7\n",
      "\n",
      "    accuracy                           0.75        92\n",
      "   macro avg       0.16      0.19      0.17        92\n",
      "weighted avg       0.61      0.75      0.68        92\n",
      "\n"
     ]
    },
    {
     "data": {
      "text/plain": [
       "<Figure size 1000x700 with 2 Axes>"
      ],
      "image/png": "[encoded data removed]"
     },
     "metadata": {},
     "output_type": "display_data"
    }
   ],
   "execution_count": 30
  },
  {
   "metadata": {},
   "cell_type": "markdown",
   "source": "5. XGBoost Model",
   "id": "845b3043b20f5512"
  },
  {
   "metadata": {
    "ExecuteTime": {
     "end_time": "2024-11-05T08:33:35.207636Z",
     "start_time": "2024-11-05T08:33:35.144329Z"
    }
   },
   "cell_type": "code",
   "source": [
    "# Initializing the XGBoost model\n",
    "xgb_model = xgb.XGBClassifier(n_estimators=100, use_label_encoder=False, eval_metric='mlogloss', random_state=42)"
   ],
   "id": "97af9fcd7318e59c",
   "outputs": [],
   "execution_count": 31
  },
  {
   "metadata": {
    "ExecuteTime": {
     "end_time": "2024-11-05T08:36:47.758406Z",
     "start_time": "2024-11-05T08:33:35.211760Z"
    }
   },
   "cell_type": "code",
   "source": [
    "# Apply 5-fold cross-validation and collect each metric's results\n",
    "results = {}\n",
    "for metric_name, metric in scoring_metrics.items():\n",
    "    scores = cross_val_score(xgb_model, X_mfcc_train, y_mfcc_train, cv=5, scoring=metric)\n",
    "    results[metric_name] = scores.mean()\n",
    "\n",
    "# Print the average cross-validation results for each metric\n",
    "for metric_name, score in results.items():\n",
    "    print(f'5-Fold Cross-Validation {metric_name.capitalize()}: {score:.2f}')"
   ],
   "id": "8d7859441c5a9698",
   "outputs": [
    {
     "name": "stderr",
     "output_type": "stream",
     "text": [
      "D:\\NCI\\Sem 3\\Thesis\\code_DB\\newBabyCryAnalysis\\pythonProject\\.venv\\lib\\site-packages\\xgboost\\core.py:158: UserWarning: [14:03:35] WARNING: C:\\buildkite-agent\\builds\\buildkite-windows-cpu-autoscaling-group-i-0015a694724fa8361-1\\xgboost\\xgboost-ci-windows\\src\\learner.cc:740: \n",
      "Parameters: { \"use_label_encoder\" } are not used.\n",
      "\n",
      "  warnings.warn(smsg, UserWarning)\n",
      "D:\\NCI\\Sem 3\\Thesis\\code_DB\\newBabyCryAnalysis\\pythonProject\\.venv\\lib\\site-packages\\xgboost\\core.py:158: UserWarning: [14:03:48] WARNING: C:\\buildkite-agent\\builds\\buildkite-windows-cpu-autoscaling-group-i-0015a694724fa8361-1\\xgboost\\xgboost-ci-windows\\src\\learner.cc:740: \n",
      "Parameters: { \"use_label_encoder\" } are not used.\n",
      "\n",
      "  warnings.warn(smsg, UserWarning)\n",
      "D:\\NCI\\Sem 3\\Thesis\\code_DB\\newBabyCryAnalysis\\pythonProject\\.venv\\lib\\site-packages\\xgboost\\core.py:158: UserWarning: [14:03:57] WARNING: C:\\buildkite-agent\\builds\\buildkite-windows-cpu-autoscaling-group-i-0015a694724fa8361-1\\xgboost\\xgboost-ci-windows\\src\\learner.cc:740: \n",
      "Parameters: { \"use_label_encoder\" } are not used.\n",
      "\n",
      "  warnings.warn(smsg, UserWarning)\n",
      "D:\\NCI\\Sem 3\\Thesis\\code_DB\\newBabyCryAnalysis\\pythonProject\\.venv\\lib\\site-packages\\xgboost\\core.py:158: UserWarning: [14:04:06] WARNING: C:\\buildkite-agent\\builds\\buildkite-windows-cpu-autoscaling-group-i-0015a694724fa8361-1\\xgboost\\xgboost-ci-windows\\src\\learner.cc:740: \n",
      "Parameters: { \"use_label_encoder\" } are not used.\n",
      "\n",
      "  warnings.warn(smsg, UserWarning)\n",
      "D:\\NCI\\Sem 3\\Thesis\\code_DB\\newBabyCryAnalysis\\pythonProject\\.venv\\lib\\site-packages\\xgboost\\core.py:158: UserWarning: [14:04:15] WARNING: C:\\buildkite-agent\\builds\\buildkite-windows-cpu-autoscaling-group-i-0015a694724fa8361-1\\xgboost\\xgboost-ci-windows\\src\\learner.cc:740: \n",
      "Parameters: { \"use_label_encoder\" } are not used.\n",
      "\n",
      "  warnings.warn(smsg, UserWarning)\n",
      "D:\\NCI\\Sem 3\\Thesis\\code_DB\\newBabyCryAnalysis\\pythonProject\\.venv\\lib\\site-packages\\xgboost\\core.py:158: UserWarning: [14:04:25] WARNING: C:\\buildkite-agent\\builds\\buildkite-windows-cpu-autoscaling-group-i-0015a694724fa8361-1\\xgboost\\xgboost-ci-windows\\src\\learner.cc:740: \n",
      "Parameters: { \"use_label_encoder\" } are not used.\n",
      "\n",
      "  warnings.warn(smsg, UserWarning)\n",
      "D:\\NCI\\Sem 3\\Thesis\\code_DB\\newBabyCryAnalysis\\pythonProject\\.venv\\lib\\site-packages\\xgboost\\core.py:158: UserWarning: [14:04:34] WARNING: C:\\buildkite-agent\\builds\\buildkite-windows-cpu-autoscaling-group-i-0015a694724fa8361-1\\xgboost\\xgboost-ci-windows\\src\\learner.cc:740: \n",
      "Parameters: { \"use_label_encoder\" } are not used.\n",
      "\n",
      "  warnings.warn(smsg, UserWarning)\n",
      "D:\\NCI\\Sem 3\\Thesis\\code_DB\\newBabyCryAnalysis\\pythonProject\\.venv\\lib\\site-packages\\xgboost\\core.py:158: UserWarning: [14:04:42] WARNING: C:\\buildkite-agent\\builds\\buildkite-windows-cpu-autoscaling-group-i-0015a694724fa8361-1\\xgboost\\xgboost-ci-windows\\src\\learner.cc:740: \n",
      "Parameters: { \"use_label_encoder\" } are not used.\n",
      "\n",
      "  warnings.warn(smsg, UserWarning)\n",
      "D:\\NCI\\Sem 3\\Thesis\\code_DB\\newBabyCryAnalysis\\pythonProject\\.venv\\lib\\site-packages\\xgboost\\core.py:158: UserWarning: [14:04:52] WARNING: C:\\buildkite-agent\\builds\\buildkite-windows-cpu-autoscaling-group-i-0015a694724fa8361-1\\xgboost\\xgboost-ci-windows\\src\\learner.cc:740: \n",
      "Parameters: { \"use_label_encoder\" } are not used.\n",
      "\n",
      "  warnings.warn(smsg, UserWarning)\n",
      "D:\\NCI\\Sem 3\\Thesis\\code_DB\\newBabyCryAnalysis\\pythonProject\\.venv\\lib\\site-packages\\xgboost\\core.py:158: UserWarning: [14:05:01] WARNING: C:\\buildkite-agent\\builds\\buildkite-windows-cpu-autoscaling-group-i-0015a694724fa8361-1\\xgboost\\xgboost-ci-windows\\src\\learner.cc:740: \n",
      "Parameters: { \"use_label_encoder\" } are not used.\n",
      "\n",
      "  warnings.warn(smsg, UserWarning)\n",
      "D:\\NCI\\Sem 3\\Thesis\\code_DB\\newBabyCryAnalysis\\pythonProject\\.venv\\lib\\site-packages\\xgboost\\core.py:158: UserWarning: [14:05:10] WARNING: C:\\buildkite-agent\\builds\\buildkite-windows-cpu-autoscaling-group-i-0015a694724fa8361-1\\xgboost\\xgboost-ci-windows\\src\\learner.cc:740: \n",
      "Parameters: { \"use_label_encoder\" } are not used.\n",
      "\n",
      "  warnings.warn(smsg, UserWarning)\n",
      "D:\\NCI\\Sem 3\\Thesis\\code_DB\\newBabyCryAnalysis\\pythonProject\\.venv\\lib\\site-packages\\sklearn\\metrics\\_classification.py:1471: UndefinedMetricWarning: Precision is ill-defined and being set to 0.0 in labels with no predicted samples. Use `zero_division` parameter to control this behavior.\n",
      "  _warn_prf(average, modifier, msg_start, len(result))\n",
      "D:\\NCI\\Sem 3\\Thesis\\code_DB\\newBabyCryAnalysis\\pythonProject\\.venv\\lib\\site-packages\\xgboost\\core.py:158: UserWarning: [14:05:19] WARNING: C:\\buildkite-agent\\builds\\buildkite-windows-cpu-autoscaling-group-i-0015a694724fa8361-1\\xgboost\\xgboost-ci-windows\\src\\learner.cc:740: \n",
      "Parameters: { \"use_label_encoder\" } are not used.\n",
      "\n",
      "  warnings.warn(smsg, UserWarning)\n",
      "D:\\NCI\\Sem 3\\Thesis\\code_DB\\newBabyCryAnalysis\\pythonProject\\.venv\\lib\\site-packages\\sklearn\\metrics\\_classification.py:1471: UndefinedMetricWarning: Precision is ill-defined and being set to 0.0 in labels with no predicted samples. Use `zero_division` parameter to control this behavior.\n",
      "  _warn_prf(average, modifier, msg_start, len(result))\n",
      "D:\\NCI\\Sem 3\\Thesis\\code_DB\\newBabyCryAnalysis\\pythonProject\\.venv\\lib\\site-packages\\xgboost\\core.py:158: UserWarning: [14:05:28] WARNING: C:\\buildkite-agent\\builds\\buildkite-windows-cpu-autoscaling-group-i-0015a694724fa8361-1\\xgboost\\xgboost-ci-windows\\src\\learner.cc:740: \n",
      "Parameters: { \"use_label_encoder\" } are not used.\n",
      "\n",
      "  warnings.warn(smsg, UserWarning)\n",
      "D:\\NCI\\Sem 3\\Thesis\\code_DB\\newBabyCryAnalysis\\pythonProject\\.venv\\lib\\site-packages\\sklearn\\metrics\\_classification.py:1471: UndefinedMetricWarning: Precision is ill-defined and being set to 0.0 in labels with no predicted samples. Use `zero_division` parameter to control this behavior.\n",
      "  _warn_prf(average, modifier, msg_start, len(result))\n",
      "D:\\NCI\\Sem 3\\Thesis\\code_DB\\newBabyCryAnalysis\\pythonProject\\.venv\\lib\\site-packages\\xgboost\\core.py:158: UserWarning: [14:05:37] WARNING: C:\\buildkite-agent\\builds\\buildkite-windows-cpu-autoscaling-group-i-0015a694724fa8361-1\\xgboost\\xgboost-ci-windows\\src\\learner.cc:740: \n",
      "Parameters: { \"use_label_encoder\" } are not used.\n",
      "\n",
      "  warnings.warn(smsg, UserWarning)\n",
      "D:\\NCI\\Sem 3\\Thesis\\code_DB\\newBabyCryAnalysis\\pythonProject\\.venv\\lib\\site-packages\\sklearn\\metrics\\_classification.py:1471: UndefinedMetricWarning: Precision is ill-defined and being set to 0.0 in labels with no predicted samples. Use `zero_division` parameter to control this behavior.\n",
      "  _warn_prf(average, modifier, msg_start, len(result))\n",
      "D:\\NCI\\Sem 3\\Thesis\\code_DB\\newBabyCryAnalysis\\pythonProject\\.venv\\lib\\site-packages\\xgboost\\core.py:158: UserWarning: [14:05:46] WARNING: C:\\buildkite-agent\\builds\\buildkite-windows-cpu-autoscaling-group-i-0015a694724fa8361-1\\xgboost\\xgboost-ci-windows\\src\\learner.cc:740: \n",
      "Parameters: { \"use_label_encoder\" } are not used.\n",
      "\n",
      "  warnings.warn(smsg, UserWarning)\n",
      "D:\\NCI\\Sem 3\\Thesis\\code_DB\\newBabyCryAnalysis\\pythonProject\\.venv\\lib\\site-packages\\sklearn\\metrics\\_classification.py:1471: UndefinedMetricWarning: Precision is ill-defined and being set to 0.0 in labels with no predicted samples. Use `zero_division` parameter to control this behavior.\n",
      "  _warn_prf(average, modifier, msg_start, len(result))\n",
      "D:\\NCI\\Sem 3\\Thesis\\code_DB\\newBabyCryAnalysis\\pythonProject\\.venv\\lib\\site-packages\\xgboost\\core.py:158: UserWarning: [14:05:56] WARNING: C:\\buildkite-agent\\builds\\buildkite-windows-cpu-autoscaling-group-i-0015a694724fa8361-1\\xgboost\\xgboost-ci-windows\\src\\learner.cc:740: \n",
      "Parameters: { \"use_label_encoder\" } are not used.\n",
      "\n",
      "  warnings.warn(smsg, UserWarning)\n",
      "D:\\NCI\\Sem 3\\Thesis\\code_DB\\newBabyCryAnalysis\\pythonProject\\.venv\\lib\\site-packages\\xgboost\\core.py:158: UserWarning: [14:06:08] WARNING: C:\\buildkite-agent\\builds\\buildkite-windows-cpu-autoscaling-group-i-0015a694724fa8361-1\\xgboost\\xgboost-ci-windows\\src\\learner.cc:740: \n",
      "Parameters: { \"use_label_encoder\" } are not used.\n",
      "\n",
      "  warnings.warn(smsg, UserWarning)\n",
      "D:\\NCI\\Sem 3\\Thesis\\code_DB\\newBabyCryAnalysis\\pythonProject\\.venv\\lib\\site-packages\\xgboost\\core.py:158: UserWarning: [14:06:18] WARNING: C:\\buildkite-agent\\builds\\buildkite-windows-cpu-autoscaling-group-i-0015a694724fa8361-1\\xgboost\\xgboost-ci-windows\\src\\learner.cc:740: \n",
      "Parameters: { \"use_label_encoder\" } are not used.\n",
      "\n",
      "  warnings.warn(smsg, UserWarning)\n",
      "D:\\NCI\\Sem 3\\Thesis\\code_DB\\newBabyCryAnalysis\\pythonProject\\.venv\\lib\\site-packages\\xgboost\\core.py:158: UserWarning: [14:06:27] WARNING: C:\\buildkite-agent\\builds\\buildkite-windows-cpu-autoscaling-group-i-0015a694724fa8361-1\\xgboost\\xgboost-ci-windows\\src\\learner.cc:740: \n",
      "Parameters: { \"use_label_encoder\" } are not used.\n",
      "\n",
      "  warnings.warn(smsg, UserWarning)\n",
      "D:\\NCI\\Sem 3\\Thesis\\code_DB\\newBabyCryAnalysis\\pythonProject\\.venv\\lib\\site-packages\\xgboost\\core.py:158: UserWarning: [14:06:38] WARNING: C:\\buildkite-agent\\builds\\buildkite-windows-cpu-autoscaling-group-i-0015a694724fa8361-1\\xgboost\\xgboost-ci-windows\\src\\learner.cc:740: \n",
      "Parameters: { \"use_label_encoder\" } are not used.\n",
      "\n",
      "  warnings.warn(smsg, UserWarning)\n"
     ]
    },
    {
     "name": "stdout",
     "output_type": "stream",
     "text": [
      "5-Fold Cross-Validation Accuracy: 0.84\n",
      "5-Fold Cross-Validation F1_weighted: 0.78\n",
      "5-Fold Cross-Validation Precision_weighted: 0.72\n",
      "5-Fold Cross-Validation Recall_weighted: 0.84\n"
     ]
    }
   ],
   "execution_count": 32
  },
  {
   "metadata": {
    "ExecuteTime": {
     "end_time": "2024-11-05T08:36:47.790124Z",
     "start_time": "2024-11-05T08:36:47.765517Z"
    }
   },
   "cell_type": "code",
   "source": [
    "# Add the cross-validation results to the results dataframe\n",
    "new_row_cv = pd.DataFrame([[\"XGBoost (5-fold CV)\", results['accuracy'], results['f1_weighted'], \n",
    "                            results['precision_weighted'], results['recall_weighted']]],\n",
    "                          columns=['Model', 'Accuracy', 'F1 Score', 'Precision', 'Recall'])\n",
    "results_df = pd.concat([results_df, new_row_cv], ignore_index=True)\n",
    "print(results_df)"
   ],
   "id": "c13906c0c9c45bf2",
   "outputs": [
    {
     "name": "stdout",
     "output_type": "stream",
     "text": [
      "                       Model  Accuracy  F1 Score  Precision    Recall\n",
      "0            SVM (5-fold CV)  0.767123  0.748734   0.731613  0.767123\n",
      "1            KNN (5-fold CV)  0.838356  0.774607   0.719904  0.838356\n",
      "2  Random Forest (5-fold CV)  0.849315  0.780112   0.721336  0.849315\n",
      "3       AdaBoost (5-fold CV)  0.758904  0.736453   0.738580  0.758904\n",
      "4        XGBoost (5-fold CV)  0.843836  0.777370   0.720625  0.843836\n"
     ]
    }
   ],
   "execution_count": 33
  },
  {
   "metadata": {
    "ExecuteTime": {
     "end_time": "2024-11-05T08:37:01.444652Z",
     "start_time": "2024-11-05T08:36:47.794520Z"
    }
   },
   "cell_type": "code",
   "source": [
    "# Refit the model with the training data for confusion matrix and report\n",
    "xgb_model.fit(X_mfcc_train, y_mfcc_train)\n",
    "y_pred_svm = xgb_model.predict(X_mfcc_test)\n",
    "\n",
    "# Print classification report\n",
    "#class_labels = ['belly_pain', 'burping', 'discomfort', 'hungry', 'tired']  #  class names\n",
    "print(classification_report(y_mfcc_test, y_pred_svm, target_names=class_labels))\n",
    "\n",
    "# Confusion Matrix\n",
    "cm = confusion_matrix(y_mfcc_test, y_pred_svm)\n",
    "\n",
    "# Plotting the confusion matrix\n",
    "plt.figure(figsize=(10, 7))\n",
    "sns.heatmap(cm, annot=True, fmt='d', cmap='Blues', xticklabels=class_labels, yticklabels=class_labels)\n",
    "plt.xlabel('Predicted')\n",
    "plt.ylabel('Actual')\n",
    "plt.title('Confusion Matrix: XGBoost (Simple) ')\n",
    "plt.show()\n"
   ],
   "id": "dd6cbdd353dcae4e",
   "outputs": [
    {
     "name": "stderr",
     "output_type": "stream",
     "text": [
      "D:\\NCI\\Sem 3\\Thesis\\code_DB\\newBabyCryAnalysis\\pythonProject\\.venv\\lib\\site-packages\\xgboost\\core.py:158: UserWarning: [14:06:47] WARNING: C:\\buildkite-agent\\builds\\buildkite-windows-cpu-autoscaling-group-i-0015a694724fa8361-1\\xgboost\\xgboost-ci-windows\\src\\learner.cc:740: \n",
      "Parameters: { \"use_label_encoder\" } are not used.\n",
      "\n",
      "  warnings.warn(smsg, UserWarning)\n",
      "D:\\NCI\\Sem 3\\Thesis\\code_DB\\newBabyCryAnalysis\\pythonProject\\.venv\\lib\\site-packages\\sklearn\\metrics\\_classification.py:1471: UndefinedMetricWarning: Precision and F-score are ill-defined and being set to 0.0 in labels with no predicted samples. Use `zero_division` parameter to control this behavior.\n",
      "  _warn_prf(average, modifier, msg_start, len(result))\n",
      "D:\\NCI\\Sem 3\\Thesis\\code_DB\\newBabyCryAnalysis\\pythonProject\\.venv\\lib\\site-packages\\sklearn\\metrics\\_classification.py:1471: UndefinedMetricWarning: Precision and F-score are ill-defined and being set to 0.0 in labels with no predicted samples. Use `zero_division` parameter to control this behavior.\n",
      "  _warn_prf(average, modifier, msg_start, len(result))\n",
      "D:\\NCI\\Sem 3\\Thesis\\code_DB\\newBabyCryAnalysis\\pythonProject\\.venv\\lib\\site-packages\\sklearn\\metrics\\_classification.py:1471: UndefinedMetricWarning: Precision and F-score are ill-defined and being set to 0.0 in labels with no predicted samples. Use `zero_division` parameter to control this behavior.\n",
      "  _warn_prf(average, modifier, msg_start, len(result))\n"
     ]
    },
    {
     "name": "stdout",
     "output_type": "stream",
     "text": [
      "              precision    recall  f1-score   support\n",
      "\n",
      "  belly_pain       0.00      0.00      0.00         4\n",
      "     burping       0.00      0.00      0.00         2\n",
      "  discomfort       0.00      0.00      0.00         7\n",
      "      hungry       0.78      1.00      0.88        72\n",
      "       tired       0.00      0.00      0.00         7\n",
      "\n",
      "    accuracy                           0.78        92\n",
      "   macro avg       0.16      0.20      0.18        92\n",
      "weighted avg       0.61      0.78      0.69        92\n",
      "\n"
     ]
    },
    {
     "data": {
      "text/plain": [
       "<Figure size 1000x700 with 2 Axes>"
      ],
      "image/png": "[encoded data removed]"
     },
     "metadata": {},
     "output_type": "display_data"
    }
   ],
   "execution_count": 34
  },
  {
   "metadata": {},
   "cell_type": "markdown",
   "source": "6. LSTM",
   "id": "f3b3b87ffead5464"
  },
  {
   "metadata": {
    "ExecuteTime": {
     "end_time": "2024-11-05T08:37:01.475423Z",
     "start_time": "2024-11-05T08:37:01.450654Z"
    }
   },
   "cell_type": "code",
   "source": [
    "# Reshape X for LSTM (samples, time_steps, features)\n",
    "X_lstm = X1.reshape(X1.shape[0], X1.shape[2], X1.shape[1])  # (samples, time_steps, features)\n"
   ],
   "id": "5eae0569b28bfa33",
   "outputs": [],
   "execution_count": 35
  },
  {
   "metadata": {
    "ExecuteTime": {
     "end_time": "2024-11-05T08:37:01.507014Z",
     "start_time": "2024-11-05T08:37:01.481342Z"
    }
   },
   "cell_type": "code",
   "source": [
    "# One-hot encode labels\n",
    "y_lstm = to_categorical(y1, num_classes=len(class_labels))"
   ],
   "id": "9c071b8f4d4d3e02",
   "outputs": [],
   "execution_count": 36
  },
  {
   "metadata": {
    "ExecuteTime": {
     "end_time": "2024-11-05T08:37:01.537561Z",
     "start_time": "2024-11-05T08:37:01.512030Z"
    }
   },
   "cell_type": "code",
   "source": "y_lstm.shape",
   "id": "691501166be590c2",
   "outputs": [
    {
     "data": {
      "text/plain": [
       "(457, 5)"
      ]
     },
     "execution_count": 37,
     "metadata": {},
     "output_type": "execute_result"
    }
   ],
   "execution_count": 37
  },
  {
   "metadata": {
    "ExecuteTime": {
     "end_time": "2024-11-05T08:37:01.616161Z",
     "start_time": "2024-11-05T08:37:01.541583Z"
    }
   },
   "cell_type": "code",
   "source": [
    "# Split the data into train and test sets\n",
    "X_train_lstm, X_test_lstm, y_train_lstm, y_test_lstm = train_test_split(X_lstm, y_lstm, test_size=0.3, random_state=42, stratify=y1)"
   ],
   "id": "20d5b6e9d2882d8e",
   "outputs": [],
   "execution_count": 38
  },
  {
   "metadata": {
    "ExecuteTime": {
     "end_time": "2024-11-05T08:37:01.631711Z",
     "start_time": "2024-11-05T08:37:01.620713Z"
    }
   },
   "cell_type": "code",
   "source": "y_test_lstm.shape",
   "id": "8408f8ddd4be39a7",
   "outputs": [
    {
     "data": {
      "text/plain": [
       "(138, 5)"
      ]
     },
     "execution_count": 39,
     "metadata": {},
     "output_type": "execute_result"
    }
   ],
   "execution_count": 39
  },
  {
   "metadata": {
    "ExecuteTime": {
     "end_time": "2024-11-05T08:37:01.647730Z",
     "start_time": "2024-11-05T08:37:01.633711Z"
    }
   },
   "cell_type": "code",
   "source": "y_train_lstm.shape",
   "id": "d15f271f0ff923b8",
   "outputs": [
    {
     "data": {
      "text/plain": [
       "(319, 5)"
      ]
     },
     "execution_count": 40,
     "metadata": {},
     "output_type": "execute_result"
    }
   ],
   "execution_count": 40
  },
  {
   "metadata": {
    "ExecuteTime": {
     "end_time": "2024-11-05T08:41:08.222535Z",
     "start_time": "2024-11-05T08:37:01.651728Z"
    }
   },
   "cell_type": "code",
   "source": [
    "# Define the LSTM model\n",
    "lstm_model = Sequential()\n",
    "# Add LSTM layer\n",
    "lstm_model.add(LSTM(128, input_shape=(X_train_lstm.shape[1], X_train_lstm.shape[2]), return_sequences=True))\n",
    "lstm_model.add(Dropout(0.3))\n",
    "# Add another LSTM layer\n",
    "lstm_model.add(LSTM(64, return_sequences=False))\n",
    "lstm_model.add(Dropout(0.3))\n",
    "# Add Dense layers\n",
    "lstm_model.add(Dense(32, activation='relu'))\n",
    "lstm_model.add(Dropout(0.3))\n",
    "# Output layer with softmax for multi-class classification\n",
    "lstm_model.add(Dense(len(class_labels), activation='softmax'))\n",
    "# Compile the model\n",
    "lstm_model.compile(optimizer='adam', loss='categorical_crossentropy', metrics=['accuracy'])\n",
    "# Train the model\n",
    "history = lstm_model.fit(X_train_lstm, y_train_lstm, epochs=50, batch_size=32, validation_data=(X_test_lstm, y_test_lstm))"
   ],
   "id": "b2569aa3de30cd64",
   "outputs": [
    {
     "name": "stdout",
     "output_type": "stream",
     "text": [
      "Epoch 1/50\n",
      "10/10 [==============================] - 22s 1s/step - loss: 1.1815 - accuracy: 0.6426 - val_loss: 0.7331 - val_accuracy: 0.8333\n",
      "Epoch 2/50\n",
      "10/10 [==============================] - 5s 451ms/step - loss: 0.7880 - accuracy: 0.8307 - val_loss: 0.7026 - val_accuracy: 0.8333\n",
      "Epoch 3/50\n",
      "10/10 [==============================] - 4s 426ms/step - loss: 0.7573 - accuracy: 0.8370 - val_loss: 0.6778 - val_accuracy: 0.8333\n",
      "Epoch 4/50\n",
      "10/10 [==============================] - 6s 644ms/step - loss: 0.7049 - accuracy: 0.8370 - val_loss: 0.6769 - val_accuracy: 0.8333\n",
      "Epoch 5/50\n",
      "10/10 [==============================] - 6s 596ms/step - loss: 0.7082 - accuracy: 0.8370 - val_loss: 0.6747 - val_accuracy: 0.8333\n",
      "Epoch 6/50\n",
      "10/10 [==============================] - 5s 505ms/step - loss: 0.7051 - accuracy: 0.8339 - val_loss: 0.6749 - val_accuracy: 0.8333\n",
      "Epoch 7/50\n",
      "10/10 [==============================] - 4s 421ms/step - loss: 0.6731 - accuracy: 0.8370 - val_loss: 0.6737 - val_accuracy: 0.8333\n",
      "Epoch 8/50\n",
      "10/10 [==============================] - 4s 452ms/step - loss: 0.6862 - accuracy: 0.8370 - val_loss: 0.6817 - val_accuracy: 0.8333\n",
      "Epoch 9/50\n",
      "10/10 [==============================] - 4s 436ms/step - loss: 0.6468 - accuracy: 0.8339 - val_loss: 0.6864 - val_accuracy: 0.8333\n",
      "Epoch 10/50\n",
      "10/10 [==============================] - 5s 464ms/step - loss: 0.6056 - accuracy: 0.8370 - val_loss: 0.7237 - val_accuracy: 0.8333\n",
      "Epoch 11/50\n",
      "10/10 [==============================] - 4s 446ms/step - loss: 0.6086 - accuracy: 0.8370 - val_loss: 0.6956 - val_accuracy: 0.8333\n",
      "Epoch 12/50\n",
      "10/10 [==============================] - 4s 414ms/step - loss: 0.5955 - accuracy: 0.8464 - val_loss: 0.7472 - val_accuracy: 0.8333\n",
      "Epoch 13/50\n",
      "10/10 [==============================] - 5s 490ms/step - loss: 0.6032 - accuracy: 0.8401 - val_loss: 0.7048 - val_accuracy: 0.8333\n",
      "Epoch 14/50\n",
      "10/10 [==============================] - 6s 646ms/step - loss: 0.5231 - accuracy: 0.8495 - val_loss: 0.7290 - val_accuracy: 0.8333\n",
      "Epoch 15/50\n",
      "10/10 [==============================] - 6s 592ms/step - loss: 0.5140 - accuracy: 0.8495 - val_loss: 0.7957 - val_accuracy: 0.8333\n",
      "Epoch 16/50\n",
      "10/10 [==============================] - 5s 464ms/step - loss: 0.4685 - accuracy: 0.8558 - val_loss: 0.7694 - val_accuracy: 0.8333\n",
      "Epoch 17/50\n",
      "10/10 [==============================] - 4s 431ms/step - loss: 0.4410 - accuracy: 0.8621 - val_loss: 0.9112 - val_accuracy: 0.8333\n",
      "Epoch 18/50\n",
      "10/10 [==============================] - 5s 501ms/step - loss: 0.4497 - accuracy: 0.8652 - val_loss: 0.8170 - val_accuracy: 0.8261\n",
      "Epoch 19/50\n",
      "10/10 [==============================] - 4s 457ms/step - loss: 0.3865 - accuracy: 0.8777 - val_loss: 0.8664 - val_accuracy: 0.8261\n",
      "Epoch 20/50\n",
      "10/10 [==============================] - 4s 433ms/step - loss: 0.3339 - accuracy: 0.8840 - val_loss: 1.0818 - val_accuracy: 0.8261\n",
      "Epoch 21/50\n",
      "10/10 [==============================] - 4s 440ms/step - loss: 0.3408 - accuracy: 0.8903 - val_loss: 0.9848 - val_accuracy: 0.8261\n",
      "Epoch 22/50\n",
      "10/10 [==============================] - 4s 436ms/step - loss: 0.2700 - accuracy: 0.9122 - val_loss: 1.3053 - val_accuracy: 0.8261\n",
      "Epoch 23/50\n",
      "10/10 [==============================] - 4s 430ms/step - loss: 0.2790 - accuracy: 0.8871 - val_loss: 1.0904 - val_accuracy: 0.8261\n",
      "Epoch 24/50\n",
      "10/10 [==============================] - 4s 422ms/step - loss: 0.2475 - accuracy: 0.9122 - val_loss: 1.0566 - val_accuracy: 0.8188\n",
      "Epoch 25/50\n",
      "10/10 [==============================] - 4s 460ms/step - loss: 0.1885 - accuracy: 0.9342 - val_loss: 1.0856 - val_accuracy: 0.8043\n",
      "Epoch 26/50\n",
      "10/10 [==============================] - 5s 499ms/step - loss: 0.1776 - accuracy: 0.9310 - val_loss: 1.2739 - val_accuracy: 0.8116\n",
      "Epoch 27/50\n",
      "10/10 [==============================] - 4s 440ms/step - loss: 0.1751 - accuracy: 0.9404 - val_loss: 1.4009 - val_accuracy: 0.8116\n",
      "Epoch 28/50\n",
      "10/10 [==============================] - 4s 436ms/step - loss: 0.1848 - accuracy: 0.9248 - val_loss: 1.2240 - val_accuracy: 0.7319\n",
      "Epoch 29/50\n",
      "10/10 [==============================] - 4s 432ms/step - loss: 0.1730 - accuracy: 0.9404 - val_loss: 1.2445 - val_accuracy: 0.7971\n",
      "Epoch 30/50\n",
      "10/10 [==============================] - 4s 452ms/step - loss: 0.1965 - accuracy: 0.9373 - val_loss: 1.3043 - val_accuracy: 0.8043\n",
      "Epoch 31/50\n",
      "10/10 [==============================] - 4s 436ms/step - loss: 0.1387 - accuracy: 0.9530 - val_loss: 1.1923 - val_accuracy: 0.7899\n",
      "Epoch 32/50\n",
      "10/10 [==============================] - 4s 434ms/step - loss: 0.1200 - accuracy: 0.9624 - val_loss: 1.2415 - val_accuracy: 0.7899\n",
      "Epoch 33/50\n",
      "10/10 [==============================] - 4s 436ms/step - loss: 0.1081 - accuracy: 0.9624 - val_loss: 1.4494 - val_accuracy: 0.8043\n",
      "Epoch 34/50\n",
      "10/10 [==============================] - 4s 424ms/step - loss: 0.0868 - accuracy: 0.9749 - val_loss: 1.5765 - val_accuracy: 0.8043\n",
      "Epoch 35/50\n",
      "10/10 [==============================] - 4s 450ms/step - loss: 0.0730 - accuracy: 0.9812 - val_loss: 1.6328 - val_accuracy: 0.8043\n",
      "Epoch 36/50\n",
      "10/10 [==============================] - 4s 424ms/step - loss: 0.0739 - accuracy: 0.9749 - val_loss: 1.5954 - val_accuracy: 0.7826\n",
      "Epoch 37/50\n",
      "10/10 [==============================] - 4s 455ms/step - loss: 0.0493 - accuracy: 0.9843 - val_loss: 1.7500 - val_accuracy: 0.8043\n",
      "Epoch 38/50\n",
      "10/10 [==============================] - 4s 440ms/step - loss: 0.0707 - accuracy: 0.9812 - val_loss: 1.5905 - val_accuracy: 0.7754\n",
      "Epoch 39/50\n",
      "10/10 [==============================] - 4s 456ms/step - loss: 0.0446 - accuracy: 0.9937 - val_loss: 1.7690 - val_accuracy: 0.8043\n",
      "Epoch 40/50\n",
      "10/10 [==============================] - 5s 462ms/step - loss: 0.0593 - accuracy: 0.9718 - val_loss: 1.6368 - val_accuracy: 0.7754\n",
      "Epoch 41/50\n",
      "10/10 [==============================] - 5s 477ms/step - loss: 0.0318 - accuracy: 0.9969 - val_loss: 1.8116 - val_accuracy: 0.7971\n",
      "Epoch 42/50\n",
      "10/10 [==============================] - 4s 412ms/step - loss: 0.0392 - accuracy: 0.9906 - val_loss: 1.7333 - val_accuracy: 0.7609\n",
      "Epoch 43/50\n",
      "10/10 [==============================] - 4s 418ms/step - loss: 0.0312 - accuracy: 0.9969 - val_loss: 1.7621 - val_accuracy: 0.7899\n",
      "Epoch 44/50\n",
      "10/10 [==============================] - 4s 423ms/step - loss: 0.0409 - accuracy: 0.9906 - val_loss: 2.0142 - val_accuracy: 0.7899\n",
      "Epoch 45/50\n",
      "10/10 [==============================] - 5s 471ms/step - loss: 0.0367 - accuracy: 0.9937 - val_loss: 1.7768 - val_accuracy: 0.7899\n",
      "Epoch 46/50\n",
      "10/10 [==============================] - 4s 434ms/step - loss: 0.0464 - accuracy: 0.9875 - val_loss: 1.7684 - val_accuracy: 0.7899\n",
      "Epoch 47/50\n",
      "10/10 [==============================] - 4s 420ms/step - loss: 0.0408 - accuracy: 0.9906 - val_loss: 1.9101 - val_accuracy: 0.8043\n",
      "Epoch 48/50\n",
      "10/10 [==============================] - 4s 434ms/step - loss: 0.0321 - accuracy: 0.9937 - val_loss: 1.7279 - val_accuracy: 0.7826\n",
      "Epoch 49/50\n",
      "10/10 [==============================] - 5s 460ms/step - loss: 0.0403 - accuracy: 0.9906 - val_loss: 2.0756 - val_accuracy: 0.8188\n",
      "Epoch 50/50\n",
      "10/10 [==============================] - 4s 443ms/step - loss: 0.0930 - accuracy: 0.9781 - val_loss: 1.7109 - val_accuracy: 0.7754\n"
     ]
    }
   ],
   "execution_count": 41
  },
  {
   "metadata": {
    "ExecuteTime": {
     "end_time": "2024-11-05T08:41:11.929858Z",
     "start_time": "2024-11-05T08:41:08.348103Z"
    }
   },
   "cell_type": "code",
   "source": [
    "# Evaluate the model\n",
    "y_pred_lstm = np.argmax(lstm_model.predict(X_test_lstm), axis=1)\n",
    "y_test_lstm_ = np.argmax(y_test_lstm, axis=1)"
   ],
   "id": "87983b45a06146fd",
   "outputs": [
    {
     "name": "stdout",
     "output_type": "stream",
     "text": [
      "5/5 [==============================] - 3s 94ms/step\n"
     ]
    }
   ],
   "execution_count": 42
  },
  {
   "metadata": {
    "ExecuteTime": {
     "end_time": "2024-11-05T08:41:11.993049Z",
     "start_time": "2024-11-05T08:41:11.929858Z"
    }
   },
   "cell_type": "code",
   "source": [
    "# Accuracy\n",
    "accuracy = accuracy_score(y_test_lstm_, y_pred_lstm)\n",
    "f1 = f1_score(y_test_lstm_, y_pred_lstm, average='weighted')\n",
    "precision = precision_score(y_test_lstm_, y_pred_lstm, average='weighted')\n",
    "recall = recall_score(y_test_lstm_, y_pred_lstm, average='weighted')"
   ],
   "id": "a25cf383f36a7695",
   "outputs": [
    {
     "name": "stderr",
     "output_type": "stream",
     "text": [
      "D:\\NCI\\Sem 3\\Thesis\\code_DB\\newBabyCryAnalysis\\pythonProject\\.venv\\lib\\site-packages\\sklearn\\metrics\\_classification.py:1471: UndefinedMetricWarning: Precision is ill-defined and being set to 0.0 in labels with no predicted samples. Use `zero_division` parameter to control this behavior.\n",
      "  _warn_prf(average, modifier, msg_start, len(result))\n"
     ]
    }
   ],
   "execution_count": 43
  },
  {
   "metadata": {
    "ExecuteTime": {
     "end_time": "2024-11-05T08:41:12.071113Z",
     "start_time": "2024-11-05T08:41:11.993049Z"
    }
   },
   "cell_type": "code",
   "source": [
    "new_row_cv = pd.DataFrame([[\"LSTM\", accuracy , f1, precision,recall]],\n",
    "                          columns=['Model', 'Accuracy', 'F1 Score', 'Precision', 'Recall'])\n",
    "'''\n",
    "new_row_cv = pd.DataFrame([[\"LSTM\", results['accuracy'], results['f1_weighted'], \n",
    "                            results['precision_weighted'], results['recall_weighted']]],\n",
    "                          columns=['Model', 'Accuracy', 'F1 Score', 'Precision', 'Recall'])'''\n",
    "results_df = pd.concat([results_df, new_row_cv], ignore_index=True)\n",
    "print(results_df)"
   ],
   "id": "4caad3836c95d9fa",
   "outputs": [
    {
     "name": "stdout",
     "output_type": "stream",
     "text": [
      "                       Model  Accuracy  F1 Score  Precision    Recall\n",
      "0            SVM (5-fold CV)  0.767123  0.748734   0.731613  0.767123\n",
      "1            KNN (5-fold CV)  0.838356  0.774607   0.719904  0.838356\n",
      "2  Random Forest (5-fold CV)  0.849315  0.780112   0.721336  0.849315\n",
      "3       AdaBoost (5-fold CV)  0.758904  0.736453   0.738580  0.758904\n",
      "4        XGBoost (5-fold CV)  0.843836  0.777370   0.720625  0.843836\n",
      "5                       LSTM  0.775362  0.730874   0.691214  0.775362\n"
     ]
    }
   ],
   "execution_count": 44
  },
  {
   "metadata": {
    "ExecuteTime": {
     "end_time": "2024-11-05T08:41:12.668450Z",
     "start_time": "2024-11-05T08:41:12.071113Z"
    }
   },
   "cell_type": "code",
   "source": [
    "# Classification report\n",
    "print(classification_report(y_test_lstm_, y_pred_lstm, target_names=class_labels))\n",
    "\n",
    "# Confusion Matrix\n",
    "cm = confusion_matrix(y_test_lstm_, y_pred_lstm)\n",
    "\n",
    "# Plotting the confusion matrix\n",
    "plt.figure(figsize=(10, 7))\n",
    "sns.heatmap(cm, annot=True, fmt='d', cmap='Blues', xticklabels=class_labels, yticklabels=class_labels)\n",
    "plt.xlabel('Predicted')\n",
    "plt.ylabel('Actual')\n",
    "plt.title('Confusion Matrix: LSTM ')\n",
    "plt.show()"
   ],
   "id": "6aa6da39bf2dcfcb",
   "outputs": [
    {
     "name": "stderr",
     "output_type": "stream",
     "text": [
      "D:\\NCI\\Sem 3\\Thesis\\code_DB\\newBabyCryAnalysis\\pythonProject\\.venv\\lib\\site-packages\\sklearn\\metrics\\_classification.py:1471: UndefinedMetricWarning: Precision and F-score are ill-defined and being set to 0.0 in labels with no predicted samples. Use `zero_division` parameter to control this behavior.\n",
      "  _warn_prf(average, modifier, msg_start, len(result))\n",
      "D:\\NCI\\Sem 3\\Thesis\\code_DB\\newBabyCryAnalysis\\pythonProject\\.venv\\lib\\site-packages\\sklearn\\metrics\\_classification.py:1471: UndefinedMetricWarning: Precision and F-score are ill-defined and being set to 0.0 in labels with no predicted samples. Use `zero_division` parameter to control this behavior.\n",
      "  _warn_prf(average, modifier, msg_start, len(result))\n",
      "D:\\NCI\\Sem 3\\Thesis\\code_DB\\newBabyCryAnalysis\\pythonProject\\.venv\\lib\\site-packages\\sklearn\\metrics\\_classification.py:1471: UndefinedMetricWarning: Precision and F-score are ill-defined and being set to 0.0 in labels with no predicted samples. Use `zero_division` parameter to control this behavior.\n",
      "  _warn_prf(average, modifier, msg_start, len(result))\n"
     ]
    },
    {
     "name": "stdout",
     "output_type": "stream",
     "text": [
      "              precision    recall  f1-score   support\n",
      "\n",
      "  belly_pain       0.00      0.00      0.00         5\n",
      "     burping       0.00      0.00      0.00         3\n",
      "  discomfort       0.00      0.00      0.00         8\n",
      "      hungry       0.83      0.93      0.88       115\n",
      "       tired       0.00      0.00      0.00         7\n",
      "\n",
      "    accuracy                           0.78       138\n",
      "   macro avg       0.17      0.19      0.18       138\n",
      "weighted avg       0.69      0.78      0.73       138\n",
      "\n"
     ]
    },
    {
     "data": {
      "text/plain": [
       "<Figure size 1000x700 with 2 Axes>"
      ],
      "image/png": "[encoded data removed]"
     },
     "metadata": {},
     "output_type": "display_data"
    }
   ],
   "execution_count": 45
  },
  {
   "metadata": {},
   "cell_type": "markdown",
   "source": "6. RNN",
   "id": "6f730c1d74753d67"
  },
  {
   "metadata": {
    "ExecuteTime": {
     "end_time": "2024-11-05T08:41:12.747197Z",
     "start_time": "2024-11-05T08:41:12.668450Z"
    }
   },
   "cell_type": "code",
   "source": [
    "# Split the data into train and test sets\n",
    "X_train_lstm, X_test_lstm, y_train_lstm, y_test_lstm = train_test_split(X_lstm, y_lstm, test_size=0.3, random_state=42, stratify=y1)"
   ],
   "id": "ed548c0b96005cdf",
   "outputs": [],
   "execution_count": 46
  },
  {
   "metadata": {
    "ExecuteTime": {
     "end_time": "2024-11-05T08:41:12.779084Z",
     "start_time": "2024-11-05T08:41:12.747197Z"
    }
   },
   "cell_type": "code",
   "source": [
    "# Define the RNN model\n",
    "rnn_model = Sequential()"
   ],
   "id": "b7ad431c401a71c5",
   "outputs": [],
   "execution_count": 47
  },
  {
   "metadata": {
    "ExecuteTime": {
     "end_time": "2024-11-05T08:41:13.061380Z",
     "start_time": "2024-11-05T08:41:12.779084Z"
    }
   },
   "cell_type": "code",
   "source": [
    "# Add SimpleRNN layer\n",
    "rnn_model.add(SimpleRNN(128, input_shape=(X_train_lstm.shape[1], X_train_lstm.shape[2]), return_sequences=True))\n",
    "rnn_model.add(Dropout(0.3))"
   ],
   "id": "35b43a423039005a",
   "outputs": [],
   "execution_count": 48
  },
  {
   "metadata": {
    "ExecuteTime": {
     "end_time": "2024-11-05T08:41:13.218619Z",
     "start_time": "2024-11-05T08:41:13.061380Z"
    }
   },
   "cell_type": "code",
   "source": [
    "# Add another SimpleRNN layer\n",
    "rnn_model.add(SimpleRNN(64, return_sequences=False))\n",
    "rnn_model.add(Dropout(0.3))\n",
    "\n"
   ],
   "id": "d368e147fa1d296d",
   "outputs": [],
   "execution_count": 49
  },
  {
   "metadata": {
    "ExecuteTime": {
     "end_time": "2024-11-05T08:41:13.375300Z",
     "start_time": "2024-11-05T08:41:13.218619Z"
    }
   },
   "cell_type": "code",
   "source": [
    "# Add Dense layers\n",
    "rnn_model.add(Dense(32, activation='relu'))\n",
    "rnn_model.add(Dropout(0.3))\n",
    "# Output layer with softmax for multi-class classification\n",
    "rnn_model.add(Dense(len(class_labels), activation='softmax'))\n",
    "# Compile the model\n",
    "rnn_model.compile(optimizer='adam', loss='categorical_crossentropy', metrics=['accuracy'])\n"
   ],
   "id": "64a38ac1f16884e2",
   "outputs": [],
   "execution_count": 50
  },
  {
   "metadata": {
    "ExecuteTime": {
     "end_time": "2024-11-05T08:42:39.102914Z",
     "start_time": "2024-11-05T08:41:13.391351Z"
    }
   },
   "cell_type": "code",
   "source": [
    "# Train the model\n",
    "history = rnn_model.fit(X_train_lstm, y_train_lstm, epochs=50, batch_size=32, validation_data=(X_test_lstm, y_test_lstm))"
   ],
   "id": "fd39e9fe2d46c60b",
   "outputs": [
    {
     "name": "stdout",
     "output_type": "stream",
     "text": [
      "Epoch 1/50\n",
      "10/10 [==============================] - 8s 236ms/step - loss: 1.7434 - accuracy: 0.2132 - val_loss: 1.2182 - val_accuracy: 0.5507\n",
      "Epoch 2/50\n",
      "10/10 [==============================] - 2s 164ms/step - loss: 1.3365 - accuracy: 0.5110 - val_loss: 1.0350 - val_accuracy: 0.6449\n",
      "Epoch 3/50\n",
      "10/10 [==============================] - 2s 162ms/step - loss: 1.0741 - accuracy: 0.6458 - val_loss: 0.9204 - val_accuracy: 0.7609\n",
      "Epoch 4/50\n",
      "10/10 [==============================] - 2s 158ms/step - loss: 1.0377 - accuracy: 0.6740 - val_loss: 0.8659 - val_accuracy: 0.7971\n",
      "Epoch 5/50\n",
      "10/10 [==============================] - 2s 159ms/step - loss: 0.9014 - accuracy: 0.7555 - val_loss: 0.8356 - val_accuracy: 0.8043\n",
      "Epoch 6/50\n",
      "10/10 [==============================] - 2s 168ms/step - loss: 0.8589 - accuracy: 0.7555 - val_loss: 0.8119 - val_accuracy: 0.8116\n",
      "Epoch 7/50\n",
      "10/10 [==============================] - 2s 164ms/step - loss: 0.7728 - accuracy: 0.7743 - val_loss: 0.7972 - val_accuracy: 0.8333\n",
      "Epoch 8/50\n",
      "10/10 [==============================] - 2s 157ms/step - loss: 0.7836 - accuracy: 0.7649 - val_loss: 0.7954 - val_accuracy: 0.8333\n",
      "Epoch 9/50\n",
      "10/10 [==============================] - 2s 159ms/step - loss: 0.7661 - accuracy: 0.7868 - val_loss: 0.7929 - val_accuracy: 0.8333\n",
      "Epoch 10/50\n",
      "10/10 [==============================] - 2s 160ms/step - loss: 0.7434 - accuracy: 0.7774 - val_loss: 0.7881 - val_accuracy: 0.8333\n",
      "Epoch 11/50\n",
      "10/10 [==============================] - 2s 164ms/step - loss: 0.7498 - accuracy: 0.7806 - val_loss: 0.7819 - val_accuracy: 0.8333\n",
      "Epoch 12/50\n",
      "10/10 [==============================] - 2s 157ms/step - loss: 0.6866 - accuracy: 0.8025 - val_loss: 0.7756 - val_accuracy: 0.8333\n",
      "Epoch 13/50\n",
      "10/10 [==============================] - 2s 159ms/step - loss: 0.7109 - accuracy: 0.8213 - val_loss: 0.7837 - val_accuracy: 0.8333\n",
      "Epoch 14/50\n",
      "10/10 [==============================] - 2s 154ms/step - loss: 0.7183 - accuracy: 0.8119 - val_loss: 0.8032 - val_accuracy: 0.8333\n",
      "Epoch 15/50\n",
      "10/10 [==============================] - 2s 164ms/step - loss: 0.6673 - accuracy: 0.8182 - val_loss: 0.8056 - val_accuracy: 0.8333\n",
      "Epoch 16/50\n",
      "10/10 [==============================] - 2s 157ms/step - loss: 0.6409 - accuracy: 0.8245 - val_loss: 0.8029 - val_accuracy: 0.8333\n",
      "Epoch 17/50\n",
      "10/10 [==============================] - 2s 162ms/step - loss: 0.6273 - accuracy: 0.8276 - val_loss: 0.8052 - val_accuracy: 0.8333\n",
      "Epoch 18/50\n",
      "10/10 [==============================] - 2s 166ms/step - loss: 0.6627 - accuracy: 0.8150 - val_loss: 0.8101 - val_accuracy: 0.8333\n",
      "Epoch 19/50\n",
      "10/10 [==============================] - 2s 161ms/step - loss: 0.6428 - accuracy: 0.8150 - val_loss: 0.8056 - val_accuracy: 0.8333\n",
      "Epoch 20/50\n",
      "10/10 [==============================] - 2s 161ms/step - loss: 0.5808 - accuracy: 0.8339 - val_loss: 0.8086 - val_accuracy: 0.8333\n",
      "Epoch 21/50\n",
      "10/10 [==============================] - 2s 164ms/step - loss: 0.6336 - accuracy: 0.8401 - val_loss: 0.8035 - val_accuracy: 0.8333\n",
      "Epoch 22/50\n",
      "10/10 [==============================] - 2s 159ms/step - loss: 0.5689 - accuracy: 0.8370 - val_loss: 0.7999 - val_accuracy: 0.8333\n",
      "Epoch 23/50\n",
      "10/10 [==============================] - 2s 162ms/step - loss: 0.5380 - accuracy: 0.8464 - val_loss: 0.7974 - val_accuracy: 0.8333\n",
      "Epoch 24/50\n",
      "10/10 [==============================] - 2s 164ms/step - loss: 0.5232 - accuracy: 0.8495 - val_loss: 0.8098 - val_accuracy: 0.8333\n",
      "Epoch 25/50\n",
      "10/10 [==============================] - 2s 160ms/step - loss: 0.5783 - accuracy: 0.8276 - val_loss: 0.8248 - val_accuracy: 0.8333\n",
      "Epoch 26/50\n",
      "10/10 [==============================] - 1s 150ms/step - loss: 0.5294 - accuracy: 0.8245 - val_loss: 0.8123 - val_accuracy: 0.8333\n",
      "Epoch 27/50\n",
      "10/10 [==============================] - 1s 152ms/step - loss: 0.5258 - accuracy: 0.8401 - val_loss: 0.8223 - val_accuracy: 0.8333\n",
      "Epoch 28/50\n",
      "10/10 [==============================] - 2s 157ms/step - loss: 0.5465 - accuracy: 0.8307 - val_loss: 0.8255 - val_accuracy: 0.8333\n",
      "Epoch 29/50\n",
      "10/10 [==============================] - 2s 168ms/step - loss: 0.5023 - accuracy: 0.8464 - val_loss: 0.8337 - val_accuracy: 0.8333\n",
      "Epoch 30/50\n",
      "10/10 [==============================] - 2s 157ms/step - loss: 0.5183 - accuracy: 0.8276 - val_loss: 0.8383 - val_accuracy: 0.8333\n",
      "Epoch 31/50\n",
      "10/10 [==============================] - 2s 157ms/step - loss: 0.5322 - accuracy: 0.8495 - val_loss: 0.8263 - val_accuracy: 0.8333\n",
      "Epoch 32/50\n",
      "10/10 [==============================] - 2s 163ms/step - loss: 0.4801 - accuracy: 0.8495 - val_loss: 0.8381 - val_accuracy: 0.8333\n",
      "Epoch 33/50\n",
      "10/10 [==============================] - 2s 165ms/step - loss: 0.5020 - accuracy: 0.8401 - val_loss: 0.8409 - val_accuracy: 0.8333\n",
      "Epoch 34/50\n",
      "10/10 [==============================] - 2s 159ms/step - loss: 0.4482 - accuracy: 0.8558 - val_loss: 0.8380 - val_accuracy: 0.8333\n",
      "Epoch 35/50\n",
      "10/10 [==============================] - 2s 164ms/step - loss: 0.4748 - accuracy: 0.8558 - val_loss: 0.8441 - val_accuracy: 0.8333\n",
      "Epoch 36/50\n",
      "10/10 [==============================] - 2s 160ms/step - loss: 0.4343 - accuracy: 0.8558 - val_loss: 0.8493 - val_accuracy: 0.8333\n",
      "Epoch 37/50\n",
      "10/10 [==============================] - 2s 167ms/step - loss: 0.4443 - accuracy: 0.8433 - val_loss: 0.8533 - val_accuracy: 0.8333\n",
      "Epoch 38/50\n",
      "10/10 [==============================] - 2s 163ms/step - loss: 0.4700 - accuracy: 0.8433 - val_loss: 0.8628 - val_accuracy: 0.8261\n",
      "Epoch 39/50\n",
      "10/10 [==============================] - 2s 166ms/step - loss: 0.4009 - accuracy: 0.8652 - val_loss: 0.8625 - val_accuracy: 0.8333\n",
      "Epoch 40/50\n",
      "10/10 [==============================] - 2s 161ms/step - loss: 0.4237 - accuracy: 0.8558 - val_loss: 0.8598 - val_accuracy: 0.8188\n",
      "Epoch 41/50\n",
      "10/10 [==============================] - 2s 160ms/step - loss: 0.3806 - accuracy: 0.8777 - val_loss: 0.8882 - val_accuracy: 0.8261\n",
      "Epoch 42/50\n",
      "10/10 [==============================] - 2s 162ms/step - loss: 0.3980 - accuracy: 0.8840 - val_loss: 0.8884 - val_accuracy: 0.8261\n",
      "Epoch 43/50\n",
      "10/10 [==============================] - 2s 157ms/step - loss: 0.4037 - accuracy: 0.8746 - val_loss: 0.8862 - val_accuracy: 0.8188\n",
      "Epoch 44/50\n",
      "10/10 [==============================] - 2s 160ms/step - loss: 0.3997 - accuracy: 0.8683 - val_loss: 0.9324 - val_accuracy: 0.8188\n",
      "Epoch 45/50\n",
      "10/10 [==============================] - 2s 166ms/step - loss: 0.4113 - accuracy: 0.8777 - val_loss: 0.9435 - val_accuracy: 0.8116\n",
      "Epoch 46/50\n",
      "10/10 [==============================] - 2s 164ms/step - loss: 0.4047 - accuracy: 0.8746 - val_loss: 0.9355 - val_accuracy: 0.7971\n",
      "Epoch 47/50\n",
      "10/10 [==============================] - 2s 159ms/step - loss: 0.3916 - accuracy: 0.8683 - val_loss: 0.9474 - val_accuracy: 0.8188\n",
      "Epoch 48/50\n",
      "10/10 [==============================] - 2s 162ms/step - loss: 0.3884 - accuracy: 0.8558 - val_loss: 0.9149 - val_accuracy: 0.7899\n",
      "Epoch 49/50\n",
      "10/10 [==============================] - 2s 159ms/step - loss: 0.3559 - accuracy: 0.8652 - val_loss: 0.9282 - val_accuracy: 0.8188\n",
      "Epoch 50/50\n",
      "10/10 [==============================] - 2s 160ms/step - loss: 0.3987 - accuracy: 0.8715 - val_loss: 0.9257 - val_accuracy: 0.8188\n"
     ]
    }
   ],
   "execution_count": 51
  },
  {
   "metadata": {
    "ExecuteTime": {
     "end_time": "2024-11-05T08:42:39.966190Z",
     "start_time": "2024-11-05T08:42:39.102914Z"
    }
   },
   "cell_type": "code",
   "source": [
    "# Evaluate the model\n",
    "y_pred_rnn = np.argmax(rnn_model.predict(X_test_lstm), axis=1)\n",
    "y_test_rnn = np.argmax(y_test_lstm, axis=1)\n"
   ],
   "id": "508ccadeb4ace38b",
   "outputs": [
    {
     "name": "stdout",
     "output_type": "stream",
     "text": [
      "5/5 [==============================] - 1s 39ms/step\n"
     ]
    }
   ],
   "execution_count": 52
  },
  {
   "metadata": {
    "ExecuteTime": {
     "end_time": "2024-11-05T08:42:39.997333Z",
     "start_time": "2024-11-05T08:42:39.972077Z"
    }
   },
   "cell_type": "code",
   "source": [
    "# Accuracy\n",
    "accuracy = accuracy_score(y_test_rnn, y_pred_rnn)\n",
    "f1 = f1_score(y_test_rnn, y_pred_rnn, average='weighted')\n",
    "precision = precision_score(y_test_rnn, y_pred_rnn, average='weighted')\n",
    "recall = recall_score(y_test_rnn, y_pred_rnn, average='weighted')\n"
   ],
   "id": "92db13b4800872ac",
   "outputs": [
    {
     "name": "stderr",
     "output_type": "stream",
     "text": [
      "D:\\NCI\\Sem 3\\Thesis\\code_DB\\newBabyCryAnalysis\\pythonProject\\.venv\\lib\\site-packages\\sklearn\\metrics\\_classification.py:1471: UndefinedMetricWarning: Precision is ill-defined and being set to 0.0 in labels with no predicted samples. Use `zero_division` parameter to control this behavior.\n",
      "  _warn_prf(average, modifier, msg_start, len(result))\n"
     ]
    }
   ],
   "execution_count": 53
  },
  {
   "metadata": {
    "ExecuteTime": {
     "end_time": "2024-11-05T08:42:40.044615Z",
     "start_time": "2024-11-05T08:42:39.997333Z"
    }
   },
   "cell_type": "code",
   "source": [
    "\n",
    "new_row_cv = pd.DataFrame([[\"RNN\", accuracy, f1, precision, recall]],\n",
    "                          columns=['Model', 'Accuracy', 'F1 Score', 'Precision', 'Recall'])\n",
    "results_df = pd.concat([results_df, new_row_cv], ignore_index=True)\n",
    "print(results_df)\n"
   ],
   "id": "23fc6f37896ca136",
   "outputs": [
    {
     "name": "stdout",
     "output_type": "stream",
     "text": [
      "                       Model  Accuracy  F1 Score  Precision    Recall\n",
      "0            SVM (5-fold CV)  0.767123  0.748734   0.731613  0.767123\n",
      "1            KNN (5-fold CV)  0.838356  0.774607   0.719904  0.838356\n",
      "2  Random Forest (5-fold CV)  0.849315  0.780112   0.721336  0.849315\n",
      "3       AdaBoost (5-fold CV)  0.758904  0.736453   0.738580  0.758904\n",
      "4        XGBoost (5-fold CV)  0.843836  0.777370   0.720625  0.843836\n",
      "5                       LSTM  0.775362  0.730874   0.691214  0.775362\n",
      "6                        RNN  0.818841  0.750332   0.692402  0.818841\n"
     ]
    }
   ],
   "execution_count": 54
  },
  {
   "metadata": {
    "ExecuteTime": {
     "end_time": "2024-11-05T08:42:40.767569Z",
     "start_time": "2024-11-05T08:42:40.044615Z"
    }
   },
   "cell_type": "code",
   "source": [
    "# Classification report\n",
    "print(classification_report(y_test_rnn, y_pred_rnn, target_names=class_labels))\n",
    "\n",
    "# Confusion Matrix\n",
    "cm = confusion_matrix(y_test_rnn, y_pred_rnn)\n",
    "\n",
    "# Plotting the confusion matrix\n",
    "plt.figure(figsize=(10, 7))\n",
    "sns.heatmap(cm, annot=True, fmt='d', cmap='Blues', xticklabels=class_labels, yticklabels=class_labels)\n",
    "plt.xlabel('Predicted')\n",
    "plt.ylabel('Actual')\n",
    "plt.title('Confusion Matrix: RNN ')\n",
    "plt.show()"
   ],
   "id": "d8963370b174911",
   "outputs": [
    {
     "name": "stdout",
     "output_type": "stream",
     "text": [
      "              precision    recall  f1-score   support\n",
      "\n",
      "  belly_pain       0.00      0.00      0.00         5\n",
      "     burping       0.00      0.00      0.00         3\n",
      "  discomfort       0.00      0.00      0.00         8\n",
      "      hungry       0.83      0.98      0.90       115\n",
      "       tired       0.00      0.00      0.00         7\n",
      "\n",
      "    accuracy                           0.82       138\n",
      "   macro avg       0.17      0.20      0.18       138\n",
      "weighted avg       0.69      0.82      0.75       138\n",
      "\n"
     ]
    },
    {
     "name": "stderr",
     "output_type": "stream",
     "text": [
      "D:\\NCI\\Sem 3\\Thesis\\code_DB\\newBabyCryAnalysis\\pythonProject\\.venv\\lib\\site-packages\\sklearn\\metrics\\_classification.py:1471: UndefinedMetricWarning: Precision and F-score are ill-defined and being set to 0.0 in labels with no predicted samples. Use `zero_division` parameter to control this behavior.\n",
      "  _warn_prf(average, modifier, msg_start, len(result))\n",
      "D:\\NCI\\Sem 3\\Thesis\\code_DB\\newBabyCryAnalysis\\pythonProject\\.venv\\lib\\site-packages\\sklearn\\metrics\\_classification.py:1471: UndefinedMetricWarning: Precision and F-score are ill-defined and being set to 0.0 in labels with no predicted samples. Use `zero_division` parameter to control this behavior.\n",
      "  _warn_prf(average, modifier, msg_start, len(result))\n",
      "D:\\NCI\\Sem 3\\Thesis\\code_DB\\newBabyCryAnalysis\\pythonProject\\.venv\\lib\\site-packages\\sklearn\\metrics\\_classification.py:1471: UndefinedMetricWarning: Precision and F-score are ill-defined and being set to 0.0 in labels with no predicted samples. Use `zero_division` parameter to control this behavior.\n",
      "  _warn_prf(average, modifier, msg_start, len(result))\n"
     ]
    },
    {
     "data": {
      "text/plain": [
       "<Figure size 1000x700 with 2 Axes>"
      ],
      "image/png": "[encoded data removed]"
     },
     "metadata": {},
     "output_type": "display_data"
    }
   ],
   "execution_count": 55
  },
  {
   "metadata": {},
   "cell_type": "markdown",
   "source": "8. CNN",
   "id": "bfec225bbc357d42"
  },
  {
   "metadata": {
    "ExecuteTime": {
     "end_time": "2024-11-05T08:42:40.861349Z",
     "start_time": "2024-11-05T08:42:40.767569Z"
    }
   },
   "cell_type": "code",
   "source": [
    "timesteps = 6  # Use 2, 3, or 6 based on preference and experiment\n",
    "n_features = X_mfcc_train.shape[1] // timesteps  # Adjust n_features\n",
    "\n",
    "# Reshaping data for CNN\n",
    "X_mfcc_train_cnn = X_mfcc_train.reshape((X_mfcc_train.shape[0], timesteps, n_features))\n",
    "X_mfcc_test_cnn = X_mfcc_test.reshape((X_mfcc_test.shape[0], timesteps, n_features))\n",
    "\n",
    "# Check the shapes\n",
    "print(\"Training data shape:\", X_mfcc_train_cnn.shape)\n",
    "print(\"Testing data shape:\", X_mfcc_test_cnn.shape)"
   ],
   "id": "b9bb5c8ffaf94769",
   "outputs": [
    {
     "name": "stdout",
     "output_type": "stream",
     "text": [
      "Training data shape: (365, 6, 377)\n",
      "Testing data shape: (92, 6, 377)\n"
     ]
    }
   ],
   "execution_count": 56
  },
  {
   "metadata": {
    "ExecuteTime": {
     "end_time": "2024-11-05T08:42:40.893048Z",
     "start_time": "2024-11-05T08:42:40.867874Z"
    }
   },
   "cell_type": "code",
   "source": [
    "# One-hot encode labels\n",
    "num_classes = len(np.unique(y_mfcc_train))\n",
    "y_train_cnn = to_categorical(y_mfcc_train, num_classes)\n",
    "y_test_cnn = to_categorical(y_mfcc_test, num_classes)\n",
    "\n"
   ],
   "id": "446afffb845130fc",
   "outputs": [],
   "execution_count": 57
  },
  {
   "metadata": {
    "ExecuteTime": {
     "end_time": "2024-11-05T08:42:41.049737Z",
     "start_time": "2024-11-05T08:42:40.893048Z"
    }
   },
   "cell_type": "code",
   "source": [
    "# CNN Model\n",
    "cnn_model = Sequential()\n",
    "cnn_model.add(Conv1D(64, kernel_size=3, activation='relu', input_shape=(timesteps, n_features)))\n",
    "cnn_model.add(MaxPooling1D(pool_size=2))\n",
    "cnn_model.add(Flatten())\n",
    "cnn_model.add(Dropout(0.5))\n",
    "cnn_model.add(Dense(num_classes, activation='softmax'))\n",
    "\n",
    "\n"
   ],
   "id": "febcf8aa7224c349",
   "outputs": [],
   "execution_count": 58
  },
  {
   "metadata": {
    "ExecuteTime": {
     "end_time": "2024-11-05T08:42:47.856025Z",
     "start_time": "2024-11-05T08:42:41.049737Z"
    }
   },
   "cell_type": "code",
   "source": [
    "# Compile and Train the Model\n",
    "cnn_model.compile(optimizer='adam', loss='categorical_crossentropy', metrics=['accuracy'])\n",
    "cnn_model.fit(X_mfcc_train_cnn, y_train_cnn, epochs=20, batch_size=32, validation_split=0.2, verbose=2)\n"
   ],
   "id": "f4a281d29853cf5f",
   "outputs": [
    {
     "name": "stdout",
     "output_type": "stream",
     "text": [
      "Epoch 1/20\n",
      "10/10 - 2s - loss: 153.5426 - accuracy: 0.6884 - val_loss: 132.6333 - val_accuracy: 0.8082 - 2s/epoch - 192ms/step\n",
      "Epoch 2/20\n",
      "10/10 - 0s - loss: 67.8305 - accuracy: 0.7637 - val_loss: 65.7020 - val_accuracy: 0.8082 - 110ms/epoch - 11ms/step\n",
      "Epoch 3/20\n",
      "10/10 - 0s - loss: 43.4328 - accuracy: 0.7432 - val_loss: 33.6186 - val_accuracy: 0.7945 - 110ms/epoch - 11ms/step\n",
      "Epoch 4/20\n",
      "10/10 - 0s - loss: 22.5539 - accuracy: 0.6986 - val_loss: 26.9348 - val_accuracy: 0.8082 - 110ms/epoch - 11ms/step\n",
      "Epoch 5/20\n",
      "10/10 - 0s - loss: 16.0796 - accuracy: 0.7774 - val_loss: 17.9869 - val_accuracy: 0.7945 - 110ms/epoch - 11ms/step\n",
      "Epoch 6/20\n",
      "10/10 - 0s - loss: 11.2626 - accuracy: 0.7500 - val_loss: 10.8192 - val_accuracy: 0.8082 - 110ms/epoch - 11ms/step\n",
      "Epoch 7/20\n",
      "10/10 - 0s - loss: 8.3849 - accuracy: 0.7500 - val_loss: 13.1681 - val_accuracy: 0.8082 - 110ms/epoch - 11ms/step\n",
      "Epoch 8/20\n",
      "10/10 - 0s - loss: 5.1865 - accuracy: 0.8082 - val_loss: 9.8407 - val_accuracy: 0.7671 - 110ms/epoch - 11ms/step\n",
      "Epoch 9/20\n",
      "10/10 - 0s - loss: 4.0287 - accuracy: 0.7808 - val_loss: 10.8794 - val_accuracy: 0.8082 - 110ms/epoch - 11ms/step\n",
      "Epoch 10/20\n",
      "10/10 - 0s - loss: 5.0416 - accuracy: 0.8527 - val_loss: 13.0795 - val_accuracy: 0.7945 - 126ms/epoch - 13ms/step\n",
      "Epoch 11/20\n",
      "10/10 - 0s - loss: 4.7129 - accuracy: 0.7945 - val_loss: 9.2509 - val_accuracy: 0.7397 - 138ms/epoch - 14ms/step\n",
      "Epoch 12/20\n",
      "10/10 - 0s - loss: 3.3632 - accuracy: 0.8014 - val_loss: 9.9534 - val_accuracy: 0.7945 - 126ms/epoch - 13ms/step\n",
      "Epoch 13/20\n",
      "10/10 - 0s - loss: 2.5587 - accuracy: 0.7979 - val_loss: 8.1844 - val_accuracy: 0.7671 - 155ms/epoch - 15ms/step\n",
      "Epoch 14/20\n",
      "10/10 - 0s - loss: 2.5325 - accuracy: 0.8014 - val_loss: 7.5770 - val_accuracy: 0.7808 - 142ms/epoch - 14ms/step\n",
      "Epoch 15/20\n",
      "10/10 - 0s - loss: 1.7923 - accuracy: 0.8527 - val_loss: 7.4920 - val_accuracy: 0.7945 - 141ms/epoch - 14ms/step\n",
      "Epoch 16/20\n",
      "10/10 - 0s - loss: 1.6406 - accuracy: 0.8493 - val_loss: 6.4531 - val_accuracy: 0.7671 - 157ms/epoch - 16ms/step\n",
      "Epoch 17/20\n",
      "10/10 - 0s - loss: 1.9467 - accuracy: 0.7363 - val_loss: 7.4311 - val_accuracy: 0.7808 - 173ms/epoch - 17ms/step\n",
      "Epoch 18/20\n",
      "10/10 - 0s - loss: 2.4950 - accuracy: 0.8390 - val_loss: 9.2396 - val_accuracy: 0.7945 - 141ms/epoch - 14ms/step\n",
      "Epoch 19/20\n",
      "10/10 - 0s - loss: 2.4286 - accuracy: 0.7979 - val_loss: 7.7956 - val_accuracy: 0.7671 - 158ms/epoch - 16ms/step\n",
      "Epoch 20/20\n",
      "10/10 - 0s - loss: 2.4929 - accuracy: 0.8116 - val_loss: 9.2488 - val_accuracy: 0.7945 - 149ms/epoch - 15ms/step\n"
     ]
    },
    {
     "data": {
      "text/plain": [
       "<keras.src.callbacks.History at 0x1da861a0c10>"
      ]
     },
     "execution_count": 59,
     "metadata": {},
     "output_type": "execute_result"
    }
   ],
   "execution_count": 59
  },
  {
   "metadata": {
    "ExecuteTime": {
     "end_time": "2024-11-05T08:42:48.154599Z",
     "start_time": "2024-11-05T08:42:47.856025Z"
    }
   },
   "cell_type": "code",
   "source": [
    "# Make predictions on the test data\n",
    "y_pred_cnn = cnn_model.predict(X_mfcc_test_cnn)\n",
    "# Convert predictions and true labels from one-hot encoded format to class labels\n",
    "y_pred_classes_cnn = np.argmax(y_pred_cnn, axis=1)\n",
    "y_true_classes_cnn = np.argmax(y_test_cnn, axis=1)\n"
   ],
   "id": "e02975d97633fb3",
   "outputs": [
    {
     "name": "stdout",
     "output_type": "stream",
     "text": [
      "3/3 [==============================] - 0s 0s/step\n"
     ]
    }
   ],
   "execution_count": 60
  },
  {
   "metadata": {
    "ExecuteTime": {
     "end_time": "2024-11-05T08:42:48.185896Z",
     "start_time": "2024-11-05T08:42:48.154599Z"
    }
   },
   "cell_type": "code",
   "source": [
    "# Generate a classification report\n",
    "print(classification_report(y_true_classes_cnn, y_pred_classes_cnn))"
   ],
   "id": "8e27bcfd3dffb841",
   "outputs": [
    {
     "name": "stdout",
     "output_type": "stream",
     "text": [
      "              precision    recall  f1-score   support\n",
      "\n",
      "           0       0.00      0.00      0.00         4\n",
      "           1       0.00      0.00      0.00         2\n",
      "           2       0.00      0.00      0.00         7\n",
      "           3       0.77      0.94      0.85        72\n",
      "           4       0.00      0.00      0.00         7\n",
      "\n",
      "    accuracy                           0.74        92\n",
      "   macro avg       0.15      0.19      0.17        92\n",
      "weighted avg       0.60      0.74      0.67        92\n",
      "\n"
     ]
    },
    {
     "name": "stderr",
     "output_type": "stream",
     "text": [
      "D:\\NCI\\Sem 3\\Thesis\\code_DB\\newBabyCryAnalysis\\pythonProject\\.venv\\lib\\site-packages\\sklearn\\metrics\\_classification.py:1471: UndefinedMetricWarning: Precision and F-score are ill-defined and being set to 0.0 in labels with no predicted samples. Use `zero_division` parameter to control this behavior.\n",
      "  _warn_prf(average, modifier, msg_start, len(result))\n",
      "D:\\NCI\\Sem 3\\Thesis\\code_DB\\newBabyCryAnalysis\\pythonProject\\.venv\\lib\\site-packages\\sklearn\\metrics\\_classification.py:1471: UndefinedMetricWarning: Precision and F-score are ill-defined and being set to 0.0 in labels with no predicted samples. Use `zero_division` parameter to control this behavior.\n",
      "  _warn_prf(average, modifier, msg_start, len(result))\n",
      "D:\\NCI\\Sem 3\\Thesis\\code_DB\\newBabyCryAnalysis\\pythonProject\\.venv\\lib\\site-packages\\sklearn\\metrics\\_classification.py:1471: UndefinedMetricWarning: Precision and F-score are ill-defined and being set to 0.0 in labels with no predicted samples. Use `zero_division` parameter to control this behavior.\n",
      "  _warn_prf(average, modifier, msg_start, len(result))\n"
     ]
    }
   ],
   "execution_count": 61
  },
  {
   "metadata": {
    "ExecuteTime": {
     "end_time": "2024-11-05T08:42:48.217777Z",
     "start_time": "2024-11-05T08:42:48.190461Z"
    }
   },
   "cell_type": "code",
   "source": [
    "# Accuracy\n",
    "accuracy = accuracy_score(y_true_classes_cnn, y_pred_classes_cnn)\n",
    "\n",
    "# F1 Score\n",
    "f1 = f1_score(y_true_classes_cnn, y_pred_classes_cnn, average='weighted')\n",
    "\n",
    "# Precision\n",
    "precision = precision_score(y_true_classes_cnn, y_pred_classes_cnn, average='weighted')\n",
    "\n",
    "# Recall\n",
    "recall = recall_score(y_true_classes_cnn, y_pred_classes_cnn, average='weighted')"
   ],
   "id": "6634a30cb98889bb",
   "outputs": [
    {
     "name": "stderr",
     "output_type": "stream",
     "text": [
      "D:\\NCI\\Sem 3\\Thesis\\code_DB\\newBabyCryAnalysis\\pythonProject\\.venv\\lib\\site-packages\\sklearn\\metrics\\_classification.py:1471: UndefinedMetricWarning: Precision is ill-defined and being set to 0.0 in labels with no predicted samples. Use `zero_division` parameter to control this behavior.\n",
      "  _warn_prf(average, modifier, msg_start, len(result))\n"
     ]
    }
   ],
   "execution_count": 62
  },
  {
   "metadata": {
    "ExecuteTime": {
     "end_time": "2024-11-05T08:42:48.233413Z",
     "start_time": "2024-11-05T08:42:48.217777Z"
    }
   },
   "cell_type": "code",
   "source": "",
   "id": "e3cfc18a4d0bbe19",
   "outputs": [],
   "execution_count": 62
  },
  {
   "metadata": {
    "ExecuteTime": {
     "end_time": "2024-11-05T08:42:48.264685Z",
     "start_time": "2024-11-05T08:42:48.233413Z"
    }
   },
   "cell_type": "code",
   "source": [
    "new_row_cv = pd.DataFrame([[\"CNN\", accuracy , f1, precision,recall]],\n",
    "                          columns=['Model', 'Accuracy', 'F1 Score', 'Precision', 'Recall'])\n",
    "results_df = pd.concat([results_df, new_row_cv], ignore_index=True)\n",
    "print(results_df)"
   ],
   "id": "430773be611d6870",
   "outputs": [
    {
     "name": "stdout",
     "output_type": "stream",
     "text": [
      "                       Model  Accuracy  F1 Score  Precision    Recall\n",
      "0            SVM (5-fold CV)  0.767123  0.748734   0.731613  0.767123\n",
      "1            KNN (5-fold CV)  0.838356  0.774607   0.719904  0.838356\n",
      "2  Random Forest (5-fold CV)  0.849315  0.780112   0.721336  0.849315\n",
      "3       AdaBoost (5-fold CV)  0.758904  0.736453   0.738580  0.758904\n",
      "4        XGBoost (5-fold CV)  0.843836  0.777370   0.720625  0.843836\n",
      "5                       LSTM  0.775362  0.730874   0.691214  0.775362\n",
      "6                        RNN  0.818841  0.750332   0.692402  0.818841\n",
      "7                        CNN  0.739130  0.665217   0.604743  0.739130\n"
     ]
    }
   ],
   "execution_count": 63
  },
  {
   "metadata": {
    "ExecuteTime": {
     "end_time": "2024-11-05T08:42:48.753339Z",
     "start_time": "2024-11-05T08:42:48.264685Z"
    }
   },
   "cell_type": "code",
   "source": [
    "# Confusion Matrix\n",
    "cm = confusion_matrix(y_true_classes_cnn, y_pred_classes_cnn)\n",
    "\n",
    "# Plotting the confusion matrix\n",
    "plt.figure(figsize=(10, 7))\n",
    "sns.heatmap(cm, annot=True, fmt='d', cmap='Blues', xticklabels=class_labels, yticklabels=class_labels)\n",
    "plt.xlabel('Predicted')\n",
    "plt.ylabel('Actual')\n",
    "plt.title('Confusion Matrix: CNN ')\n",
    "plt.show()"
   ],
   "id": "7a3fb84bc0338bb0",
   "outputs": [
    {
     "data": {
      "text/plain": [
       "<Figure size 1000x700 with 2 Axes>"
      ],
      "image/png": "[encoded data removed]"
     },
     "metadata": {},
     "output_type": "display_data"
    }
   ],
   "execution_count": 64
  },
  {
   "metadata": {},
   "cell_type": "markdown",
   "source": "9. CNN-XGBoost",
   "id": "d93817e976cc7c71"
  },
  {
   "metadata": {
    "ExecuteTime": {
     "end_time": "2024-11-05T08:42:48.816067Z",
     "start_time": "2024-11-05T08:42:48.753339Z"
    }
   },
   "cell_type": "code",
   "source": [
    "# Define the CNN model up to the Flatten layer\n",
    "cnn_xg_model = Sequential()\n",
    "cnn_xg_model.add(Conv1D(64, kernel_size=3, activation='relu', input_shape=(timesteps, n_features)))\n",
    "cnn_xg_model.add(MaxPooling1D(pool_size=2))\n",
    "cnn_xg_model.add(Flatten())  # Feature extraction layer\n",
    "cnn_xg_model.add(Dropout(0.5))\n",
    "\n",
    "# Convert to a feature-extractor model that stops at the Flatten layer\n",
    "feature_extractor = Model(inputs=cnn_xg_model.input, outputs=cnn_xg_model.layers[-2].output)"
   ],
   "id": "b26e7144796754d8",
   "outputs": [],
   "execution_count": 65
  },
  {
   "metadata": {
    "ExecuteTime": {
     "end_time": "2024-11-05T08:42:49.163586Z",
     "start_time": "2024-11-05T08:42:48.816067Z"
    }
   },
   "cell_type": "code",
   "source": [
    "# Extract features from training and test data\n",
    "X_train_features = feature_extractor.predict(X_mfcc_train_cnn)\n",
    "X_test_features = feature_extractor.predict(X_mfcc_test_cnn)\n"
   ],
   "id": "c0a6aec940d57ff0",
   "outputs": [
    {
     "name": "stdout",
     "output_type": "stream",
     "text": [
      "12/12 [==============================] - 0s 3ms/step\n",
      "3/3 [==============================] - 0s 3ms/step\n"
     ]
    }
   ],
   "execution_count": 66
  },
  {
   "metadata": {
    "ExecuteTime": {
     "end_time": "2024-11-05T08:42:49.195198Z",
     "start_time": "2024-11-05T08:42:49.163586Z"
    }
   },
   "cell_type": "code",
   "source": [
    "'''# Initializing the XGBoost model\n",
    "xgb_model_1 = xgb.XGBClassifier(n_estimators=100, use_label_encoder=False, eval_metric='mlogloss', random_state=42)\n",
    "# Apply 5-fold cross-validation and collect each metric's results\n",
    "results = {}\n",
    "for metric_name, metric in scoring_metrics.items():\n",
    "    scores = cross_val_score(xgb_model_1, X_train_features, y_mfcc_train, cv=5, scoring=metric)\n",
    "    results[metric_name] = scores.mean()\n",
    "'''\n"
   ],
   "id": "1383b8276233efa6",
   "outputs": [
    {
     "data": {
      "text/plain": [
       "\"# Initializing the XGBoost model\\nxgb_model_1 = xgb.XGBClassifier(n_estimators=100, use_label_encoder=False, eval_metric='mlogloss', random_state=42)\\n# Apply 5-fold cross-validation and collect each metric's results\\nresults = {}\\nfor metric_name, metric in scoring_metrics.items():\\n    scores = cross_val_score(xgb_model_1, X_train_features, y_mfcc_train, cv=5, scoring=metric)\\n    results[metric_name] = scores.mean()\\n\""
      ]
     },
     "execution_count": 67,
     "metadata": {},
     "output_type": "execute_result"
    }
   ],
   "execution_count": 67
  },
  {
   "metadata": {
    "ExecuteTime": {
     "end_time": "2024-11-05T08:42:49.226607Z",
     "start_time": "2024-11-05T08:42:49.195198Z"
    }
   },
   "cell_type": "code",
   "source": [
    "'''# Print the average cross-validation results for each metric\n",
    "for metric_name, score in results.items():\n",
    "    print(f'5-Fold Cross-Validation {metric_name.capitalize()}: {score:.2f}')\n",
    "# Add the cross-validation results to the results dataframe\n",
    "new_row_cv = pd.DataFrame([[\"CNN-XGBoost (5-fold CV)\", results['accuracy'], results['f1_weighted'],\n",
    "                            results['precision_weighted'], results['recall_weighted']]],\n",
    "                          columns=['Model', 'Accuracy', 'F1 Score', 'Precision', 'Recall'])\n",
    "results_df = pd.concat([results_df, new_row_cv], ignore_index=True)\n",
    "print(results_df)'''"
   ],
   "id": "40938d812da9d41d",
   "outputs": [
    {
     "data": {
      "text/plain": [
       "'# Print the average cross-validation results for each metric\\nfor metric_name, score in results.items():\\n    print(f\\'5-Fold Cross-Validation {metric_name.capitalize()}: {score:.2f}\\')\\n# Add the cross-validation results to the results dataframe\\nnew_row_cv = pd.DataFrame([[\"CNN-XGBoost (5-fold CV)\", results[\\'accuracy\\'], results[\\'f1_weighted\\'],\\n                            results[\\'precision_weighted\\'], results[\\'recall_weighted\\']]],\\n                          columns=[\\'Model\\', \\'Accuracy\\', \\'F1 Score\\', \\'Precision\\', \\'Recall\\'])\\nresults_df = pd.concat([results_df, new_row_cv], ignore_index=True)\\nprint(results_df)'"
      ]
     },
     "execution_count": 68,
     "metadata": {},
     "output_type": "execute_result"
    }
   ],
   "execution_count": 68
  },
  {
   "metadata": {
    "ExecuteTime": {
     "end_time": "2024-11-05T08:42:50.029942Z",
     "start_time": "2024-11-05T08:42:49.235350Z"
    }
   },
   "cell_type": "code",
   "source": [
    "# Initialize and train the XGBoost classifier\n",
    "xgb_cnn_model = XGBClassifier(objective='multi:softmax', num_class=num_classes, eval_metric='mlogloss')\n",
    "xgb_cnn_model.fit(X_train_features, y_mfcc_train)"
   ],
   "id": "61cd78e93ae76412",
   "outputs": [
    {
     "data": {
      "text/plain": [
       "XGBClassifier(base_score=None, booster=None, callbacks=None,\n",
       "              colsample_bylevel=None, colsample_bynode=None,\n",
       "              colsample_bytree=None, device=None, early_stopping_rounds=None,\n",
       "              enable_categorical=False, eval_metric='mlogloss',\n",
       "              feature_types=None, gamma=None, grow_policy=None,\n",
       "              importance_type=None, interaction_constraints=None,\n",
       "              learning_rate=None, max_bin=None, max_cat_threshold=None,\n",
       "              max_cat_to_onehot=None, max_delta_step=None, max_depth=None,\n",
       "              max_leaves=None, min_child_weight=None, missing=nan,\n",
       "              monotone_constraints=None, multi_strategy=None, n_estimators=None,\n",
       "              n_jobs=None, num_class=5, num_parallel_tree=None, ...)"
      ],
      "text/html": [
       "<style>#sk-container-id-1 {color: black;}#sk-container-id-1 pre{padding: 0;}#sk-container-id-1 div.sk-toggleable {background-color: white;}#sk-container-id-1 label.sk-toggleable__label {cursor: pointer;display: block;width: 100%;margin-bottom: 0;padding: 0.3em;box-sizing: border-box;text-align: center;}#sk-container-id-1 label.sk-toggleable__label-arrow:before {content: \"▸\";float: left;margin-right: 0.25em;color: #696969;}#sk-container-id-1 label.sk-toggleable__label-arrow:hover:before {color: black;}#sk-container-id-1 div.sk-estimator:hover label.sk-toggleable__label-arrow:before {color: black;}#sk-container-id-1 div.sk-toggleable__content {max-height: 0;max-width: 0;overflow: hidden;text-align: left;background-color: #f0f8ff;}#sk-container-id-1 div.sk-toggleable__content pre {margin: 0.2em;color: black;border-radius: 0.25em;background-color: #f0f8ff;}#sk-container-id-1 input.sk-toggleable__control:checked~div.sk-toggleable__content {max-height: 200px;max-width: 100%;overflow: auto;}#sk-container-id-1 input.sk-toggleable__control:checked~label.sk-toggleable__label-arrow:before {content: \"▾\";}#sk-container-id-1 div.sk-estimator input.sk-toggleable__control:checked~label.sk-toggleable__label {background-color: #d4ebff;}#sk-container-id-1 div.sk-label input.sk-toggleable__control:checked~label.sk-toggleable__label {background-color: #d4ebff;}#sk-container-id-1 input.sk-hidden--visually {border: 0;clip: rect(1px 1px 1px 1px);clip: rect(1px, 1px, 1px, 1px);height: 1px;margin: -1px;overflow: hidden;padding: 0;position: absolute;width: 1px;}#sk-container-id-1 div.sk-estimator {font-family: monospace;background-color: #f0f8ff;border: 1px dotted black;border-radius: 0.25em;box-sizing: border-box;margin-bottom: 0.5em;}#sk-container-id-1 div.sk-estimator:hover {background-color: #d4ebff;}#sk-container-id-1 div.sk-parallel-item::after {content: \"\";width: 100%;border-bottom: 1px solid gray;flex-grow: 1;}#sk-container-id-1 div.sk-label:hover label.sk-toggleable__label {background-color: #d4ebff;}#sk-container-id-1 div.sk-serial::before {content: \"\";position: absolute;border-left: 1px solid gray;box-sizing: border-box;top: 0;bottom: 0;left: 50%;z-index: 0;}#sk-container-id-1 div.sk-serial {display: flex;flex-direction: column;align-items: center;background-color: white;padding-right: 0.2em;padding-left: 0.2em;position: relative;}#sk-container-id-1 div.sk-item {position: relative;z-index: 1;}#sk-container-id-1 div.sk-parallel {display: flex;align-items: stretch;justify-content: center;background-color: white;position: relative;}#sk-container-id-1 div.sk-item::before, #sk-container-id-1 div.sk-parallel-item::before {content: \"\";position: absolute;border-left: 1px solid gray;box-sizing: border-box;top: 0;bottom: 0;left: 50%;z-index: -1;}#sk-container-id-1 div.sk-parallel-item {display: flex;flex-direction: column;z-index: 1;position: relative;background-color: white;}#sk-container-id-1 div.sk-parallel-item:first-child::after {align-self: flex-end;width: 50%;}#sk-container-id-1 div.sk-parallel-item:last-child::after {align-self: flex-start;width: 50%;}#sk-container-id-1 div.sk-parallel-item:only-child::after {width: 0;}#sk-container-id-1 div.sk-dashed-wrapped {border: 1px dashed gray;margin: 0 0.4em 0.5em 0.4em;box-sizing: border-box;padding-bottom: 0.4em;background-color: white;}#sk-container-id-1 div.sk-label label {font-family: monospace;font-weight: bold;display: inline-block;line-height: 1.2em;}#sk-container-id-1 div.sk-label-container {text-align: center;}#sk-container-id-1 div.sk-container {/* jupyter's `normalize.less` sets `[hidden] { display: none; }` but bootstrap.min.css set `[hidden] { display: none !important; }` so we also need the `!important` here to be able to override the default hidden behavior on the sphinx rendered scikit-learn.org. See: https://github.com/scikit-learn/scikit-learn/issues/21755 */display: inline-block !important;position: relative;}#sk-container-id-1 div.sk-text-repr-fallback {display: none;}</style><div id=\"sk-container-id-1\" class=\"sk-top-container\"><div class=\"sk-text-repr-fallback\"><pre>XGBClassifier(base_score=None, booster=None, callbacks=None,\n",
       "              colsample_bylevel=None, colsample_bynode=None,\n",
       "              colsample_bytree=None, device=None, early_stopping_rounds=None,\n",
       "              enable_categorical=False, eval_metric=&#x27;mlogloss&#x27;,\n",
       "              feature_types=None, gamma=None, grow_policy=None,\n",
       "              importance_type=None, interaction_constraints=None,\n",
       "              learning_rate=None, max_bin=None, max_cat_threshold=None,\n",
       "              max_cat_to_onehot=None, max_delta_step=None, max_depth=None,\n",
       "              max_leaves=None, min_child_weight=None, missing=nan,\n",
       "              monotone_constraints=None, multi_strategy=None, n_estimators=None,\n",
       "              n_jobs=None, num_class=5, num_parallel_tree=None, ...)</pre><b>In a Jupyter environment, please rerun this cell to show the HTML representation or trust the notebook. <br />On GitHub, the HTML representation is unable to render, please try loading this page with nbviewer.org.</b></div><div class=\"sk-container\" hidden><div class=\"sk-item\"><div class=\"sk-estimator sk-toggleable\"><input class=\"sk-toggleable__control sk-hidden--visually\" id=\"sk-estimator-id-1\" type=\"checkbox\" checked><label for=\"sk-estimator-id-1\" class=\"sk-toggleable__label sk-toggleable__label-arrow\">XGBClassifier</label><div class=\"sk-toggleable__content\"><pre>XGBClassifier(base_score=None, booster=None, callbacks=None,\n",
       "              colsample_bylevel=None, colsample_bynode=None,\n",
       "              colsample_bytree=None, device=None, early_stopping_rounds=None,\n",
       "              enable_categorical=False, eval_metric=&#x27;mlogloss&#x27;,\n",
       "              feature_types=None, gamma=None, grow_policy=None,\n",
       "              importance_type=None, interaction_constraints=None,\n",
       "              learning_rate=None, max_bin=None, max_cat_threshold=None,\n",
       "              max_cat_to_onehot=None, max_delta_step=None, max_depth=None,\n",
       "              max_leaves=None, min_child_weight=None, missing=nan,\n",
       "              monotone_constraints=None, multi_strategy=None, n_estimators=None,\n",
       "              n_jobs=None, num_class=5, num_parallel_tree=None, ...)</pre></div></div></div></div></div>"
      ]
     },
     "execution_count": 69,
     "metadata": {},
     "output_type": "execute_result"
    }
   ],
   "execution_count": 69
  },
  {
   "metadata": {
    "ExecuteTime": {
     "end_time": "2024-11-05T08:42:50.046392Z",
     "start_time": "2024-11-05T08:42:50.031019Z"
    }
   },
   "cell_type": "code",
   "source": "",
   "id": "5955e9349d7fff17",
   "outputs": [],
   "execution_count": 69
  },
  {
   "metadata": {
    "ExecuteTime": {
     "end_time": "2024-11-05T08:42:50.062061Z",
     "start_time": "2024-11-05T08:42:50.046922Z"
    }
   },
   "cell_type": "code",
   "source": [
    "# Make predictions with XGBoost\n",
    "y_pred_xgb_cnn = xgb_cnn_model.predict(X_test_features)"
   ],
   "id": "37f3605a1c81b767",
   "outputs": [],
   "execution_count": 70
  },
  {
   "metadata": {
    "ExecuteTime": {
     "end_time": "2024-11-05T08:42:50.077513Z",
     "start_time": "2024-11-05T08:42:50.062583Z"
    }
   },
   "cell_type": "code",
   "source": [
    "new_row_cv = pd.DataFrame([[\"CNN-XGBoost\", accuracy, f1, precision, recall]],\n",
    "                          columns=['Model', 'Accuracy', 'F1 Score', 'Precision', 'Recall'])\n",
    "results_df = pd.concat([results_df, new_row_cv], ignore_index=True)\n",
    "print(results_df)\n"
   ],
   "id": "6eacd781d9bd1f8b",
   "outputs": [
    {
     "name": "stdout",
     "output_type": "stream",
     "text": [
      "                       Model  Accuracy  F1 Score  Precision    Recall\n",
      "0            SVM (5-fold CV)  0.767123  0.748734   0.731613  0.767123\n",
      "1            KNN (5-fold CV)  0.838356  0.774607   0.719904  0.838356\n",
      "2  Random Forest (5-fold CV)  0.849315  0.780112   0.721336  0.849315\n",
      "3       AdaBoost (5-fold CV)  0.758904  0.736453   0.738580  0.758904\n",
      "4        XGBoost (5-fold CV)  0.843836  0.777370   0.720625  0.843836\n",
      "5                       LSTM  0.775362  0.730874   0.691214  0.775362\n",
      "6                        RNN  0.818841  0.750332   0.692402  0.818841\n",
      "7                        CNN  0.739130  0.665217   0.604743  0.739130\n",
      "8                CNN-XGBoost  0.739130  0.665217   0.604743  0.739130\n"
     ]
    }
   ],
   "execution_count": 71
  },
  {
   "metadata": {
    "ExecuteTime": {
     "end_time": "2024-11-05T08:42:50.634189Z",
     "start_time": "2024-11-05T08:42:50.078082Z"
    }
   },
   "cell_type": "code",
   "source": [
    "# Confusion Matrix\n",
    "cm = confusion_matrix(y_mfcc_test, y_pred_xgb_cnn)\n",
    "\n",
    "# Plotting the confusion matrix\n",
    "plt.figure(figsize=(10, 7))\n",
    "sns.heatmap(cm, annot=True, fmt='d', cmap='Blues', xticklabels=class_labels, yticklabels=class_labels)\n",
    "plt.xlabel('Predicted')\n",
    "plt.ylabel('Actual')\n",
    "plt.title('Confusion Matrix: CNN-XGBoost ')\n",
    "plt.show()"
   ],
   "id": "597c6e022693fe8",
   "outputs": [
    {
     "data": {
      "text/plain": [
       "<Figure size 1000x700 with 2 Axes>"
      ],
      "image/png": "[encoded data removed]"
     },
     "metadata": {},
     "output_type": "display_data"
    }
   ],
   "execution_count": 72
  },
  {
   "metadata": {},
   "cell_type": "markdown",
   "source": "10.CNN-LSTM",
   "id": "b21a4eae9cbb9a89"
  },
  {
   "metadata": {
    "ExecuteTime": {
     "end_time": "2024-11-05T08:42:50.775299Z",
     "start_time": "2024-11-05T08:42:50.634189Z"
    }
   },
   "cell_type": "code",
   "source": [
    "# CNN-LSTM Model\n",
    "cnn_lstm_model = Sequential()\n",
    "cnn_lstm_model.add(Conv1D(64, kernel_size=3, activation='relu', input_shape=(timesteps, n_features)))\n",
    "cnn_lstm_model.add(MaxPooling1D(pool_size=2))\n",
    "cnn_lstm_model.add(LSTM(64, activation='relu'))\n",
    "cnn_lstm_model.add(Dropout(0.5))\n",
    "cnn_lstm_model.add(Dense(num_classes, activation='softmax'))"
   ],
   "id": "52647d477200738f",
   "outputs": [],
   "execution_count": 73
  },
  {
   "metadata": {
    "ExecuteTime": {
     "end_time": "2024-11-05T08:42:55.312483Z",
     "start_time": "2024-11-05T08:42:50.775299Z"
    }
   },
   "cell_type": "code",
   "source": [
    "# Compile and Train the Model\n",
    "cnn_lstm_model.compile(optimizer='adam', loss='categorical_crossentropy', metrics=['accuracy'])\n",
    "cnn_lstm_model.fit(X_mfcc_train_cnn, y_train_cnn, epochs=20, batch_size=32, validation_split=0.2, verbose=2)"
   ],
   "id": "2104f96e72eec010",
   "outputs": [
    {
     "name": "stdout",
     "output_type": "stream",
     "text": [
      "Epoch 1/20\n",
      "10/10 - 2s - loss: 16.6110 - accuracy: 0.5479 - val_loss: 6.2412 - val_accuracy: 0.7534 - 2s/epoch - 220ms/step\n",
      "Epoch 2/20\n",
      "10/10 - 0s - loss: 5.6268 - accuracy: 0.6438 - val_loss: 2.1757 - val_accuracy: 0.7534 - 125ms/epoch - 13ms/step\n",
      "Epoch 3/20\n",
      "10/10 - 0s - loss: 3.6273 - accuracy: 0.5342 - val_loss: 1.6159 - val_accuracy: 0.8219 - 126ms/epoch - 13ms/step\n",
      "Epoch 4/20\n",
      "10/10 - 0s - loss: 1.3462 - accuracy: 0.6815 - val_loss: 1.3253 - val_accuracy: 0.7671 - 141ms/epoch - 14ms/step\n",
      "Epoch 5/20\n",
      "10/10 - 0s - loss: 1.2241 - accuracy: 0.8014 - val_loss: 1.1355 - val_accuracy: 0.7808 - 94ms/epoch - 9ms/step\n",
      "Epoch 6/20\n",
      "10/10 - 0s - loss: 1.0804 - accuracy: 0.8288 - val_loss: 0.9776 - val_accuracy: 0.7671 - 110ms/epoch - 11ms/step\n",
      "Epoch 7/20\n",
      "10/10 - 0s - loss: 1.1181 - accuracy: 0.8390 - val_loss: 1.0177 - val_accuracy: 0.7534 - 125ms/epoch - 13ms/step\n",
      "Epoch 8/20\n",
      "10/10 - 0s - loss: 1.1339 - accuracy: 0.8082 - val_loss: 0.8800 - val_accuracy: 0.7808 - 110ms/epoch - 11ms/step\n",
      "Epoch 9/20\n",
      "10/10 - 0s - loss: 0.9945 - accuracy: 0.8356 - val_loss: 0.8472 - val_accuracy: 0.7945 - 104ms/epoch - 10ms/step\n",
      "Epoch 10/20\n",
      "10/10 - 0s - loss: 0.8584 - accuracy: 0.8322 - val_loss: 1.0197 - val_accuracy: 0.7945 - 116ms/epoch - 12ms/step\n",
      "Epoch 11/20\n",
      "10/10 - 0s - loss: 1.0065 - accuracy: 0.8390 - val_loss: 1.0120 - val_accuracy: 0.7945 - 94ms/epoch - 9ms/step\n",
      "Epoch 12/20\n",
      "10/10 - 0s - loss: 0.8343 - accuracy: 0.8562 - val_loss: 0.9553 - val_accuracy: 0.8082 - 79ms/epoch - 8ms/step\n",
      "Epoch 13/20\n",
      "10/10 - 0s - loss: 0.9110 - accuracy: 0.8425 - val_loss: 1.0840 - val_accuracy: 0.8082 - 97ms/epoch - 10ms/step\n",
      "Epoch 14/20\n",
      "10/10 - 0s - loss: 1.1917 - accuracy: 0.8390 - val_loss: 1.1673 - val_accuracy: 0.7397 - 100ms/epoch - 10ms/step\n",
      "Epoch 15/20\n",
      "10/10 - 0s - loss: 1.0594 - accuracy: 0.8082 - val_loss: 1.2711 - val_accuracy: 0.7808 - 133ms/epoch - 13ms/step\n",
      "Epoch 16/20\n",
      "10/10 - 0s - loss: 1.0130 - accuracy: 0.8459 - val_loss: 0.8593 - val_accuracy: 0.7945 - 110ms/epoch - 11ms/step\n",
      "Epoch 17/20\n",
      "10/10 - 0s - loss: 0.9613 - accuracy: 0.8425 - val_loss: 1.1662 - val_accuracy: 0.8082 - 94ms/epoch - 9ms/step\n",
      "Epoch 18/20\n",
      "10/10 - 0s - loss: 1.1343 - accuracy: 0.8151 - val_loss: 0.9764 - val_accuracy: 0.8082 - 142ms/epoch - 14ms/step\n",
      "Epoch 19/20\n",
      "10/10 - 0s - loss: 1.0469 - accuracy: 0.8459 - val_loss: 0.8651 - val_accuracy: 0.8082 - 125ms/epoch - 13ms/step\n",
      "Epoch 20/20\n",
      "10/10 - 0s - loss: 1.0068 - accuracy: 0.8253 - val_loss: 0.9231 - val_accuracy: 0.7945 - 110ms/epoch - 11ms/step\n"
     ]
    },
    {
     "data": {
      "text/plain": [
       "<keras.src.callbacks.History at 0x1da93363100>"
      ]
     },
     "execution_count": 74,
     "metadata": {},
     "output_type": "execute_result"
    }
   ],
   "execution_count": 74
  },
  {
   "metadata": {
    "ExecuteTime": {
     "end_time": "2024-11-05T08:42:55.437967Z",
     "start_time": "2024-11-05T08:42:55.312483Z"
    }
   },
   "cell_type": "code",
   "source": [
    "# Make predictions on the test data\n",
    "y_pred_cnn_lstm = cnn_model.predict(X_mfcc_test_cnn)\n",
    "# Convert predictions and true labels from one-hot encoded format to class labels\n",
    "y_pred_classes_cnn_lstm = np.argmax(y_pred_cnn_lstm, axis=1)\n",
    "y_true_classes_cnn_lstm = np.argmax(y_pred_cnn_lstm, axis=1)\n",
    "\n",
    "# Generate a classification report\n",
    "print(classification_report(y_true_classes_cnn_lstm, y_pred_classes_cnn_lstm))"
   ],
   "id": "f98329ac734021ca",
   "outputs": [
    {
     "name": "stdout",
     "output_type": "stream",
     "text": [
      "3/3 [==============================] - 0s 8ms/step\n",
      "              precision    recall  f1-score   support\n",
      "\n",
      "           0       1.00      1.00      1.00         2\n",
      "           3       1.00      1.00      1.00        88\n",
      "           4       1.00      1.00      1.00         2\n",
      "\n",
      "    accuracy                           1.00        92\n",
      "   macro avg       1.00      1.00      1.00        92\n",
      "weighted avg       1.00      1.00      1.00        92\n",
      "\n"
     ]
    }
   ],
   "execution_count": 75
  },
  {
   "metadata": {
    "ExecuteTime": {
     "end_time": "2024-11-05T08:42:55.704632Z",
     "start_time": "2024-11-05T08:42:55.437967Z"
    }
   },
   "cell_type": "code",
   "source": [
    "# Make predictions on the test data\n",
    "y_pred_cnn_lstm = cnn_lstm_model.predict(X_mfcc_test_cnn)\n",
    "\n",
    "# Convert predictions and true labels to class labels\n",
    "y_pred_classes = np.argmax(y_pred_cnn_lstm, axis=1)\n",
    "y_true_classes = np.argmax(y_test_cnn, axis=1)\n"
   ],
   "id": "5554c3057f82bfde",
   "outputs": [
    {
     "name": "stdout",
     "output_type": "stream",
     "text": [
      "3/3 [==============================] - 0s 8ms/step\n"
     ]
    }
   ],
   "execution_count": 76
  },
  {
   "metadata": {
    "ExecuteTime": {
     "end_time": "2024-11-05T08:42:55.752Z",
     "start_time": "2024-11-05T08:42:55.708675Z"
    }
   },
   "cell_type": "code",
   "source": [
    "# Accuracy\n",
    "accuracy = accuracy_score(y_true_classes, y_pred_classes)\n",
    "\n",
    "# F1 Score\n",
    "f1 = f1_score(y_true_classes, y_pred_classes, average='weighted')\n",
    "\n",
    "# Precision\n",
    "precision = precision_score(y_true_classes, y_pred_classes, average='weighted')\n",
    "\n",
    "# Recall\n",
    "recall = recall_score(y_true_classes, y_pred_classes, average='weighted')\n",
    "\n",
    "# Print the metrics\n",
    "print(f\"Accuracy: {accuracy:.4f}\")\n",
    "print(f\"F1 Score: {f1:.4f}\")\n",
    "print(f\"Precision: {precision:.4f}\")\n",
    "print(f\"Recall: {recall:.4f}\")"
   ],
   "id": "9df7c697c4d1cd",
   "outputs": [
    {
     "name": "stdout",
     "output_type": "stream",
     "text": [
      "Accuracy: 0.7826\n",
      "F1 Score: 0.6872\n",
      "Precision: 0.6125\n",
      "Recall: 0.7826\n"
     ]
    },
    {
     "name": "stderr",
     "output_type": "stream",
     "text": [
      "D:\\NCI\\Sem 3\\Thesis\\code_DB\\newBabyCryAnalysis\\pythonProject\\.venv\\lib\\site-packages\\sklearn\\metrics\\_classification.py:1471: UndefinedMetricWarning: Precision is ill-defined and being set to 0.0 in labels with no predicted samples. Use `zero_division` parameter to control this behavior.\n",
      "  _warn_prf(average, modifier, msg_start, len(result))\n"
     ]
    }
   ],
   "execution_count": 77
  },
  {
   "metadata": {
    "ExecuteTime": {
     "end_time": "2024-11-05T08:42:55.783239Z",
     "start_time": "2024-11-05T08:42:55.752Z"
    }
   },
   "cell_type": "code",
   "source": [
    "new_row_cv = pd.DataFrame([[\"CNN-LSTM\", accuracy, f1, precision, recall]],\n",
    "                          columns=['Model', 'Accuracy', 'F1 Score', 'Precision', 'Recall'])\n",
    "results_df = pd.concat([results_df, new_row_cv], ignore_index=True)\n",
    "print(results_df)"
   ],
   "id": "7696c4f0a3b417b5",
   "outputs": [
    {
     "name": "stdout",
     "output_type": "stream",
     "text": [
      "                       Model  Accuracy  F1 Score  Precision    Recall\n",
      "0            SVM (5-fold CV)  0.767123  0.748734   0.731613  0.767123\n",
      "1            KNN (5-fold CV)  0.838356  0.774607   0.719904  0.838356\n",
      "2  Random Forest (5-fold CV)  0.849315  0.780112   0.721336  0.849315\n",
      "3       AdaBoost (5-fold CV)  0.758904  0.736453   0.738580  0.758904\n",
      "4        XGBoost (5-fold CV)  0.843836  0.777370   0.720625  0.843836\n",
      "5                       LSTM  0.775362  0.730874   0.691214  0.775362\n",
      "6                        RNN  0.818841  0.750332   0.692402  0.818841\n",
      "7                        CNN  0.739130  0.665217   0.604743  0.739130\n",
      "8                CNN-XGBoost  0.739130  0.665217   0.604743  0.739130\n",
      "9                   CNN-LSTM  0.782609  0.687169   0.612476  0.782609\n"
     ]
    }
   ],
   "execution_count": 78
  },
  {
   "metadata": {},
   "cell_type": "markdown",
   "source": "11.Ensemble learning",
   "id": "77dd4b0c7bfc6634"
  },
  {
   "metadata": {
    "ExecuteTime": {
     "end_time": "2024-11-05T09:40:56.377339Z",
     "start_time": "2024-11-05T09:40:56.364829Z"
    }
   },
   "cell_type": "code",
   "source": [
    "timesteps = 1\n",
    "n_features = X_mfcc_train.shape[1] # Adjust n_features\n",
    "\n"
   ],
   "id": "74fd80baab550270",
   "outputs": [],
   "execution_count": 98
  },
  {
   "metadata": {
    "ExecuteTime": {
     "end_time": "2024-11-05T09:41:01.352156Z",
     "start_time": "2024-11-05T09:41:01.336527Z"
    }
   },
   "cell_type": "code",
   "source": [
    "# Reshaping data for CNN\n",
    "X_mfcc_train_cnn = X_mfcc_train.reshape((X_mfcc_train.shape[0], timesteps, n_features))\n",
    "X_mfcc_test_cnn = X_mfcc_test.reshape((X_mfcc_test.shape[0], timesteps, n_features))\n",
    "\n",
    "# Check the shapes\n",
    "print(\"Training data shape:\", X_mfcc_train_cnn.shape)\n",
    "print(\"Testing data shape:\", X_mfcc_test_cnn.shape)\n",
    "\n"
   ],
   "id": "374561cb9e026f2c",
   "outputs": [
    {
     "name": "stdout",
     "output_type": "stream",
     "text": [
      "Training data shape: (365, 1, 2262)\n",
      "Testing data shape: (92, 1, 2262)\n"
     ]
    }
   ],
   "execution_count": 100
  },
  {
   "metadata": {
    "ExecuteTime": {
     "end_time": "2024-11-05T09:41:14.845318Z",
     "start_time": "2024-11-05T09:41:06.647343Z"
    }
   },
   "cell_type": "code",
   "source": [
    "# Check the shapes\n",
    "print(\"Training data shape:\", X_mfcc_train_cnn.shape)\n",
    "print(\"Testing data shape:\", X_mfcc_test_cnn.shape)\n",
    "from tensorflow.keras.utils import to_categorical\n",
    "\n",
    "# Convert labels to categorical if they are not already\n",
    "num_classes = len(np.unique(y_mfcc_train))\n",
    "y_mfcc_train_categorical = to_categorical(y_mfcc_train, num_classes=num_classes)\n",
    "\n",
    "# Step 2: Define a CNN model for feature extraction\n",
    "en_cnn_model = Sequential()\n",
    "en_cnn_model.add(Conv1D(64, kernel_size=1, activation='relu', input_shape=(timesteps, n_features)))\n",
    "en_cnn_model.add(MaxPooling1D(pool_size=1))\n",
    "en_cnn_model.add(Flatten())\n",
    "en_cnn_model.add(Dense(128, activation='relu'))  # Intermediate dense layer if needed\n",
    "en_cnn_model.add(Dense(num_classes, activation='softmax'))  # Output layer for multi-class\n",
    "\n",
    "# Compile and train the CNN model\n",
    "en_cnn_model.compile(optimizer='adam', loss='categorical_crossentropy', metrics=['accuracy'])\n",
    "\n",
    "# Fit the model\n",
    "en_cnn_model.fit(X_mfcc_train_cnn, y_mfcc_train_categorical, epochs=20, batch_size=32, validation_split=0.2, verbose=2)\n",
    "\n",
    "# Step 3: Extract CNN features\n",
    "train_features = en_cnn_model.predict(X_mfcc_train_cnn)\n",
    "test_features = en_cnn_model.predict(X_mfcc_test_cnn)\n",
    "# Step 4: Define base classifiers and meta-classifier for stacking\n",
    "base_learners = [\n",
    "    ('rf', RandomForestClassifier(n_estimators=100, random_state=42)),\n",
    "    ('svm', SVC(kernel='linear', probability=True)),\n",
    "    ('xgb',\n",
    "     XGBClassifier(n_estimators=100, max_depth=5, random_state=42, use_label_encoder=False, eval_metric='mlogloss'))\n",
    "]\n",
    "\n",
    "# Meta-classifier (Logistic Regression in this case)\n",
    "meta_learner = LogisticRegression(random_state=42)\n",
    "\n",
    "# Step 5: Create a stacking classifier\n",
    "stacking_clf = StackingClassifier(estimators=base_learners, final_estimator=meta_learner, cv=5)\n",
    "\n",
    "# Train the stacking classifier\n",
    "stacking_clf.fit(train_features, y_mfcc_train)\n",
    "\n",
    "# Step 6: Make predictions with the stacking model\n",
    "y_pred_stacking = stacking_clf.predict(test_features)\n",
    "\n",
    "# Step 7: Evaluate the model\n",
    "accuracy = accuracy_score(y_mfcc_test, y_pred_stacking)\n",
    "f1 = f1_score(y_mfcc_test, y_pred_stacking, average='weighted')\n",
    "precision = precision_score(y_mfcc_test, y_pred_stacking, average='weighted')\n",
    "recall = recall_score(y_mfcc_test, y_pred_stacking, average='weighted')\n",
    "\n",
    "print(f'Ensemble Accuracy: {accuracy * 100:.2f}%')\n",
    "print(f'Ensemble F1 Score: {f1:.2f}')\n",
    "print(f'Ensemble Precision: {precision:.2f}')\n",
    "print(f'Ensemble Recall: {recall:.2f}')\n",
    "new_row_cv = pd.DataFrame([[\"Ensemble Model(CNN,RandomForest, XGBoost, SVM,LR)\", accuracy, f1, precision, recall]],\n",
    "                          columns=['Model', 'Accuracy', 'F1 Score', 'Precision', 'Recall'])\n",
    "results_df = pd.concat([results_df, new_row_cv], ignore_index=True)\n",
    "print(results_df)\n"
   ],
   "id": "f8981c181a64acaf",
   "outputs": [
    {
     "name": "stdout",
     "output_type": "stream",
     "text": [
      "Training data shape: (365, 1, 2262)\n",
      "Testing data shape: (92, 1, 2262)\n",
      "Epoch 1/20\n",
      "10/10 - 1s - loss: 51.8392 - accuracy: 0.6712 - val_loss: 57.9821 - val_accuracy: 0.8082 - 758ms/epoch - 76ms/step\n",
      "Epoch 2/20\n",
      "10/10 - 0s - loss: 37.2040 - accuracy: 0.7877 - val_loss: 27.3654 - val_accuracy: 0.7945 - 63ms/epoch - 6ms/step\n",
      "Epoch 3/20\n",
      "10/10 - 0s - loss: 11.6415 - accuracy: 0.7466 - val_loss: 14.1149 - val_accuracy: 0.8082 - 47ms/epoch - 5ms/step\n",
      "Epoch 4/20\n",
      "10/10 - 0s - loss: 9.4433 - accuracy: 0.7603 - val_loss: 23.7433 - val_accuracy: 0.8082 - 47ms/epoch - 5ms/step\n",
      "Epoch 5/20\n",
      "10/10 - 0s - loss: 6.4948 - accuracy: 0.8116 - val_loss: 8.5531 - val_accuracy: 0.4247 - 38ms/epoch - 4ms/step\n",
      "Epoch 6/20\n",
      "10/10 - 0s - loss: 4.5752 - accuracy: 0.7979 - val_loss: 12.0200 - val_accuracy: 0.7534 - 47ms/epoch - 5ms/step\n",
      "Epoch 7/20\n",
      "10/10 - 0s - loss: 3.0703 - accuracy: 0.8014 - val_loss: 6.2114 - val_accuracy: 0.6301 - 63ms/epoch - 6ms/step\n",
      "Epoch 8/20\n",
      "10/10 - 0s - loss: 1.9216 - accuracy: 0.8356 - val_loss: 7.7262 - val_accuracy: 0.3973 - 63ms/epoch - 6ms/step\n",
      "Epoch 9/20\n",
      "10/10 - 0s - loss: 2.8047 - accuracy: 0.8253 - val_loss: 7.8742 - val_accuracy: 0.7123 - 63ms/epoch - 6ms/step\n",
      "Epoch 10/20\n",
      "10/10 - 0s - loss: 1.7871 - accuracy: 0.8390 - val_loss: 7.8492 - val_accuracy: 0.7534 - 57ms/epoch - 6ms/step\n",
      "Epoch 11/20\n",
      "10/10 - 0s - loss: 1.1872 - accuracy: 0.8459 - val_loss: 7.2617 - val_accuracy: 0.7534 - 67ms/epoch - 7ms/step\n",
      "Epoch 12/20\n",
      "10/10 - 0s - loss: 1.2693 - accuracy: 0.8459 - val_loss: 6.4306 - val_accuracy: 0.5890 - 79ms/epoch - 8ms/step\n",
      "Epoch 13/20\n",
      "10/10 - 0s - loss: 4.6858 - accuracy: 0.7568 - val_loss: 14.4666 - val_accuracy: 0.7671 - 78ms/epoch - 8ms/step\n",
      "Epoch 14/20\n",
      "10/10 - 0s - loss: 6.1304 - accuracy: 0.8356 - val_loss: 9.7345 - val_accuracy: 0.7945 - 79ms/epoch - 8ms/step\n",
      "Epoch 15/20\n",
      "10/10 - 0s - loss: 2.9864 - accuracy: 0.8562 - val_loss: 10.3634 - val_accuracy: 0.7945 - 79ms/epoch - 8ms/step\n",
      "Epoch 16/20\n",
      "10/10 - 0s - loss: 6.7656 - accuracy: 0.7911 - val_loss: 10.4752 - val_accuracy: 0.8082 - 79ms/epoch - 8ms/step\n",
      "Epoch 17/20\n",
      "10/10 - 0s - loss: 6.0472 - accuracy: 0.8459 - val_loss: 12.6696 - val_accuracy: 0.7945 - 86ms/epoch - 9ms/step\n",
      "Epoch 18/20\n",
      "10/10 - 0s - loss: 4.0870 - accuracy: 0.8527 - val_loss: 7.0106 - val_accuracy: 0.7123 - 67ms/epoch - 7ms/step\n",
      "Epoch 19/20\n",
      "10/10 - 0s - loss: 1.5476 - accuracy: 0.8322 - val_loss: 7.3945 - val_accuracy: 0.7260 - 94ms/epoch - 9ms/step\n",
      "Epoch 20/20\n",
      "10/10 - 0s - loss: 1.2612 - accuracy: 0.8596 - val_loss: 5.7882 - val_accuracy: 0.6438 - 63ms/epoch - 6ms/step\n",
      "12/12 [==============================] - 0s 2ms/step\n",
      "3/3 [==============================] - 0s 0s/step\n"
     ]
    },
    {
     "name": "stderr",
     "output_type": "stream",
     "text": [
      "D:\\NCI\\Sem 3\\Thesis\\code_DB\\newBabyCryAnalysis\\pythonProject\\.venv\\lib\\site-packages\\xgboost\\core.py:158: UserWarning: [15:11:11] WARNING: C:\\buildkite-agent\\builds\\buildkite-windows-cpu-autoscaling-group-i-0015a694724fa8361-1\\xgboost\\xgboost-ci-windows\\src\\learner.cc:740: \n",
      "Parameters: { \"use_label_encoder\" } are not used.\n",
      "\n",
      "  warnings.warn(smsg, UserWarning)\n",
      "D:\\NCI\\Sem 3\\Thesis\\code_DB\\newBabyCryAnalysis\\pythonProject\\.venv\\lib\\site-packages\\xgboost\\core.py:158: UserWarning: [15:11:13] WARNING: C:\\buildkite-agent\\builds\\buildkite-windows-cpu-autoscaling-group-i-0015a694724fa8361-1\\xgboost\\xgboost-ci-windows\\src\\learner.cc:740: \n",
      "Parameters: { \"use_label_encoder\" } are not used.\n",
      "\n",
      "  warnings.warn(smsg, UserWarning)\n",
      "D:\\NCI\\Sem 3\\Thesis\\code_DB\\newBabyCryAnalysis\\pythonProject\\.venv\\lib\\site-packages\\xgboost\\core.py:158: UserWarning: [15:11:14] WARNING: C:\\buildkite-agent\\builds\\buildkite-windows-cpu-autoscaling-group-i-0015a694724fa8361-1\\xgboost\\xgboost-ci-windows\\src\\learner.cc:740: \n",
      "Parameters: { \"use_label_encoder\" } are not used.\n",
      "\n",
      "  warnings.warn(smsg, UserWarning)\n"
     ]
    },
    {
     "name": "stdout",
     "output_type": "stream",
     "text": [
      "Ensemble Accuracy: 78.26%\n",
      "Ensemble F1 Score: 0.71\n",
      "Ensemble Precision: 0.69\n",
      "Ensemble Recall: 0.78\n",
      "                                                Model  Accuracy  F1 Score  \\\n",
      "0                                     SVM (5-fold CV)  0.767123  0.748734   \n",
      "1                                     KNN (5-fold CV)  0.838356  0.774607   \n",
      "2                           Random Forest (5-fold CV)  0.849315  0.780112   \n",
      "3                                AdaBoost (5-fold CV)  0.758904  0.736453   \n",
      "4                                 XGBoost (5-fold CV)  0.843836  0.777370   \n",
      "5                                                LSTM  0.775362  0.730874   \n",
      "6                                                 RNN  0.818841  0.750332   \n",
      "7                                                 CNN  0.739130  0.665217   \n",
      "8                                         CNN-XGBoost  0.739130  0.665217   \n",
      "9                                            CNN-LSTM  0.782609  0.687169   \n",
      "10  Ensemble Model(CNN,RandomForest, XGBoost, SVM,LR)  0.782609  0.705012   \n",
      "\n",
      "    Precision    Recall  \n",
      "0    0.731613  0.767123  \n",
      "1    0.719904  0.838356  \n",
      "2    0.721336  0.849315  \n",
      "3    0.738580  0.758904  \n",
      "4    0.720625  0.843836  \n",
      "5    0.691214  0.775362  \n",
      "6    0.692402  0.818841  \n",
      "7    0.604743  0.739130  \n",
      "8    0.604743  0.739130  \n",
      "9    0.612476  0.782609  \n",
      "10   0.693478  0.782609  \n"
     ]
    },
    {
     "name": "stderr",
     "output_type": "stream",
     "text": [
      "D:\\NCI\\Sem 3\\Thesis\\code_DB\\newBabyCryAnalysis\\pythonProject\\.venv\\lib\\site-packages\\sklearn\\metrics\\_classification.py:1471: UndefinedMetricWarning: Precision is ill-defined and being set to 0.0 in labels with no predicted samples. Use `zero_division` parameter to control this behavior.\n",
      "  _warn_prf(average, modifier, msg_start, len(result))\n"
     ]
    }
   ],
   "execution_count": 101
  },
  {
   "metadata": {
    "ExecuteTime": {
     "end_time": "2024-11-05T09:41:33.715972Z",
     "start_time": "2024-11-05T09:41:33.684688Z"
    }
   },
   "cell_type": "code",
   "source": "results_df",
   "id": "f6c864f91dab9b2b",
   "outputs": [
    {
     "data": {
      "text/plain": [
       "                                                Model  Accuracy  F1 Score  \\\n",
       "0                                     SVM (5-fold CV)  0.767123  0.748734   \n",
       "1                                     KNN (5-fold CV)  0.838356  0.774607   \n",
       "2                           Random Forest (5-fold CV)  0.849315  0.780112   \n",
       "3                                AdaBoost (5-fold CV)  0.758904  0.736453   \n",
       "4                                 XGBoost (5-fold CV)  0.843836  0.777370   \n",
       "5                                                LSTM  0.775362  0.730874   \n",
       "6                                                 RNN  0.818841  0.750332   \n",
       "7                                                 CNN  0.739130  0.665217   \n",
       "8                                         CNN-XGBoost  0.739130  0.665217   \n",
       "9                                            CNN-LSTM  0.782609  0.687169   \n",
       "10  Ensemble Model(CNN,RandomForest, XGBoost, SVM,LR)  0.782609  0.705012   \n",
       "\n",
       "    Precision    Recall  \n",
       "0    0.731613  0.767123  \n",
       "1    0.719904  0.838356  \n",
       "2    0.721336  0.849315  \n",
       "3    0.738580  0.758904  \n",
       "4    0.720625  0.843836  \n",
       "5    0.691214  0.775362  \n",
       "6    0.692402  0.818841  \n",
       "7    0.604743  0.739130  \n",
       "8    0.604743  0.739130  \n",
       "9    0.612476  0.782609  \n",
       "10   0.693478  0.782609  "
      ],
      "text/html": [
       "<div>\n",
       "<style scoped>\n",
       "    .dataframe tbody tr th:only-of-type {\n",
       "        vertical-align: middle;\n",
       "    }\n",
       "\n",
       "    .dataframe tbody tr th {\n",
       "        vertical-align: top;\n",
       "    }\n",
       "\n",
       "    .dataframe thead th {\n",
       "        text-align: right;\n",
       "    }\n",
       "</style>\n",
       "<table border=\"1\" class=\"dataframe\">\n",
       "  <thead>\n",
       "    <tr style=\"text-align: right;\">\n",
       "      <th></th>\n",
       "      <th>Model</th>\n",
       "      <th>Accuracy</th>\n",
       "      <th>F1 Score</th>\n",
       "      <th>Precision</th>\n",
       "      <th>Recall</th>\n",
       "    </tr>\n",
       "  </thead>\n",
       "  <tbody>\n",
       "    <tr>\n",
       "      <th>0</th>\n",
       "      <td>SVM (5-fold CV)</td>\n",
       "      <td>0.767123</td>\n",
       "      <td>0.748734</td>\n",
       "      <td>0.731613</td>\n",
       "      <td>0.767123</td>\n",
       "    </tr>\n",
       "    <tr>\n",
       "      <th>1</th>\n",
       "      <td>KNN (5-fold CV)</td>\n",
       "      <td>0.838356</td>\n",
       "      <td>0.774607</td>\n",
       "      <td>0.719904</td>\n",
       "      <td>0.838356</td>\n",
       "    </tr>\n",
       "    <tr>\n",
       "      <th>2</th>\n",
       "      <td>Random Forest (5-fold CV)</td>\n",
       "      <td>0.849315</td>\n",
       "      <td>0.780112</td>\n",
       "      <td>0.721336</td>\n",
       "      <td>0.849315</td>\n",
       "    </tr>\n",
       "    <tr>\n",
       "      <th>3</th>\n",
       "      <td>AdaBoost (5-fold CV)</td>\n",
       "      <td>0.758904</td>\n",
       "      <td>0.736453</td>\n",
       "      <td>0.738580</td>\n",
       "      <td>0.758904</td>\n",
       "    </tr>\n",
       "    <tr>\n",
       "      <th>4</th>\n",
       "      <td>XGBoost (5-fold CV)</td>\n",
       "      <td>0.843836</td>\n",
       "      <td>0.777370</td>\n",
       "      <td>0.720625</td>\n",
       "      <td>0.843836</td>\n",
       "    </tr>\n",
       "    <tr>\n",
       "      <th>5</th>\n",
       "      <td>LSTM</td>\n",
       "      <td>0.775362</td>\n",
       "      <td>0.730874</td>\n",
       "      <td>0.691214</td>\n",
       "      <td>0.775362</td>\n",
       "    </tr>\n",
       "    <tr>\n",
       "      <th>6</th>\n",
       "      <td>RNN</td>\n",
       "      <td>0.818841</td>\n",
       "      <td>0.750332</td>\n",
       "      <td>0.692402</td>\n",
       "      <td>0.818841</td>\n",
       "    </tr>\n",
       "    <tr>\n",
       "      <th>7</th>\n",
       "      <td>CNN</td>\n",
       "      <td>0.739130</td>\n",
       "      <td>0.665217</td>\n",
       "      <td>0.604743</td>\n",
       "      <td>0.739130</td>\n",
       "    </tr>\n",
       "    <tr>\n",
       "      <th>8</th>\n",
       "      <td>CNN-XGBoost</td>\n",
       "      <td>0.739130</td>\n",
       "      <td>0.665217</td>\n",
       "      <td>0.604743</td>\n",
       "      <td>0.739130</td>\n",
       "    </tr>\n",
       "    <tr>\n",
       "      <th>9</th>\n",
       "      <td>CNN-LSTM</td>\n",
       "      <td>0.782609</td>\n",
       "      <td>0.687169</td>\n",
       "      <td>0.612476</td>\n",
       "      <td>0.782609</td>\n",
       "    </tr>\n",
       "    <tr>\n",
       "      <th>10</th>\n",
       "      <td>Ensemble Model(CNN,RandomForest, XGBoost, SVM,LR)</td>\n",
       "      <td>0.782609</td>\n",
       "      <td>0.705012</td>\n",
       "      <td>0.693478</td>\n",
       "      <td>0.782609</td>\n",
       "    </tr>\n",
       "  </tbody>\n",
       "</table>\n",
       "</div>"
      ]
     },
     "execution_count": 102,
     "metadata": {},
     "output_type": "execute_result"
    }
   ],
   "execution_count": 102
  },
  {
   "metadata": {},
   "cell_type": "code",
   "outputs": [],
   "execution_count": null,
   "source": "",
   "id": "8e9757cd588c8e40"
  }
 ],
 "metadata": {
  "kernelspec": {
   "display_name": "Python 3",
   "language": "python",
   "name": "python3"
  },
  "language_info": {
   "codemirror_mode": {
    "name": "ipython",
    "version": 2
   },
   "file_extension": ".py",
   "mimetype": "text/x-python",
   "name": "python",
   "nbconvert_exporter": "python",
   "pygments_lexer": "ipython2",
   "version": "2.7.6"
  }
 },
 "nbformat": 4,
 "nbformat_minor": 5
}
